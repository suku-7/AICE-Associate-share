{
  "nbformat": 4,
  "nbformat_minor": 0,
  "metadata": {
    "colab": {
      "provenance": []
    },
    "kernelspec": {
      "name": "python3",
      "display_name": "Python 3"
    },
    "language_info": {
      "name": "python"
    }
  },
  "cells": [
    {
      "cell_type": "markdown",
      "source": [
        "AICE ASSOCIATE 자격시험\n",
        "\n",
        "시험 시간 : 00:00 ~ 00:00 (90분)\n",
        "남은 시간 : 1시간 30분 [V 임시저장] [V 최종제출]"
      ],
      "metadata": {
        "id": "vquI6WNU_g5k"
      }
    },
    {
      "cell_type": "markdown",
      "source": [
        "AICE Associate 자격인증 샘플문항\n",
        "심장질환 데이터셋을 이용한 **심장질환 여부** 예측 문제\n",
        "- 심장질환 데이터를 읽어들여 데이터를 분석 및 전처리한 후 머신러닝과 딥러닝으로 **심장질환 여부**를 예측하고 결과를 분석하세요."
      ],
      "metadata": {
        "id": "Bxnxurqt_4Xp"
      }
    },
    {
      "cell_type": "markdown",
      "source": [
        "---\n",
        "[유의사항]\n",
        "- 각 문항의 답안코드는 반드시 '#여기에 답안코드를 작성하세요'로 표시된 cell에 작성해야 합니다.\n",
        "- 제공된 시험문항 cell을 삭제하거나 답안 위치가 아닌 다른 cell에 답안코드를 작성 시 채점되지 않습니다.\n",
        "- 시험 중에는 상단의 '임시저장'버튼을 클릭하여 저장을 해주시고, 답안 제출시에는 '최종제출' 버튼을 클릭해주시기 바랍니다.\n",
        "- 반드시 문제에 제시된 가이드를 읽고 답안 작성하세요.\n",
        "- 자격인증 문제에 제공된 데이터는 제 3자에게 공유하거나 개인적인 용도로 사용하는 등 외부로 요출할 수 없으면 유출로 인한 책임은 응시자 본인에게 있습니다.\n",
        "- Copy & Paste를 위한 메모장, 노션 등을 사용할 경우 부정행위로 간주될 수 있습니다.\n",
        "- 생성형 AI를 활용한 검색은 부정행위로 별도의 경고조치 없이 적발 즉시 시험 중단될 수 있습니다."
      ],
      "metadata": {
        "id": "_48_KkI2ACHl"
      }
    },
    {
      "cell_type": "markdown",
      "source": [
        "---\n",
        "[데이터 컬럼 설명 (데이터 파일명: heart_disease.csv)]\n"
      ],
      "metadata": {
        "id": "-t-e-U-BQxsF"
      }
    },
    {
      "cell_type": "markdown",
      "source": [
        "| 컬럼명                   | 설명                                   |\n",
        "|---------------------------|--------------------------------------|\n",
        "| Age                       | 나이                                  |\n",
        "| Gender                    | 성별                                  |\n",
        "| Blood Pressure            | 혈압 (mmHg)                           |\n",
        "| Cholesterol Level         | 콜레스테롤 수치 (mg/dL)               |\n",
        "| Exercise Habits           | 운동 습관 (High, Medium, Low)         |\n",
        "| Smoking                   | 흡연 여부 (Yes, No)                   |\n",
        "| Family Heart Disease      | 가족력 심장질환 여부 (Yes, No)        |\n",
        "| Diabetes                  | 당뇨 여부 (Yes, No)                   |\n",
        "| BMI                       | 체질량지수                            |\n",
        "| High Blood Pressure       | 고혈압 여부 (Yes, No)                 |\n",
        "| Low HDL Cholesterol       | 좋은 콜레스테롤(HDL) 낮은 여부 (Yes, No) |\n",
        "| High LDL Cholesterol      | 나쁜 콜레스테롤(LDL) 높은 여부 (Yes, No) |\n",
        "| Alcohol Consumption       | 음주 수준 (High, Medium, Low)         |\n",
        "| Stress Level              | 스트레스 수준 (High, Medium, Low)     |\n",
        "| Sleep Hours               | 수면 시간 (시간 단위)                 |\n",
        "| Sugar Consumption         | 당분 섭취 수준 (High, Medium, Low)    |\n",
        "| Triglyceride Level        | 중성지방 수치 (mg/dL)                 |\n",
        "| Fasting Blood Sugar       | 공복 혈당 수치 (mg/dL)                |\n",
        "| CRP Level                 | 염증 수치 (C-반응성 단백질 수치)       |\n",
        "| Homocysteine Level        | 호모시스테인 수치 (심혈관 위험 지표)   |\n",
        "| Heart Disease Status      | 심장질환 여부 (Yes, No)               |"
      ],
      "metadata": {
        "id": "jwaE3pXSAeCh"
      }
    },
    {
      "cell_type": "markdown",
      "source": [
        "#1.데이터 분석에 필요한 파이썬 라이브러리를 불러오세요.\n",
        "- scikit-learn를 별칭(alias) sk로 임포트하는 코드를 작성하고 실행하세요.\n",
        "- numpy를 사용할 수 있도록 별칭(alias)을 np로 해서 불러오세요.\n",
        "- Pandas를 사용할 수 있도록 별칭(alias)을 pd로 해서 불러오세요."
      ],
      "metadata": {
        "id": "WZqlrJynBE-u"
      }
    },
    {
      "cell_type": "code",
      "source": [
        "# 여기에 답안코드를 작성하세요.\n",
        "import sklearn as sk\n",
        "import numpy as np\n",
        "import pandas as pd"
      ],
      "metadata": {
        "id": "bIFdZXN5BClx"
      },
      "execution_count": 21,
      "outputs": []
    },
    {
      "cell_type": "markdown",
      "source": [
        "#2.데이터 시각화를 위해 널리 사용되는 파이썬 라이브러리를 불러오세요.\n",
        "- matplotlib.pyplot를 사용할 수 있도록 별칭(alias)을 plt로 해서 불러오세요.\n",
        "- seaborn을 사용할 수 있도록 별칭(alias)를 sns로 해서 불러오세요."
      ],
      "metadata": {
        "id": "MdneWHIsBc7h"
      }
    },
    {
      "cell_type": "code",
      "source": [
        "# 여기에 답안코드를 작성하세요.\n",
        "import matplotlib.pyplot as plt\n",
        "import seaborn as sns\n"
      ],
      "metadata": {
        "id": "br40t-shBnUK"
      },
      "execution_count": 22,
      "outputs": []
    },
    {
      "cell_type": "markdown",
      "source": [
        "#3. 데이터 불러오기, 행, 열 갯수 확인\n",
        "###Pandas함수로 데이터 파일을 읽고 데이터프레임 변수명 heart_df에 할당하는 코드를 작성하세요.\n",
        "- heart_disease.csv 파일을 읽어 데이터 프레임 변수명 heart_df에 할당하세요.\n",
        "- heart_df 데이터셋의 행(Row)과 열(Column) 개수를 확인하여, 결과를 리스트 형태로 '답안03' 변수에 저장하세요.  \n",
        "- 리스트 형태는 [행 개수, 열 개수] 입니다.  \n",
        "- 예시: [100, 10] → 100개의 행, 10개의 열\n"
      ],
      "metadata": {
        "id": "PbT9WW2yBpkv"
      }
    },
    {
      "cell_type": "code",
      "source": [
        "# 여기에 답안코드를 작성하세요.\n",
        "heart_df = pd.read_csv('heart_disease.csv')\n",
        "heart_df.info()\n",
        "#heart_df\n",
        "답안03 = [heart_df.shape[0], heart_df.shape[1]]\n",
        "print(답안03)"
      ],
      "metadata": {
        "id": "vIN9xtoRB0LH",
        "colab": {
          "base_uri": "https://localhost:8080/"
        },
        "outputId": "ab0a9ff6-6975-4d31-81f2-2954c778992b"
      },
      "execution_count": 23,
      "outputs": [
        {
          "output_type": "stream",
          "name": "stdout",
          "text": [
            "<class 'pandas.core.frame.DataFrame'>\n",
            "RangeIndex: 10000 entries, 0 to 9999\n",
            "Data columns (total 21 columns):\n",
            " #   Column                Non-Null Count  Dtype  \n",
            "---  ------                --------------  -----  \n",
            " 0   Age                   9971 non-null   float64\n",
            " 1   Gender                9981 non-null   object \n",
            " 2   Blood Pressure        9981 non-null   float64\n",
            " 3   Cholesterol Level     9970 non-null   float64\n",
            " 4   Exercise Habits       9975 non-null   object \n",
            " 5   Smoking               9975 non-null   object \n",
            " 6   Family Heart Disease  9979 non-null   object \n",
            " 7   Diabetes              9970 non-null   object \n",
            " 8   BMI                   9978 non-null   float64\n",
            " 9   High Blood Pressure   9974 non-null   object \n",
            " 10  Low HDL Cholesterol   9975 non-null   object \n",
            " 11  High LDL Cholesterol  9974 non-null   object \n",
            " 12  Alcohol Consumption   7414 non-null   object \n",
            " 13  Stress Level          9978 non-null   object \n",
            " 14  Sleep Hours           9975 non-null   float64\n",
            " 15  Sugar Consumption     9970 non-null   object \n",
            " 16  Triglyceride Level    9974 non-null   float64\n",
            " 17  Fasting Blood Sugar   9978 non-null   float64\n",
            " 18  CRP Level             9974 non-null   float64\n",
            " 19  Homocysteine Level    9980 non-null   float64\n",
            " 20  Heart Disease Status  10000 non-null  object \n",
            "dtypes: float64(9), object(12)\n",
            "memory usage: 1.6+ MB\n",
            "[10000, 21]\n"
          ]
        }
      ]
    },
    {
      "cell_type": "code",
      "source": [
        "heart_df"
      ],
      "metadata": {
        "colab": {
          "base_uri": "https://localhost:8080/",
          "height": 478
        },
        "id": "UNCOzy-nTMfZ",
        "outputId": "eed2b1e7-1a9c-4048-ca03-866ee3947650"
      },
      "execution_count": 24,
      "outputs": [
        {
          "output_type": "execute_result",
          "data": {
            "text/plain": [
              "       Age  Gender  Blood Pressure  Cholesterol Level Exercise Habits Smoking  \\\n",
              "0     56.0    Male           153.0              155.0            High     Yes   \n",
              "1     69.0  Female           146.0              286.0            High      No   \n",
              "2     46.0    Male           126.0              216.0             Low      No   \n",
              "3     32.0  Female           122.0              293.0            High     Yes   \n",
              "4     60.0    Male           166.0              242.0             Low     Yes   \n",
              "...    ...     ...             ...                ...             ...     ...   \n",
              "9995  25.0  Female           136.0              243.0          Medium     Yes   \n",
              "9996  38.0    Male           172.0              154.0          Medium      No   \n",
              "9997  73.0    Male           152.0              201.0            High     Yes   \n",
              "9998  23.0    Male           142.0              299.0             Low     Yes   \n",
              "9999  38.0  Female           128.0              193.0          Medium     Yes   \n",
              "\n",
              "     Family Heart Disease Diabetes        BMI High Blood Pressure  \\\n",
              "0                     Yes       No  24.991591                 Yes   \n",
              "1                     Yes      Yes  25.221799                  No   \n",
              "2                      No       No  29.855447                  No   \n",
              "3                     Yes       No  24.130477                 Yes   \n",
              "4                     Yes      Yes  20.486289                 Yes   \n",
              "...                   ...      ...        ...                 ...   \n",
              "9995                   No       No  18.788791                 Yes   \n",
              "9996                   No       No  31.856801                 Yes   \n",
              "9997                   No      Yes  26.899911                  No   \n",
              "9998                   No      Yes  34.964026                 Yes   \n",
              "9999                  Yes      Yes  25.111295                  No   \n",
              "\n",
              "     Low HDL Cholesterol High LDL Cholesterol Alcohol Consumption  \\\n",
              "0                    Yes                   No                High   \n",
              "1                    Yes                   No              Medium   \n",
              "2                    Yes                  Yes                 Low   \n",
              "3                     No                  Yes                 Low   \n",
              "4                     No                   No                 Low   \n",
              "...                  ...                  ...                 ...   \n",
              "9995                  No                  Yes              Medium   \n",
              "9996                  No                  Yes                 NaN   \n",
              "9997                 Yes                  Yes                 NaN   \n",
              "9998                  No                  Yes              Medium   \n",
              "9999                 Yes                  Yes                High   \n",
              "\n",
              "     Stress Level  Sleep Hours Sugar Consumption  Triglyceride Level  \\\n",
              "0          Medium     7.633228            Medium               342.0   \n",
              "1            High     8.744034            Medium               133.0   \n",
              "2             Low     4.440440               Low               393.0   \n",
              "3            High     5.249405              High               293.0   \n",
              "4            High     7.030971              High               263.0   \n",
              "...           ...          ...               ...                 ...   \n",
              "9995         High     6.834954            Medium               343.0   \n",
              "9996         High     8.247784               Low               377.0   \n",
              "9997          Low     4.436762               Low               248.0   \n",
              "9998         High     8.526329            Medium               113.0   \n",
              "9999       Medium     5.659394              High               121.0   \n",
              "\n",
              "      Fasting Blood Sugar  CRP Level  Homocysteine Level Heart Disease Status  \n",
              "0                     NaN  12.969246           12.387250                   No  \n",
              "1                   157.0   9.355389           19.298875                   No  \n",
              "2                    92.0  12.709873           11.230926                   No  \n",
              "3                    94.0  12.509046            5.961958                   No  \n",
              "4                   154.0  10.381259            8.153887                   No  \n",
              "...                   ...        ...                 ...                  ...  \n",
              "9995                133.0   3.588814           19.132004                  Yes  \n",
              "9996                 83.0   2.658267            9.715709                  Yes  \n",
              "9997                 88.0   4.408867            9.492429                  Yes  \n",
              "9998                153.0   7.215634           11.873486                  Yes  \n",
              "9999                149.0  14.387810            6.208531                  Yes  \n",
              "\n",
              "[10000 rows x 21 columns]"
            ],
            "text/html": [
              "\n",
              "  <div id=\"df-25fcec73-4b11-4e73-81eb-4f87724d3a70\" class=\"colab-df-container\">\n",
              "    <div>\n",
              "<style scoped>\n",
              "    .dataframe tbody tr th:only-of-type {\n",
              "        vertical-align: middle;\n",
              "    }\n",
              "\n",
              "    .dataframe tbody tr th {\n",
              "        vertical-align: top;\n",
              "    }\n",
              "\n",
              "    .dataframe thead th {\n",
              "        text-align: right;\n",
              "    }\n",
              "</style>\n",
              "<table border=\"1\" class=\"dataframe\">\n",
              "  <thead>\n",
              "    <tr style=\"text-align: right;\">\n",
              "      <th></th>\n",
              "      <th>Age</th>\n",
              "      <th>Gender</th>\n",
              "      <th>Blood Pressure</th>\n",
              "      <th>Cholesterol Level</th>\n",
              "      <th>Exercise Habits</th>\n",
              "      <th>Smoking</th>\n",
              "      <th>Family Heart Disease</th>\n",
              "      <th>Diabetes</th>\n",
              "      <th>BMI</th>\n",
              "      <th>High Blood Pressure</th>\n",
              "      <th>Low HDL Cholesterol</th>\n",
              "      <th>High LDL Cholesterol</th>\n",
              "      <th>Alcohol Consumption</th>\n",
              "      <th>Stress Level</th>\n",
              "      <th>Sleep Hours</th>\n",
              "      <th>Sugar Consumption</th>\n",
              "      <th>Triglyceride Level</th>\n",
              "      <th>Fasting Blood Sugar</th>\n",
              "      <th>CRP Level</th>\n",
              "      <th>Homocysteine Level</th>\n",
              "      <th>Heart Disease Status</th>\n",
              "    </tr>\n",
              "  </thead>\n",
              "  <tbody>\n",
              "    <tr>\n",
              "      <th>0</th>\n",
              "      <td>56.0</td>\n",
              "      <td>Male</td>\n",
              "      <td>153.0</td>\n",
              "      <td>155.0</td>\n",
              "      <td>High</td>\n",
              "      <td>Yes</td>\n",
              "      <td>Yes</td>\n",
              "      <td>No</td>\n",
              "      <td>24.991591</td>\n",
              "      <td>Yes</td>\n",
              "      <td>Yes</td>\n",
              "      <td>No</td>\n",
              "      <td>High</td>\n",
              "      <td>Medium</td>\n",
              "      <td>7.633228</td>\n",
              "      <td>Medium</td>\n",
              "      <td>342.0</td>\n",
              "      <td>NaN</td>\n",
              "      <td>12.969246</td>\n",
              "      <td>12.387250</td>\n",
              "      <td>No</td>\n",
              "    </tr>\n",
              "    <tr>\n",
              "      <th>1</th>\n",
              "      <td>69.0</td>\n",
              "      <td>Female</td>\n",
              "      <td>146.0</td>\n",
              "      <td>286.0</td>\n",
              "      <td>High</td>\n",
              "      <td>No</td>\n",
              "      <td>Yes</td>\n",
              "      <td>Yes</td>\n",
              "      <td>25.221799</td>\n",
              "      <td>No</td>\n",
              "      <td>Yes</td>\n",
              "      <td>No</td>\n",
              "      <td>Medium</td>\n",
              "      <td>High</td>\n",
              "      <td>8.744034</td>\n",
              "      <td>Medium</td>\n",
              "      <td>133.0</td>\n",
              "      <td>157.0</td>\n",
              "      <td>9.355389</td>\n",
              "      <td>19.298875</td>\n",
              "      <td>No</td>\n",
              "    </tr>\n",
              "    <tr>\n",
              "      <th>2</th>\n",
              "      <td>46.0</td>\n",
              "      <td>Male</td>\n",
              "      <td>126.0</td>\n",
              "      <td>216.0</td>\n",
              "      <td>Low</td>\n",
              "      <td>No</td>\n",
              "      <td>No</td>\n",
              "      <td>No</td>\n",
              "      <td>29.855447</td>\n",
              "      <td>No</td>\n",
              "      <td>Yes</td>\n",
              "      <td>Yes</td>\n",
              "      <td>Low</td>\n",
              "      <td>Low</td>\n",
              "      <td>4.440440</td>\n",
              "      <td>Low</td>\n",
              "      <td>393.0</td>\n",
              "      <td>92.0</td>\n",
              "      <td>12.709873</td>\n",
              "      <td>11.230926</td>\n",
              "      <td>No</td>\n",
              "    </tr>\n",
              "    <tr>\n",
              "      <th>3</th>\n",
              "      <td>32.0</td>\n",
              "      <td>Female</td>\n",
              "      <td>122.0</td>\n",
              "      <td>293.0</td>\n",
              "      <td>High</td>\n",
              "      <td>Yes</td>\n",
              "      <td>Yes</td>\n",
              "      <td>No</td>\n",
              "      <td>24.130477</td>\n",
              "      <td>Yes</td>\n",
              "      <td>No</td>\n",
              "      <td>Yes</td>\n",
              "      <td>Low</td>\n",
              "      <td>High</td>\n",
              "      <td>5.249405</td>\n",
              "      <td>High</td>\n",
              "      <td>293.0</td>\n",
              "      <td>94.0</td>\n",
              "      <td>12.509046</td>\n",
              "      <td>5.961958</td>\n",
              "      <td>No</td>\n",
              "    </tr>\n",
              "    <tr>\n",
              "      <th>4</th>\n",
              "      <td>60.0</td>\n",
              "      <td>Male</td>\n",
              "      <td>166.0</td>\n",
              "      <td>242.0</td>\n",
              "      <td>Low</td>\n",
              "      <td>Yes</td>\n",
              "      <td>Yes</td>\n",
              "      <td>Yes</td>\n",
              "      <td>20.486289</td>\n",
              "      <td>Yes</td>\n",
              "      <td>No</td>\n",
              "      <td>No</td>\n",
              "      <td>Low</td>\n",
              "      <td>High</td>\n",
              "      <td>7.030971</td>\n",
              "      <td>High</td>\n",
              "      <td>263.0</td>\n",
              "      <td>154.0</td>\n",
              "      <td>10.381259</td>\n",
              "      <td>8.153887</td>\n",
              "      <td>No</td>\n",
              "    </tr>\n",
              "    <tr>\n",
              "      <th>...</th>\n",
              "      <td>...</td>\n",
              "      <td>...</td>\n",
              "      <td>...</td>\n",
              "      <td>...</td>\n",
              "      <td>...</td>\n",
              "      <td>...</td>\n",
              "      <td>...</td>\n",
              "      <td>...</td>\n",
              "      <td>...</td>\n",
              "      <td>...</td>\n",
              "      <td>...</td>\n",
              "      <td>...</td>\n",
              "      <td>...</td>\n",
              "      <td>...</td>\n",
              "      <td>...</td>\n",
              "      <td>...</td>\n",
              "      <td>...</td>\n",
              "      <td>...</td>\n",
              "      <td>...</td>\n",
              "      <td>...</td>\n",
              "      <td>...</td>\n",
              "    </tr>\n",
              "    <tr>\n",
              "      <th>9995</th>\n",
              "      <td>25.0</td>\n",
              "      <td>Female</td>\n",
              "      <td>136.0</td>\n",
              "      <td>243.0</td>\n",
              "      <td>Medium</td>\n",
              "      <td>Yes</td>\n",
              "      <td>No</td>\n",
              "      <td>No</td>\n",
              "      <td>18.788791</td>\n",
              "      <td>Yes</td>\n",
              "      <td>No</td>\n",
              "      <td>Yes</td>\n",
              "      <td>Medium</td>\n",
              "      <td>High</td>\n",
              "      <td>6.834954</td>\n",
              "      <td>Medium</td>\n",
              "      <td>343.0</td>\n",
              "      <td>133.0</td>\n",
              "      <td>3.588814</td>\n",
              "      <td>19.132004</td>\n",
              "      <td>Yes</td>\n",
              "    </tr>\n",
              "    <tr>\n",
              "      <th>9996</th>\n",
              "      <td>38.0</td>\n",
              "      <td>Male</td>\n",
              "      <td>172.0</td>\n",
              "      <td>154.0</td>\n",
              "      <td>Medium</td>\n",
              "      <td>No</td>\n",
              "      <td>No</td>\n",
              "      <td>No</td>\n",
              "      <td>31.856801</td>\n",
              "      <td>Yes</td>\n",
              "      <td>No</td>\n",
              "      <td>Yes</td>\n",
              "      <td>NaN</td>\n",
              "      <td>High</td>\n",
              "      <td>8.247784</td>\n",
              "      <td>Low</td>\n",
              "      <td>377.0</td>\n",
              "      <td>83.0</td>\n",
              "      <td>2.658267</td>\n",
              "      <td>9.715709</td>\n",
              "      <td>Yes</td>\n",
              "    </tr>\n",
              "    <tr>\n",
              "      <th>9997</th>\n",
              "      <td>73.0</td>\n",
              "      <td>Male</td>\n",
              "      <td>152.0</td>\n",
              "      <td>201.0</td>\n",
              "      <td>High</td>\n",
              "      <td>Yes</td>\n",
              "      <td>No</td>\n",
              "      <td>Yes</td>\n",
              "      <td>26.899911</td>\n",
              "      <td>No</td>\n",
              "      <td>Yes</td>\n",
              "      <td>Yes</td>\n",
              "      <td>NaN</td>\n",
              "      <td>Low</td>\n",
              "      <td>4.436762</td>\n",
              "      <td>Low</td>\n",
              "      <td>248.0</td>\n",
              "      <td>88.0</td>\n",
              "      <td>4.408867</td>\n",
              "      <td>9.492429</td>\n",
              "      <td>Yes</td>\n",
              "    </tr>\n",
              "    <tr>\n",
              "      <th>9998</th>\n",
              "      <td>23.0</td>\n",
              "      <td>Male</td>\n",
              "      <td>142.0</td>\n",
              "      <td>299.0</td>\n",
              "      <td>Low</td>\n",
              "      <td>Yes</td>\n",
              "      <td>No</td>\n",
              "      <td>Yes</td>\n",
              "      <td>34.964026</td>\n",
              "      <td>Yes</td>\n",
              "      <td>No</td>\n",
              "      <td>Yes</td>\n",
              "      <td>Medium</td>\n",
              "      <td>High</td>\n",
              "      <td>8.526329</td>\n",
              "      <td>Medium</td>\n",
              "      <td>113.0</td>\n",
              "      <td>153.0</td>\n",
              "      <td>7.215634</td>\n",
              "      <td>11.873486</td>\n",
              "      <td>Yes</td>\n",
              "    </tr>\n",
              "    <tr>\n",
              "      <th>9999</th>\n",
              "      <td>38.0</td>\n",
              "      <td>Female</td>\n",
              "      <td>128.0</td>\n",
              "      <td>193.0</td>\n",
              "      <td>Medium</td>\n",
              "      <td>Yes</td>\n",
              "      <td>Yes</td>\n",
              "      <td>Yes</td>\n",
              "      <td>25.111295</td>\n",
              "      <td>No</td>\n",
              "      <td>Yes</td>\n",
              "      <td>Yes</td>\n",
              "      <td>High</td>\n",
              "      <td>Medium</td>\n",
              "      <td>5.659394</td>\n",
              "      <td>High</td>\n",
              "      <td>121.0</td>\n",
              "      <td>149.0</td>\n",
              "      <td>14.387810</td>\n",
              "      <td>6.208531</td>\n",
              "      <td>Yes</td>\n",
              "    </tr>\n",
              "  </tbody>\n",
              "</table>\n",
              "<p>10000 rows × 21 columns</p>\n",
              "</div>\n",
              "    <div class=\"colab-df-buttons\">\n",
              "\n",
              "  <div class=\"colab-df-container\">\n",
              "    <button class=\"colab-df-convert\" onclick=\"convertToInteractive('df-25fcec73-4b11-4e73-81eb-4f87724d3a70')\"\n",
              "            title=\"Convert this dataframe to an interactive table.\"\n",
              "            style=\"display:none;\">\n",
              "\n",
              "  <svg xmlns=\"http://www.w3.org/2000/svg\" height=\"24px\" viewBox=\"0 -960 960 960\">\n",
              "    <path d=\"M120-120v-720h720v720H120Zm60-500h600v-160H180v160Zm220 220h160v-160H400v160Zm0 220h160v-160H400v160ZM180-400h160v-160H180v160Zm440 0h160v-160H620v160ZM180-180h160v-160H180v160Zm440 0h160v-160H620v160Z\"/>\n",
              "  </svg>\n",
              "    </button>\n",
              "\n",
              "  <style>\n",
              "    .colab-df-container {\n",
              "      display:flex;\n",
              "      gap: 12px;\n",
              "    }\n",
              "\n",
              "    .colab-df-convert {\n",
              "      background-color: #E8F0FE;\n",
              "      border: none;\n",
              "      border-radius: 50%;\n",
              "      cursor: pointer;\n",
              "      display: none;\n",
              "      fill: #1967D2;\n",
              "      height: 32px;\n",
              "      padding: 0 0 0 0;\n",
              "      width: 32px;\n",
              "    }\n",
              "\n",
              "    .colab-df-convert:hover {\n",
              "      background-color: #E2EBFA;\n",
              "      box-shadow: 0px 1px 2px rgba(60, 64, 67, 0.3), 0px 1px 3px 1px rgba(60, 64, 67, 0.15);\n",
              "      fill: #174EA6;\n",
              "    }\n",
              "\n",
              "    .colab-df-buttons div {\n",
              "      margin-bottom: 4px;\n",
              "    }\n",
              "\n",
              "    [theme=dark] .colab-df-convert {\n",
              "      background-color: #3B4455;\n",
              "      fill: #D2E3FC;\n",
              "    }\n",
              "\n",
              "    [theme=dark] .colab-df-convert:hover {\n",
              "      background-color: #434B5C;\n",
              "      box-shadow: 0px 1px 3px 1px rgba(0, 0, 0, 0.15);\n",
              "      filter: drop-shadow(0px 1px 2px rgba(0, 0, 0, 0.3));\n",
              "      fill: #FFFFFF;\n",
              "    }\n",
              "  </style>\n",
              "\n",
              "    <script>\n",
              "      const buttonEl =\n",
              "        document.querySelector('#df-25fcec73-4b11-4e73-81eb-4f87724d3a70 button.colab-df-convert');\n",
              "      buttonEl.style.display =\n",
              "        google.colab.kernel.accessAllowed ? 'block' : 'none';\n",
              "\n",
              "      async function convertToInteractive(key) {\n",
              "        const element = document.querySelector('#df-25fcec73-4b11-4e73-81eb-4f87724d3a70');\n",
              "        const dataTable =\n",
              "          await google.colab.kernel.invokeFunction('convertToInteractive',\n",
              "                                                    [key], {});\n",
              "        if (!dataTable) return;\n",
              "\n",
              "        const docLinkHtml = 'Like what you see? Visit the ' +\n",
              "          '<a target=\"_blank\" href=https://colab.research.google.com/notebooks/data_table.ipynb>data table notebook</a>'\n",
              "          + ' to learn more about interactive tables.';\n",
              "        element.innerHTML = '';\n",
              "        dataTable['output_type'] = 'display_data';\n",
              "        await google.colab.output.renderOutput(dataTable, element);\n",
              "        const docLink = document.createElement('div');\n",
              "        docLink.innerHTML = docLinkHtml;\n",
              "        element.appendChild(docLink);\n",
              "      }\n",
              "    </script>\n",
              "  </div>\n",
              "\n",
              "\n",
              "    <div id=\"df-3e253c2a-a5cf-45a8-8b5e-06ca7b3b76da\">\n",
              "      <button class=\"colab-df-quickchart\" onclick=\"quickchart('df-3e253c2a-a5cf-45a8-8b5e-06ca7b3b76da')\"\n",
              "                title=\"Suggest charts\"\n",
              "                style=\"display:none;\">\n",
              "\n",
              "<svg xmlns=\"http://www.w3.org/2000/svg\" height=\"24px\"viewBox=\"0 0 24 24\"\n",
              "     width=\"24px\">\n",
              "    <g>\n",
              "        <path d=\"M19 3H5c-1.1 0-2 .9-2 2v14c0 1.1.9 2 2 2h14c1.1 0 2-.9 2-2V5c0-1.1-.9-2-2-2zM9 17H7v-7h2v7zm4 0h-2V7h2v10zm4 0h-2v-4h2v4z\"/>\n",
              "    </g>\n",
              "</svg>\n",
              "      </button>\n",
              "\n",
              "<style>\n",
              "  .colab-df-quickchart {\n",
              "      --bg-color: #E8F0FE;\n",
              "      --fill-color: #1967D2;\n",
              "      --hover-bg-color: #E2EBFA;\n",
              "      --hover-fill-color: #174EA6;\n",
              "      --disabled-fill-color: #AAA;\n",
              "      --disabled-bg-color: #DDD;\n",
              "  }\n",
              "\n",
              "  [theme=dark] .colab-df-quickchart {\n",
              "      --bg-color: #3B4455;\n",
              "      --fill-color: #D2E3FC;\n",
              "      --hover-bg-color: #434B5C;\n",
              "      --hover-fill-color: #FFFFFF;\n",
              "      --disabled-bg-color: #3B4455;\n",
              "      --disabled-fill-color: #666;\n",
              "  }\n",
              "\n",
              "  .colab-df-quickchart {\n",
              "    background-color: var(--bg-color);\n",
              "    border: none;\n",
              "    border-radius: 50%;\n",
              "    cursor: pointer;\n",
              "    display: none;\n",
              "    fill: var(--fill-color);\n",
              "    height: 32px;\n",
              "    padding: 0;\n",
              "    width: 32px;\n",
              "  }\n",
              "\n",
              "  .colab-df-quickchart:hover {\n",
              "    background-color: var(--hover-bg-color);\n",
              "    box-shadow: 0 1px 2px rgba(60, 64, 67, 0.3), 0 1px 3px 1px rgba(60, 64, 67, 0.15);\n",
              "    fill: var(--button-hover-fill-color);\n",
              "  }\n",
              "\n",
              "  .colab-df-quickchart-complete:disabled,\n",
              "  .colab-df-quickchart-complete:disabled:hover {\n",
              "    background-color: var(--disabled-bg-color);\n",
              "    fill: var(--disabled-fill-color);\n",
              "    box-shadow: none;\n",
              "  }\n",
              "\n",
              "  .colab-df-spinner {\n",
              "    border: 2px solid var(--fill-color);\n",
              "    border-color: transparent;\n",
              "    border-bottom-color: var(--fill-color);\n",
              "    animation:\n",
              "      spin 1s steps(1) infinite;\n",
              "  }\n",
              "\n",
              "  @keyframes spin {\n",
              "    0% {\n",
              "      border-color: transparent;\n",
              "      border-bottom-color: var(--fill-color);\n",
              "      border-left-color: var(--fill-color);\n",
              "    }\n",
              "    20% {\n",
              "      border-color: transparent;\n",
              "      border-left-color: var(--fill-color);\n",
              "      border-top-color: var(--fill-color);\n",
              "    }\n",
              "    30% {\n",
              "      border-color: transparent;\n",
              "      border-left-color: var(--fill-color);\n",
              "      border-top-color: var(--fill-color);\n",
              "      border-right-color: var(--fill-color);\n",
              "    }\n",
              "    40% {\n",
              "      border-color: transparent;\n",
              "      border-right-color: var(--fill-color);\n",
              "      border-top-color: var(--fill-color);\n",
              "    }\n",
              "    60% {\n",
              "      border-color: transparent;\n",
              "      border-right-color: var(--fill-color);\n",
              "    }\n",
              "    80% {\n",
              "      border-color: transparent;\n",
              "      border-right-color: var(--fill-color);\n",
              "      border-bottom-color: var(--fill-color);\n",
              "    }\n",
              "    90% {\n",
              "      border-color: transparent;\n",
              "      border-bottom-color: var(--fill-color);\n",
              "    }\n",
              "  }\n",
              "</style>\n",
              "\n",
              "      <script>\n",
              "        async function quickchart(key) {\n",
              "          const quickchartButtonEl =\n",
              "            document.querySelector('#' + key + ' button');\n",
              "          quickchartButtonEl.disabled = true;  // To prevent multiple clicks.\n",
              "          quickchartButtonEl.classList.add('colab-df-spinner');\n",
              "          try {\n",
              "            const charts = await google.colab.kernel.invokeFunction(\n",
              "                'suggestCharts', [key], {});\n",
              "          } catch (error) {\n",
              "            console.error('Error during call to suggestCharts:', error);\n",
              "          }\n",
              "          quickchartButtonEl.classList.remove('colab-df-spinner');\n",
              "          quickchartButtonEl.classList.add('colab-df-quickchart-complete');\n",
              "        }\n",
              "        (() => {\n",
              "          let quickchartButtonEl =\n",
              "            document.querySelector('#df-3e253c2a-a5cf-45a8-8b5e-06ca7b3b76da button');\n",
              "          quickchartButtonEl.style.display =\n",
              "            google.colab.kernel.accessAllowed ? 'block' : 'none';\n",
              "        })();\n",
              "      </script>\n",
              "    </div>\n",
              "\n",
              "  <div id=\"id_77ffee95-084b-448f-a0ac-0c749aeb4741\">\n",
              "    <style>\n",
              "      .colab-df-generate {\n",
              "        background-color: #E8F0FE;\n",
              "        border: none;\n",
              "        border-radius: 50%;\n",
              "        cursor: pointer;\n",
              "        display: none;\n",
              "        fill: #1967D2;\n",
              "        height: 32px;\n",
              "        padding: 0 0 0 0;\n",
              "        width: 32px;\n",
              "      }\n",
              "\n",
              "      .colab-df-generate:hover {\n",
              "        background-color: #E2EBFA;\n",
              "        box-shadow: 0px 1px 2px rgba(60, 64, 67, 0.3), 0px 1px 3px 1px rgba(60, 64, 67, 0.15);\n",
              "        fill: #174EA6;\n",
              "      }\n",
              "\n",
              "      [theme=dark] .colab-df-generate {\n",
              "        background-color: #3B4455;\n",
              "        fill: #D2E3FC;\n",
              "      }\n",
              "\n",
              "      [theme=dark] .colab-df-generate:hover {\n",
              "        background-color: #434B5C;\n",
              "        box-shadow: 0px 1px 3px 1px rgba(0, 0, 0, 0.15);\n",
              "        filter: drop-shadow(0px 1px 2px rgba(0, 0, 0, 0.3));\n",
              "        fill: #FFFFFF;\n",
              "      }\n",
              "    </style>\n",
              "    <button class=\"colab-df-generate\" onclick=\"generateWithVariable('heart_df')\"\n",
              "            title=\"Generate code using this dataframe.\"\n",
              "            style=\"display:none;\">\n",
              "\n",
              "  <svg xmlns=\"http://www.w3.org/2000/svg\" height=\"24px\"viewBox=\"0 0 24 24\"\n",
              "       width=\"24px\">\n",
              "    <path d=\"M7,19H8.4L18.45,9,17,7.55,7,17.6ZM5,21V16.75L18.45,3.32a2,2,0,0,1,2.83,0l1.4,1.43a1.91,1.91,0,0,1,.58,1.4,1.91,1.91,0,0,1-.58,1.4L9.25,21ZM18.45,9,17,7.55Zm-12,3A5.31,5.31,0,0,0,4.9,8.1,5.31,5.31,0,0,0,1,6.5,5.31,5.31,0,0,0,4.9,4.9,5.31,5.31,0,0,0,6.5,1,5.31,5.31,0,0,0,8.1,4.9,5.31,5.31,0,0,0,12,6.5,5.46,5.46,0,0,0,6.5,12Z\"/>\n",
              "  </svg>\n",
              "    </button>\n",
              "    <script>\n",
              "      (() => {\n",
              "      const buttonEl =\n",
              "        document.querySelector('#id_77ffee95-084b-448f-a0ac-0c749aeb4741 button.colab-df-generate');\n",
              "      buttonEl.style.display =\n",
              "        google.colab.kernel.accessAllowed ? 'block' : 'none';\n",
              "\n",
              "      buttonEl.onclick = () => {\n",
              "        google.colab.notebook.generateWithVariable('heart_df');\n",
              "      }\n",
              "      })();\n",
              "    </script>\n",
              "  </div>\n",
              "\n",
              "    </div>\n",
              "  </div>\n"
            ],
            "application/vnd.google.colaboratory.intrinsic+json": {
              "type": "dataframe",
              "variable_name": "heart_df"
            }
          },
          "metadata": {},
          "execution_count": 24
        }
      ]
    },
    {
      "cell_type": "markdown",
      "source": [
        "## 다음 문항을 풀기 전에 아래 코드를 실행하세요\n",
        "\n",
        "\n"
      ],
      "metadata": {
        "id": "h0FXaCTGCJKf"
      }
    },
    {
      "cell_type": "code",
      "source": [
        "!pip install koreanize-matplotlib\n",
        "import koreanize_matplotlib\n",
        "pd.options.display.max_columns = None"
      ],
      "metadata": {
        "id": "vcfEKtJQCHwf",
        "colab": {
          "base_uri": "https://localhost:8080/"
        },
        "outputId": "c9cd0396-3c32-401a-eebd-f3a227982e56"
      },
      "execution_count": 25,
      "outputs": [
        {
          "output_type": "stream",
          "name": "stdout",
          "text": [
            "Requirement already satisfied: koreanize-matplotlib in /usr/local/lib/python3.11/dist-packages (0.1.1)\n",
            "Requirement already satisfied: matplotlib in /usr/local/lib/python3.11/dist-packages (from koreanize-matplotlib) (3.10.0)\n",
            "Requirement already satisfied: contourpy>=1.0.1 in /usr/local/lib/python3.11/dist-packages (from matplotlib->koreanize-matplotlib) (1.3.2)\n",
            "Requirement already satisfied: cycler>=0.10 in /usr/local/lib/python3.11/dist-packages (from matplotlib->koreanize-matplotlib) (0.12.1)\n",
            "Requirement already satisfied: fonttools>=4.22.0 in /usr/local/lib/python3.11/dist-packages (from matplotlib->koreanize-matplotlib) (4.57.0)\n",
            "Requirement already satisfied: kiwisolver>=1.3.1 in /usr/local/lib/python3.11/dist-packages (from matplotlib->koreanize-matplotlib) (1.4.8)\n",
            "Requirement already satisfied: numpy>=1.23 in /usr/local/lib/python3.11/dist-packages (from matplotlib->koreanize-matplotlib) (2.0.2)\n",
            "Requirement already satisfied: packaging>=20.0 in /usr/local/lib/python3.11/dist-packages (from matplotlib->koreanize-matplotlib) (24.2)\n",
            "Requirement already satisfied: pillow>=8 in /usr/local/lib/python3.11/dist-packages (from matplotlib->koreanize-matplotlib) (11.1.0)\n",
            "Requirement already satisfied: pyparsing>=2.3.1 in /usr/local/lib/python3.11/dist-packages (from matplotlib->koreanize-matplotlib) (3.2.3)\n",
            "Requirement already satisfied: python-dateutil>=2.7 in /usr/local/lib/python3.11/dist-packages (from matplotlib->koreanize-matplotlib) (2.8.2)\n",
            "Requirement already satisfied: six>=1.5 in /usr/local/lib/python3.11/dist-packages (from python-dateutil>=2.7->matplotlib->koreanize-matplotlib) (1.17.0)\n"
          ]
        }
      ]
    },
    {
      "cell_type": "markdown",
      "source": [
        "#4. 시각화\n",
        "## X축에는 Sleep Hours(수면시간)을 Y축에는 Heart Disease Status(심장질환 여부)에 대해 barplot 그래프로 만드는 코드와 답안을 작성하세요.\n",
        "- seaborn을 활용하세요.\n",
        "- Sleep Hours(수면시간)에 대해서 분포를 보여주는 bar를 그리세요.\n",
        "- Sleep Hours(수면시간)에 결측치가 있다면 mean(평균값)으로 채워주세요.\n",
        "- Sleep Hours을 round와 astype(int)를 활용하여 반올림하여 변환해주세요.\n",
        "- Heart Disease Status(심장질환 여부)의 컬럼을 replace를 이용하여 'Yes'는 1로, 'No'는 0으로 변환해주세요.\n",
        "\n",
        "- 출력된 그래프를 보고 해석한 것으로 옳은 선택지를 아래에서 골라 '답안04'변수에 저장하세요. (예. 답안04 = 4 )\n",
        "\n",
        "1. 수면 시간이 7시간일 때 심장질환 여부가 가장 낮은 비율이다.\n",
        "2. 수면 시간이 8시간일 때 심장질환 여부가 가장 높은 비율이다.\n",
        "3. 심장 질환 여부가 가장 낮은 비율의 수면시간은 5시간이다."
      ],
      "metadata": {
        "id": "TTgMUwcKCY0a"
      }
    },
    {
      "cell_type": "code",
      "source": [
        "# 여기에 답안코드를 작성하세요.\n",
        "\n",
        "# 1. Null값을 평균으로 채우기\n",
        "heart_df['Sleep Hours'] = heart_df['Sleep Hours'].fillna(heart_df['Sleep Hours'].mean())\n",
        "\n",
        "# 2. Sleep Hours를 정수 시간대로 변환\n",
        "heart_df['Sleep Hours'] = heart_df['Sleep Hours'].round().astype(int)\n",
        "\n",
        "# 3. Heart Disease Status를 숫자로 변환 ('Yes' → 1, 'No' → 0)\n",
        "heart_df['Heart Disease Status'] = heart_df['Heart Disease Status'].replace({'Yes': 1, 'No': 0}).astype(int)\n",
        "\n",
        "# 4. 시간대별 심장질환 발생률 평균 구해서 barplot\n",
        "sns.barplot(data=heart_df, x='Sleep Hours', y='Heart Disease Status')\n",
        "plt.show()\n",
        "\n",
        "답안04 = 3"
      ],
      "metadata": {
        "id": "tgtOVof3C9tD",
        "colab": {
          "base_uri": "https://localhost:8080/",
          "height": 506
        },
        "outputId": "b7f37813-4bdd-412e-b43a-53ae65c97cdd"
      },
      "execution_count": 26,
      "outputs": [
        {
          "output_type": "stream",
          "name": "stderr",
          "text": [
            "<ipython-input-26-332812a9aa1f>:10: FutureWarning: Downcasting behavior in `replace` is deprecated and will be removed in a future version. To retain the old behavior, explicitly call `result.infer_objects(copy=False)`. To opt-in to the future behavior, set `pd.set_option('future.no_silent_downcasting', True)`\n",
            "  heart_df['Heart Disease Status'] = heart_df['Heart Disease Status'].replace({'Yes': 1, 'No': 0}).astype(int)\n"
          ]
        },
        {
          "output_type": "display_data",
          "data": {
            "text/plain": [
              "<Figure size 640x480 with 1 Axes>"
            ],
            "image/png": "[encoded data removed]"
          },
          "metadata": {}
        }
      ]
    },
    {
      "cell_type": "markdown",
      "source": [
        "#5.Feature Engineering (상호작용 변수 생성)\n",
        "##가이드에 따라서 새로운 컬럼을 만드세요.\n",
        "- 대상 데이터프레임 : heart_df\n",
        "#### 추가해야 할 상호작용 변수:\n",
        "1. `BMI`와 `Blood Pressure`의 곱을 이용해 `BMI_BP`라는 새로운 컬럼을 생성하세요.\n",
        "2. `Cholesterol Level`과 `Age`의 나누기를 이용해 `Chol_Age`라는 새로운 컬럼을 생성하세요.\n",
        "\n",
        "- 반영된 결과를 새로운 데이터프레임 변수명 heart_df_temp에 저장하세요."
      ],
      "metadata": {
        "id": "1M9HBJqkDT2D"
      }
    },
    {
      "cell_type": "code",
      "source": [
        "# 여기에 답안코드를 작성하세요.\n",
        "\n",
        "# BMI × Blood Pressure 상호작용 변수 생성\n",
        "heart_df['BMI_BP'] = heart_df['BMI'] * heart_df['Blood Pressure']\n",
        "\n",
        "# Cholesterol ÷ Age 상호작용 변수 생성\n",
        "heart_df['Chol_Age'] = heart_df['Cholesterol Level'] / heart_df['Age']\n",
        "\n",
        "heart_df_temp = heart_df.copy()"
      ],
      "metadata": {
        "id": "3F6vT4GgDSAH"
      },
      "execution_count": 27,
      "outputs": []
    },
    {
      "cell_type": "markdown",
      "source": [
        "#6.이상치 제거 (outliers)\n",
        "##아래 가이드를 따라 이상치를 처리하세요.\n",
        "- 대상 데이터프레임 : heart_df_temp\n",
        "\n",
        "### 이상치 제거\n",
        "1. `Fasting Blood Sugar` 컬럼에서 이상치를 처리하세요.\n",
        "   - `Fasting Blood Sugar` 컬럼의 값이 900 이상인 경우를 이상치로 간주하고,\n",
        "   - 이상치의 갯수를 구해 `답안06`에 저장하세요. (예. 답안06 = 10 )"
      ],
      "metadata": {
        "id": "EMRGUmjZDpvY"
      }
    },
    {
      "cell_type": "code",
      "source": [
        "# 여기에 답안코드를 작성하세요.\n",
        "\n",
        "# 1. 'Fasting Blood Sugar' 컬럼에서 900 이상인 값은 이상치로 간주하고,\n",
        "# 이상치의 갯수를 확인하여 '답안06'에 저장하세요. (900 이상인 값만 이상치로 간주)\n",
        "outliers = heart_df_temp[heart_df_temp['Fasting Blood Sugar'] >= 900]\n",
        "\n",
        "# 2. 이상치의 갯수를 확인하고 '답안06' 변수에 저장하세요.\n",
        "답안06 = outliers.shape[0]\n",
        "\n",
        "# 3. 이상치 제거\n",
        "# 이상치를 제거한 후, 새로운 데이터프레임에 반영하세요.\n",
        "heart_df_temp = heart_df_temp[heart_df_temp['Fasting Blood Sugar'] < 900]\n",
        "\n",
        "print(f\"이상치의 갯수: {답안06}\")"
      ],
      "metadata": {
        "id": "CrxkzeGeD5_P",
        "colab": {
          "base_uri": "https://localhost:8080/"
        },
        "outputId": "bb50b615-ea1c-4737-c29d-702346e6dceb"
      },
      "execution_count": 28,
      "outputs": [
        {
          "output_type": "stream",
          "name": "stdout",
          "text": [
            "이상치의 갯수: 4\n"
          ]
        }
      ]
    },
    {
      "cell_type": "markdown",
      "source": [
        "#7. 결측치 제거\n",
        "##아래 가이드를 따라 불필요 데이터를 삭제 처리하세요.\n",
        "- 대상 데이터프레임 : heart_df_temp\n",
        "- 결측치를 확인하는 코드를 작성하세요.\n",
        "- 'Alcohol Consumption' 컬럼의 결측치를 fillna를 이용하여 최빈값을 채워주세요.\n",
        "- 나머지 결측치는 모두 제거해주세요.\n",
        "- 전처리 반영된 결과를 새로운 데이터프레임 변수명 heart_df_na에 저장하세요."
      ],
      "metadata": {
        "id": "1VTDVlYiD7qW"
      }
    },
    {
      "cell_type": "code",
      "source": [
        "# 여기에 답안코드를 작성하세요.\n",
        "\n",
        "# 결측치 확인\n",
        "heart_df_temp.isnull().sum()\n",
        "\n",
        "# 'Alcohol Consumption' 컬럼의 결측치를 최빈값으로 채우기\n",
        "heart_df_temp['Alcohol Consumption'] = heart_df_temp['Alcohol Consumption'].fillna(heart_df_temp['Alcohol Consumption'].mode()[0])\n",
        "\n",
        "# 결측치 제거\n",
        "heart_df_temp = heart_df_temp.dropna()\n",
        "\n",
        "# 결측치 처리된 결과를 새로운 데이터프레임에 저장\n",
        "heart_df_na = heart_df_temp.copy()"
      ],
      "metadata": {
        "id": "--ONGD6PEM1i"
      },
      "execution_count": 29,
      "outputs": []
    },
    {
      "cell_type": "code",
      "source": [
        "heart_df_na.info()"
      ],
      "metadata": {
        "colab": {
          "base_uri": "https://localhost:8080/"
        },
        "id": "z6kPTaRs0G8k",
        "outputId": "61734172-1570-4bbc-847a-ba5c3f26b70b"
      },
      "execution_count": 30,
      "outputs": [
        {
          "output_type": "stream",
          "name": "stdout",
          "text": [
            "<class 'pandas.core.frame.DataFrame'>\n",
            "Index: 9553 entries, 1 to 9999\n",
            "Data columns (total 23 columns):\n",
            " #   Column                Non-Null Count  Dtype  \n",
            "---  ------                --------------  -----  \n",
            " 0   Age                   9553 non-null   float64\n",
            " 1   Gender                9553 non-null   object \n",
            " 2   Blood Pressure        9553 non-null   float64\n",
            " 3   Cholesterol Level     9553 non-null   float64\n",
            " 4   Exercise Habits       9553 non-null   object \n",
            " 5   Smoking               9553 non-null   object \n",
            " 6   Family Heart Disease  9553 non-null   object \n",
            " 7   Diabetes              9553 non-null   object \n",
            " 8   BMI                   9553 non-null   float64\n",
            " 9   High Blood Pressure   9553 non-null   object \n",
            " 10  Low HDL Cholesterol   9553 non-null   object \n",
            " 11  High LDL Cholesterol  9553 non-null   object \n",
            " 12  Alcohol Consumption   9553 non-null   object \n",
            " 13  Stress Level          9553 non-null   object \n",
            " 14  Sleep Hours           9553 non-null   int64  \n",
            " 15  Sugar Consumption     9553 non-null   object \n",
            " 16  Triglyceride Level    9553 non-null   float64\n",
            " 17  Fasting Blood Sugar   9553 non-null   float64\n",
            " 18  CRP Level             9553 non-null   float64\n",
            " 19  Homocysteine Level    9553 non-null   float64\n",
            " 20  Heart Disease Status  9553 non-null   int64  \n",
            " 21  BMI_BP                9553 non-null   float64\n",
            " 22  Chol_Age              9553 non-null   float64\n",
            "dtypes: float64(10), int64(2), object(11)\n",
            "memory usage: 1.7+ MB\n"
          ]
        }
      ]
    },
    {
      "cell_type": "code",
      "source": [
        "heart_df_na.head(2)"
      ],
      "metadata": {
        "colab": {
          "base_uri": "https://localhost:8080/",
          "height": 166
        },
        "id": "mI7GYmfX1FuF",
        "outputId": "533d7c56-439f-4d98-9695-a1fe6611a00b"
      },
      "execution_count": 31,
      "outputs": [
        {
          "output_type": "execute_result",
          "data": {
            "text/plain": [
              "    Age  Gender  Blood Pressure  Cholesterol Level Exercise Habits Smoking  \\\n",
              "1  69.0  Female           146.0              286.0            High      No   \n",
              "2  46.0    Male           126.0              216.0             Low      No   \n",
              "\n",
              "  Family Heart Disease Diabetes        BMI High Blood Pressure  \\\n",
              "1                  Yes      Yes  25.221799                  No   \n",
              "2                   No       No  29.855447                  No   \n",
              "\n",
              "  Low HDL Cholesterol High LDL Cholesterol Alcohol Consumption Stress Level  \\\n",
              "1                 Yes                   No              Medium         High   \n",
              "2                 Yes                  Yes                 Low          Low   \n",
              "\n",
              "   Sleep Hours Sugar Consumption  Triglyceride Level  Fasting Blood Sugar  \\\n",
              "1            9            Medium               133.0                157.0   \n",
              "2            4               Low               393.0                 92.0   \n",
              "\n",
              "   CRP Level  Homocysteine Level  Heart Disease Status       BMI_BP  Chol_Age  \n",
              "1   9.355389           19.298875                     0  3682.382584  4.144928  \n",
              "2  12.709873           11.230926                     0  3761.786340  4.695652  "
            ],
            "text/html": [
              "\n",
              "  <div id=\"df-b20d8a3c-8946-45c4-bb29-0f989678d803\" class=\"colab-df-container\">\n",
              "    <div>\n",
              "<style scoped>\n",
              "    .dataframe tbody tr th:only-of-type {\n",
              "        vertical-align: middle;\n",
              "    }\n",
              "\n",
              "    .dataframe tbody tr th {\n",
              "        vertical-align: top;\n",
              "    }\n",
              "\n",
              "    .dataframe thead th {\n",
              "        text-align: right;\n",
              "    }\n",
              "</style>\n",
              "<table border=\"1\" class=\"dataframe\">\n",
              "  <thead>\n",
              "    <tr style=\"text-align: right;\">\n",
              "      <th></th>\n",
              "      <th>Age</th>\n",
              "      <th>Gender</th>\n",
              "      <th>Blood Pressure</th>\n",
              "      <th>Cholesterol Level</th>\n",
              "      <th>Exercise Habits</th>\n",
              "      <th>Smoking</th>\n",
              "      <th>Family Heart Disease</th>\n",
              "      <th>Diabetes</th>\n",
              "      <th>BMI</th>\n",
              "      <th>High Blood Pressure</th>\n",
              "      <th>Low HDL Cholesterol</th>\n",
              "      <th>High LDL Cholesterol</th>\n",
              "      <th>Alcohol Consumption</th>\n",
              "      <th>Stress Level</th>\n",
              "      <th>Sleep Hours</th>\n",
              "      <th>Sugar Consumption</th>\n",
              "      <th>Triglyceride Level</th>\n",
              "      <th>Fasting Blood Sugar</th>\n",
              "      <th>CRP Level</th>\n",
              "      <th>Homocysteine Level</th>\n",
              "      <th>Heart Disease Status</th>\n",
              "      <th>BMI_BP</th>\n",
              "      <th>Chol_Age</th>\n",
              "    </tr>\n",
              "  </thead>\n",
              "  <tbody>\n",
              "    <tr>\n",
              "      <th>1</th>\n",
              "      <td>69.0</td>\n",
              "      <td>Female</td>\n",
              "      <td>146.0</td>\n",
              "      <td>286.0</td>\n",
              "      <td>High</td>\n",
              "      <td>No</td>\n",
              "      <td>Yes</td>\n",
              "      <td>Yes</td>\n",
              "      <td>25.221799</td>\n",
              "      <td>No</td>\n",
              "      <td>Yes</td>\n",
              "      <td>No</td>\n",
              "      <td>Medium</td>\n",
              "      <td>High</td>\n",
              "      <td>9</td>\n",
              "      <td>Medium</td>\n",
              "      <td>133.0</td>\n",
              "      <td>157.0</td>\n",
              "      <td>9.355389</td>\n",
              "      <td>19.298875</td>\n",
              "      <td>0</td>\n",
              "      <td>3682.382584</td>\n",
              "      <td>4.144928</td>\n",
              "    </tr>\n",
              "    <tr>\n",
              "      <th>2</th>\n",
              "      <td>46.0</td>\n",
              "      <td>Male</td>\n",
              "      <td>126.0</td>\n",
              "      <td>216.0</td>\n",
              "      <td>Low</td>\n",
              "      <td>No</td>\n",
              "      <td>No</td>\n",
              "      <td>No</td>\n",
              "      <td>29.855447</td>\n",
              "      <td>No</td>\n",
              "      <td>Yes</td>\n",
              "      <td>Yes</td>\n",
              "      <td>Low</td>\n",
              "      <td>Low</td>\n",
              "      <td>4</td>\n",
              "      <td>Low</td>\n",
              "      <td>393.0</td>\n",
              "      <td>92.0</td>\n",
              "      <td>12.709873</td>\n",
              "      <td>11.230926</td>\n",
              "      <td>0</td>\n",
              "      <td>3761.786340</td>\n",
              "      <td>4.695652</td>\n",
              "    </tr>\n",
              "  </tbody>\n",
              "</table>\n",
              "</div>\n",
              "    <div class=\"colab-df-buttons\">\n",
              "\n",
              "  <div class=\"colab-df-container\">\n",
              "    <button class=\"colab-df-convert\" onclick=\"convertToInteractive('df-b20d8a3c-8946-45c4-bb29-0f989678d803')\"\n",
              "            title=\"Convert this dataframe to an interactive table.\"\n",
              "            style=\"display:none;\">\n",
              "\n",
              "  <svg xmlns=\"http://www.w3.org/2000/svg\" height=\"24px\" viewBox=\"0 -960 960 960\">\n",
              "    <path d=\"M120-120v-720h720v720H120Zm60-500h600v-160H180v160Zm220 220h160v-160H400v160Zm0 220h160v-160H400v160ZM180-400h160v-160H180v160Zm440 0h160v-160H620v160ZM180-180h160v-160H180v160Zm440 0h160v-160H620v160Z\"/>\n",
              "  </svg>\n",
              "    </button>\n",
              "\n",
              "  <style>\n",
              "    .colab-df-container {\n",
              "      display:flex;\n",
              "      gap: 12px;\n",
              "    }\n",
              "\n",
              "    .colab-df-convert {\n",
              "      background-color: #E8F0FE;\n",
              "      border: none;\n",
              "      border-radius: 50%;\n",
              "      cursor: pointer;\n",
              "      display: none;\n",
              "      fill: #1967D2;\n",
              "      height: 32px;\n",
              "      padding: 0 0 0 0;\n",
              "      width: 32px;\n",
              "    }\n",
              "\n",
              "    .colab-df-convert:hover {\n",
              "      background-color: #E2EBFA;\n",
              "      box-shadow: 0px 1px 2px rgba(60, 64, 67, 0.3), 0px 1px 3px 1px rgba(60, 64, 67, 0.15);\n",
              "      fill: #174EA6;\n",
              "    }\n",
              "\n",
              "    .colab-df-buttons div {\n",
              "      margin-bottom: 4px;\n",
              "    }\n",
              "\n",
              "    [theme=dark] .colab-df-convert {\n",
              "      background-color: #3B4455;\n",
              "      fill: #D2E3FC;\n",
              "    }\n",
              "\n",
              "    [theme=dark] .colab-df-convert:hover {\n",
              "      background-color: #434B5C;\n",
              "      box-shadow: 0px 1px 3px 1px rgba(0, 0, 0, 0.15);\n",
              "      filter: drop-shadow(0px 1px 2px rgba(0, 0, 0, 0.3));\n",
              "      fill: #FFFFFF;\n",
              "    }\n",
              "  </style>\n",
              "\n",
              "    <script>\n",
              "      const buttonEl =\n",
              "        document.querySelector('#df-b20d8a3c-8946-45c4-bb29-0f989678d803 button.colab-df-convert');\n",
              "      buttonEl.style.display =\n",
              "        google.colab.kernel.accessAllowed ? 'block' : 'none';\n",
              "\n",
              "      async function convertToInteractive(key) {\n",
              "        const element = document.querySelector('#df-b20d8a3c-8946-45c4-bb29-0f989678d803');\n",
              "        const dataTable =\n",
              "          await google.colab.kernel.invokeFunction('convertToInteractive',\n",
              "                                                    [key], {});\n",
              "        if (!dataTable) return;\n",
              "\n",
              "        const docLinkHtml = 'Like what you see? Visit the ' +\n",
              "          '<a target=\"_blank\" href=https://colab.research.google.com/notebooks/data_table.ipynb>data table notebook</a>'\n",
              "          + ' to learn more about interactive tables.';\n",
              "        element.innerHTML = '';\n",
              "        dataTable['output_type'] = 'display_data';\n",
              "        await google.colab.output.renderOutput(dataTable, element);\n",
              "        const docLink = document.createElement('div');\n",
              "        docLink.innerHTML = docLinkHtml;\n",
              "        element.appendChild(docLink);\n",
              "      }\n",
              "    </script>\n",
              "  </div>\n",
              "\n",
              "\n",
              "    <div id=\"df-33adda81-8745-4a64-b26f-a34cc5cff090\">\n",
              "      <button class=\"colab-df-quickchart\" onclick=\"quickchart('df-33adda81-8745-4a64-b26f-a34cc5cff090')\"\n",
              "                title=\"Suggest charts\"\n",
              "                style=\"display:none;\">\n",
              "\n",
              "<svg xmlns=\"http://www.w3.org/2000/svg\" height=\"24px\"viewBox=\"0 0 24 24\"\n",
              "     width=\"24px\">\n",
              "    <g>\n",
              "        <path d=\"M19 3H5c-1.1 0-2 .9-2 2v14c0 1.1.9 2 2 2h14c1.1 0 2-.9 2-2V5c0-1.1-.9-2-2-2zM9 17H7v-7h2v7zm4 0h-2V7h2v10zm4 0h-2v-4h2v4z\"/>\n",
              "    </g>\n",
              "</svg>\n",
              "      </button>\n",
              "\n",
              "<style>\n",
              "  .colab-df-quickchart {\n",
              "      --bg-color: #E8F0FE;\n",
              "      --fill-color: #1967D2;\n",
              "      --hover-bg-color: #E2EBFA;\n",
              "      --hover-fill-color: #174EA6;\n",
              "      --disabled-fill-color: #AAA;\n",
              "      --disabled-bg-color: #DDD;\n",
              "  }\n",
              "\n",
              "  [theme=dark] .colab-df-quickchart {\n",
              "      --bg-color: #3B4455;\n",
              "      --fill-color: #D2E3FC;\n",
              "      --hover-bg-color: #434B5C;\n",
              "      --hover-fill-color: #FFFFFF;\n",
              "      --disabled-bg-color: #3B4455;\n",
              "      --disabled-fill-color: #666;\n",
              "  }\n",
              "\n",
              "  .colab-df-quickchart {\n",
              "    background-color: var(--bg-color);\n",
              "    border: none;\n",
              "    border-radius: 50%;\n",
              "    cursor: pointer;\n",
              "    display: none;\n",
              "    fill: var(--fill-color);\n",
              "    height: 32px;\n",
              "    padding: 0;\n",
              "    width: 32px;\n",
              "  }\n",
              "\n",
              "  .colab-df-quickchart:hover {\n",
              "    background-color: var(--hover-bg-color);\n",
              "    box-shadow: 0 1px 2px rgba(60, 64, 67, 0.3), 0 1px 3px 1px rgba(60, 64, 67, 0.15);\n",
              "    fill: var(--button-hover-fill-color);\n",
              "  }\n",
              "\n",
              "  .colab-df-quickchart-complete:disabled,\n",
              "  .colab-df-quickchart-complete:disabled:hover {\n",
              "    background-color: var(--disabled-bg-color);\n",
              "    fill: var(--disabled-fill-color);\n",
              "    box-shadow: none;\n",
              "  }\n",
              "\n",
              "  .colab-df-spinner {\n",
              "    border: 2px solid var(--fill-color);\n",
              "    border-color: transparent;\n",
              "    border-bottom-color: var(--fill-color);\n",
              "    animation:\n",
              "      spin 1s steps(1) infinite;\n",
              "  }\n",
              "\n",
              "  @keyframes spin {\n",
              "    0% {\n",
              "      border-color: transparent;\n",
              "      border-bottom-color: var(--fill-color);\n",
              "      border-left-color: var(--fill-color);\n",
              "    }\n",
              "    20% {\n",
              "      border-color: transparent;\n",
              "      border-left-color: var(--fill-color);\n",
              "      border-top-color: var(--fill-color);\n",
              "    }\n",
              "    30% {\n",
              "      border-color: transparent;\n",
              "      border-left-color: var(--fill-color);\n",
              "      border-top-color: var(--fill-color);\n",
              "      border-right-color: var(--fill-color);\n",
              "    }\n",
              "    40% {\n",
              "      border-color: transparent;\n",
              "      border-right-color: var(--fill-color);\n",
              "      border-top-color: var(--fill-color);\n",
              "    }\n",
              "    60% {\n",
              "      border-color: transparent;\n",
              "      border-right-color: var(--fill-color);\n",
              "    }\n",
              "    80% {\n",
              "      border-color: transparent;\n",
              "      border-right-color: var(--fill-color);\n",
              "      border-bottom-color: var(--fill-color);\n",
              "    }\n",
              "    90% {\n",
              "      border-color: transparent;\n",
              "      border-bottom-color: var(--fill-color);\n",
              "    }\n",
              "  }\n",
              "</style>\n",
              "\n",
              "      <script>\n",
              "        async function quickchart(key) {\n",
              "          const quickchartButtonEl =\n",
              "            document.querySelector('#' + key + ' button');\n",
              "          quickchartButtonEl.disabled = true;  // To prevent multiple clicks.\n",
              "          quickchartButtonEl.classList.add('colab-df-spinner');\n",
              "          try {\n",
              "            const charts = await google.colab.kernel.invokeFunction(\n",
              "                'suggestCharts', [key], {});\n",
              "          } catch (error) {\n",
              "            console.error('Error during call to suggestCharts:', error);\n",
              "          }\n",
              "          quickchartButtonEl.classList.remove('colab-df-spinner');\n",
              "          quickchartButtonEl.classList.add('colab-df-quickchart-complete');\n",
              "        }\n",
              "        (() => {\n",
              "          let quickchartButtonEl =\n",
              "            document.querySelector('#df-33adda81-8745-4a64-b26f-a34cc5cff090 button');\n",
              "          quickchartButtonEl.style.display =\n",
              "            google.colab.kernel.accessAllowed ? 'block' : 'none';\n",
              "        })();\n",
              "      </script>\n",
              "    </div>\n",
              "\n",
              "    </div>\n",
              "  </div>\n"
            ],
            "application/vnd.google.colaboratory.intrinsic+json": {
              "type": "dataframe",
              "variable_name": "heart_df_na"
            }
          },
          "metadata": {},
          "execution_count": 31
        }
      ]
    },
    {
      "cell_type": "code",
      "source": [
        "heart_df_na['Stress Level'].value_counts()"
      ],
      "metadata": {
        "colab": {
          "base_uri": "https://localhost:8080/",
          "height": 209
        },
        "id": "dG6sv-WS2gVL",
        "outputId": "de77d669-60c9-42e1-be3b-07699823343b"
      },
      "execution_count": 32,
      "outputs": [
        {
          "output_type": "execute_result",
          "data": {
            "text/plain": [
              "Stress Level\n",
              "Medium    3234\n",
              "Low       3179\n",
              "High      3140\n",
              "Name: count, dtype: int64"
            ],
            "text/html": [
              "<div>\n",
              "<style scoped>\n",
              "    .dataframe tbody tr th:only-of-type {\n",
              "        vertical-align: middle;\n",
              "    }\n",
              "\n",
              "    .dataframe tbody tr th {\n",
              "        vertical-align: top;\n",
              "    }\n",
              "\n",
              "    .dataframe thead th {\n",
              "        text-align: right;\n",
              "    }\n",
              "</style>\n",
              "<table border=\"1\" class=\"dataframe\">\n",
              "  <thead>\n",
              "    <tr style=\"text-align: right;\">\n",
              "      <th></th>\n",
              "      <th>count</th>\n",
              "    </tr>\n",
              "    <tr>\n",
              "      <th>Stress Level</th>\n",
              "      <th></th>\n",
              "    </tr>\n",
              "  </thead>\n",
              "  <tbody>\n",
              "    <tr>\n",
              "      <th>Medium</th>\n",
              "      <td>3234</td>\n",
              "    </tr>\n",
              "    <tr>\n",
              "      <th>Low</th>\n",
              "      <td>3179</td>\n",
              "    </tr>\n",
              "    <tr>\n",
              "      <th>High</th>\n",
              "      <td>3140</td>\n",
              "    </tr>\n",
              "  </tbody>\n",
              "</table>\n",
              "</div><br><label><b>dtype:</b> int64</label>"
            ]
          },
          "metadata": {},
          "execution_count": 32
        }
      ]
    },
    {
      "cell_type": "markdown",
      "source": [
        "#8. 범주형 변수 인코딩\n",
        "## 아래 조건에 해당하는 범주형 컬럼 데이터를 가이드에 맞춰 변환하세요.\n",
        "- 대상 데이터프레임 : heart_df_na\n",
        "범주형 변수:\n",
        "- YN_cols = ['Smoking', 'Family Heart Disease', 'Diabetes', 'High Blood Pressure', 'Low HDL Cholesterol', 'High LDL Cholesterol']\n",
        "- Exercise Habits: ['High', 'Medium', 'Low']\n",
        "- Alcohol Consumption: ['High', 'Medium', 'Low']\n",
        "- Stress Level: ['High', 'Medium', 'Low']\n",
        "\n",
        "1. 'Yes'와 'No' 값 변환: YN_cols에 있는 컬럼들의 값을 'Yes'는 1로, 'No'는 0으로 변환하세요.\n",
        "2. Exercise Habits 컬럼에 대해 Label Encoding을 적용하세요.\n",
        "3. Alcohol Consumption, Stress Level, Sugar Consumption 컬럼에 대해 One-Hot Encoding을 적용하세요. 첫 번째 카테고리는 드롭하세요.\n",
        "4. 'Stress Level': Stress Level 컬럼에 대해 매핑을 사용하여 'Low'는 0, 'Medium'은 1, 'High'는 2로 변환하세요.\n",
        "\n",
        "- 반영된 결과를 새로운 데이터프레임 변수명 heart_df_preset에 저장하세요."
      ],
      "metadata": {
        "id": "enRCcgrgEPay"
      }
    },
    {
      "cell_type": "code",
      "source": [
        "# 여기에 답안코드를 작성하세요.\n",
        "# 주로 사용하는 범주형 변수를 변환하는 4가지 방법\n",
        "\n",
        "# YN_cols에 있는 컬럼들을 순회하며 'Yes'는 1로, 'No'는 0으로 변환\n",
        "YN_cols = ['Smoking', 'Family Heart Disease', 'Diabetes', 'High Blood Pressure', 'Low HDL Cholesterol', 'High LDL Cholesterol']\n",
        "for col in YN_cols:\n",
        "    heart_df_na[col] = heart_df_na[col].replace({'Yes': 1, 'No': 0}).astype(int)\n",
        "\n",
        "# 'Exercise Habits' 컬럼에 대해 Label Encoding 적용\n",
        "from sklearn.preprocessing import LabelEncoder\n",
        "label_encoder = LabelEncoder()\n",
        "heart_df_na['Exercise Habits'] = label_encoder.fit_transform(heart_df_na['Exercise Habits'])\n",
        "\n",
        "# 아래의 'Alcohol Consumption'을 라벨 인코딩한다면 새로운 라벨 인코더 1개 더 만들어서 진행\n",
        "# label_encoder2 = LabelEncoder()\n",
        "# heart_df_na['Alcohol Consumption'] = label_encoder2.fit_transform(heart_df_na['Alcohol Consumption'])\n",
        "\n",
        "# 'Alcohol Consumption', 'Stress Level', 'Sugar Consumption' 컬럼에 대해 One-Hot Encoding 적용\n",
        "heart_df_na = pd.get_dummies(data=heart_df_na, columns=['Alcohol Consumption', 'Stress Level', 'Sugar Consumption'], drop_first=True)\n",
        "\n",
        "# 'Gender' 컬럼에 대해 매핑 적용 (Male: 0, Female: 1)\n",
        "heart_df_na['Gender'] = heart_df_na['Gender'].map({'Male': 0, 'Female': 1})\n",
        "\n",
        "heart_df_preset = heart_df_na.copy()"
      ],
      "metadata": {
        "id": "wLjm0MCzEj7Q",
        "colab": {
          "base_uri": "https://localhost:8080/"
        },
        "outputId": "063e880d-454a-4434-8b67-6706dbe43370"
      },
      "execution_count": 33,
      "outputs": [
        {
          "output_type": "stream",
          "name": "stderr",
          "text": [
            "<ipython-input-33-3704fe5605d5>:7: FutureWarning: Downcasting behavior in `replace` is deprecated and will be removed in a future version. To retain the old behavior, explicitly call `result.infer_objects(copy=False)`. To opt-in to the future behavior, set `pd.set_option('future.no_silent_downcasting', True)`\n",
            "  heart_df_na[col] = heart_df_na[col].replace({'Yes': 1, 'No': 0}).astype(int)\n",
            "<ipython-input-33-3704fe5605d5>:7: FutureWarning: Downcasting behavior in `replace` is deprecated and will be removed in a future version. To retain the old behavior, explicitly call `result.infer_objects(copy=False)`. To opt-in to the future behavior, set `pd.set_option('future.no_silent_downcasting', True)`\n",
            "  heart_df_na[col] = heart_df_na[col].replace({'Yes': 1, 'No': 0}).astype(int)\n",
            "<ipython-input-33-3704fe5605d5>:7: FutureWarning: Downcasting behavior in `replace` is deprecated and will be removed in a future version. To retain the old behavior, explicitly call `result.infer_objects(copy=False)`. To opt-in to the future behavior, set `pd.set_option('future.no_silent_downcasting', True)`\n",
            "  heart_df_na[col] = heart_df_na[col].replace({'Yes': 1, 'No': 0}).astype(int)\n",
            "<ipython-input-33-3704fe5605d5>:7: FutureWarning: Downcasting behavior in `replace` is deprecated and will be removed in a future version. To retain the old behavior, explicitly call `result.infer_objects(copy=False)`. To opt-in to the future behavior, set `pd.set_option('future.no_silent_downcasting', True)`\n",
            "  heart_df_na[col] = heart_df_na[col].replace({'Yes': 1, 'No': 0}).astype(int)\n",
            "<ipython-input-33-3704fe5605d5>:7: FutureWarning: Downcasting behavior in `replace` is deprecated and will be removed in a future version. To retain the old behavior, explicitly call `result.infer_objects(copy=False)`. To opt-in to the future behavior, set `pd.set_option('future.no_silent_downcasting', True)`\n",
            "  heart_df_na[col] = heart_df_na[col].replace({'Yes': 1, 'No': 0}).astype(int)\n",
            "<ipython-input-33-3704fe5605d5>:7: FutureWarning: Downcasting behavior in `replace` is deprecated and will be removed in a future version. To retain the old behavior, explicitly call `result.infer_objects(copy=False)`. To opt-in to the future behavior, set `pd.set_option('future.no_silent_downcasting', True)`\n",
            "  heart_df_na[col] = heart_df_na[col].replace({'Yes': 1, 'No': 0}).astype(int)\n"
          ]
        }
      ]
    },
    {
      "cell_type": "code",
      "source": [
        "heart_df_preset.info()"
      ],
      "metadata": {
        "colab": {
          "base_uri": "https://localhost:8080/"
        },
        "id": "hg82PVR-4p2S",
        "outputId": "6d8fe62f-5752-4cf9-e31e-bf042d118614"
      },
      "execution_count": 34,
      "outputs": [
        {
          "output_type": "stream",
          "name": "stdout",
          "text": [
            "<class 'pandas.core.frame.DataFrame'>\n",
            "Index: 9553 entries, 1 to 9999\n",
            "Data columns (total 26 columns):\n",
            " #   Column                      Non-Null Count  Dtype  \n",
            "---  ------                      --------------  -----  \n",
            " 0   Age                         9553 non-null   float64\n",
            " 1   Gender                      9553 non-null   int64  \n",
            " 2   Blood Pressure              9553 non-null   float64\n",
            " 3   Cholesterol Level           9553 non-null   float64\n",
            " 4   Exercise Habits             9553 non-null   int64  \n",
            " 5   Smoking                     9553 non-null   int64  \n",
            " 6   Family Heart Disease        9553 non-null   int64  \n",
            " 7   Diabetes                    9553 non-null   int64  \n",
            " 8   BMI                         9553 non-null   float64\n",
            " 9   High Blood Pressure         9553 non-null   int64  \n",
            " 10  Low HDL Cholesterol         9553 non-null   int64  \n",
            " 11  High LDL Cholesterol        9553 non-null   int64  \n",
            " 12  Sleep Hours                 9553 non-null   int64  \n",
            " 13  Triglyceride Level          9553 non-null   float64\n",
            " 14  Fasting Blood Sugar         9553 non-null   float64\n",
            " 15  CRP Level                   9553 non-null   float64\n",
            " 16  Homocysteine Level          9553 non-null   float64\n",
            " 17  Heart Disease Status        9553 non-null   int64  \n",
            " 18  BMI_BP                      9553 non-null   float64\n",
            " 19  Chol_Age                    9553 non-null   float64\n",
            " 20  Alcohol Consumption_Low     9553 non-null   bool   \n",
            " 21  Alcohol Consumption_Medium  9553 non-null   bool   \n",
            " 22  Stress Level_Low            9553 non-null   bool   \n",
            " 23  Stress Level_Medium         9553 non-null   bool   \n",
            " 24  Sugar Consumption_Low       9553 non-null   bool   \n",
            " 25  Sugar Consumption_Medium    9553 non-null   bool   \n",
            "dtypes: bool(6), float64(10), int64(10)\n",
            "memory usage: 1.6 MB\n"
          ]
        }
      ]
    },
    {
      "cell_type": "markdown",
      "source": [
        "#9. 훈련, 검증 데이터셋 분리.\n",
        "## Heart Disease Status(심장질환 여부)컬럼을 label값 y로, 나머지 컬럼을 feature값 X로 할당한 후 훈련 데이터셋과 검증 데이터셋으로 분리하세요.\n",
        "##추가로, 가이드에 따라서 훈련 데이터셋과 검증 데이터셋에 스케일링을 수행하세요.\n",
        "- 대상 데이터프레임 : heart_df_preset\n",
        "- 훈련과 검증 데이터셋 분리\n",
        "-- 훈련 데이터셋 Label : y_train, 훈련 데이터셋 Feature : X_train\n",
        "-- 검증 데이터셋 Label : y_valid, 검증 데이터셋 Feature : X_valid\n",
        "-- 훈련 데이터셋과 검증 데이터셋 비율은 80:20\n",
        "-- random_state : 22\n",
        "-- 훈련과 검증 데이터셋의 Label 비율이 동일하도록 설정하세요.\n",
        "-- Scikit_learn train_test_split 함수를 활용하세요.\n",
        "- RobustScaler 스케일링 수행\n",
        "-- sklearn.preprocessing의 RobustScaler 함수 사용\n",
        "-- 훈련 데이터셋의 Feature는 RobustScaler fit_transfom 함수를 활용하여 x_train 변수로 할당\n",
        "-- 검증 데이터셋의 Feature는 RobustScaler transform 함수를 활용하여 x_valid 변수로 할당\n",
        "- 스케일링이 끝난 x_train의 행과 열의 갯수를 구해 답안09에 저장하세요. (예. 답안09 = [100, 100] )\n",
        "##**대소문자 주의**\n"
      ],
      "metadata": {
        "id": "SVAuQPjcEk1x"
      }
    },
    {
      "cell_type": "code",
      "source": [
        "# 여기에 답안코드를 작성하세요.\n",
        "from sklearn.model_selection import train_test_split\n",
        "X = heart_df_preset.drop('Heart Disease Status', axis=1)\n",
        "y = heart_df_preset['Heart Disease Status']\n",
        "\n",
        "X_train, X_valid, y_train, y_valid = train_test_split(X, y, test_size=0.2, random_state=22, stratify=y)\n",
        "print(X_train.shape, X_valid.shape, y_train.shape, y_valid.shape)\n",
        "\n",
        "from sklearn.preprocessing import RobustScaler\n",
        "rbs = RobustScaler()\n",
        "x_train = rbs.fit_transform(X_train)\n",
        "x_valid = rbs.transform(X_valid)\n",
        "\n",
        "답안09 = [x_train.shape[0], x_train.shape[1]]\n",
        "print(답안09)"
      ],
      "metadata": {
        "id": "mhFizz-VFbSH",
        "colab": {
          "base_uri": "https://localhost:8080/"
        },
        "outputId": "74d8db52-f5c7-424b-b93f-26e769447a91"
      },
      "execution_count": 35,
      "outputs": [
        {
          "output_type": "stream",
          "name": "stdout",
          "text": [
            "(7642, 25) (1911, 25) (7642,) (1911,)\n",
            "[7642, 25]\n"
          ]
        }
      ]
    },
    {
      "cell_type": "markdown",
      "source": [
        "#10. 머신러닝 모델\n",
        "##아래 가이드에 따라 모델을 만들고 학습을 진행하세요.\n",
        "- 랜덤포레스트(RandomForest)\n",
        "-- 나무의 갯수(n_estimators)를 : 100으로 설정\n",
        "-- 노드를 분할하기 위한 최소한의 샘플 데이터수(min_samples_split) : 3으로 설정\n",
        "-- max_depth=5 설정\n",
        "-- random_state : 22로 설정\n",
        "-- 랜덤포레스트(RandomForest)모델을 rfc 변수에 저장해 주세요.\n",
        "- XGBoost 모델을 만들고 학습을 진행하세요.\n",
        "-- n_estimators=5 설정\n",
        "-- max_depth=5 설정\n",
        "-- random_state : 22로 설정\n",
        "-- XGBoost 모델을 xgbc 변수에 저장해 주세요.\n",
        "- 위의 모델에 대해 fit을 활용해 모델을 학습해 주세요. 학습 시 훈련 데이터셋을 활용해 주세요.\n",
        "- 검증 데이터 (x_valid, y_valid)와 rfc.score, xgbc.scroe를 통해 성능을 확인하세요."
      ],
      "metadata": {
        "id": "XPpqU27SFeII"
      }
    },
    {
      "cell_type": "code",
      "source": [
        "# 여기에 답안코드를 작성하세요.\n",
        "from sklearn.ensemble import RandomForestClassifier\n",
        "rfc = RandomForestClassifier(n_estimators=100,\n",
        "                             min_samples_split=3,\n",
        "                             max_depth=5,\n",
        "                             random_state=22)\n",
        "\n",
        "# XGBoost 모델 생성\n",
        "import xgboost as xgb\n",
        "xgbc = xgb.XGBClassifier(n_estimators=5,\n",
        "                         max_depth=5,\n",
        "                         random_state=22)\n",
        "\n",
        "# 학습 데이터셋을 활용하여 모델 학습\n",
        "rfc.fit(x_train, y_train)\n",
        "xgbc.fit(x_train, y_train)\n",
        "\n",
        "# 랜덤포레스트 성능 평가 (정확도 확인)\n",
        "rfc_accuracy = rfc.score(x_valid, y_valid)\n",
        "print(f\"RandomForest 정확도: {rfc_accuracy:.4f}\")\n",
        "\n",
        "# XGBoost 성능 평가 (정확도 확인)\n",
        "xgbc_accuracy = xgbc.score(x_valid, y_valid)\n",
        "print(f\"XGBoost 정확도: {xgbc_accuracy:.4f}\")"
      ],
      "metadata": {
        "id": "dBmJGkGAGVda",
        "colab": {
          "base_uri": "https://localhost:8080/"
        },
        "outputId": "0d848c41-cb29-4200-ff1f-a986f42a5345"
      },
      "execution_count": 36,
      "outputs": [
        {
          "output_type": "stream",
          "name": "stdout",
          "text": [
            "RandomForest 정확도: 0.7996\n",
            "XGBoost 정확도: 0.7996\n"
          ]
        }
      ]
    },
    {
      "cell_type": "code",
      "source": [
        "# DecisionTree 성능 평가\n",
        "from sklearn.metrics import confusion_matrix, classification_report\n",
        "from sklearn.tree import DecisionTreeClassifier\n",
        "\n",
        "dtc = DecisionTreeClassifier()\n",
        "dtc.fit(x_train, y_train)\n",
        "\n",
        "dtc_accuracy = dtc.score(x_valid, y_valid)\n",
        "print(f\"Decisiontree 정확도: {dtc_accuracy:.4f}\")\n",
        "\n",
        "dtc_pred = dtc.predict(x_valid)\n",
        "cm = confusion_matrix(y_valid, dtc_pred)\n",
        "sns.heatmap(cm, annot=True, fmt='d', cmap='Blues')\n",
        "plt.title('Decision Tree Confusion Matrix')\n",
        "plt.show()\n",
        "\n",
        "#---------------------------------------\n",
        "# 랜덤 포레스트 모델로 예측\n",
        "rfc_pred = rfc.predict(x_valid)\n",
        "rfc_cm = confusion_matrix(y_valid, rfc_pred)\n",
        "sns.heatmap(rfc_cm, annot=True, fmt='d', cmap='Blues')\n",
        "plt.title('Random Forest Confusion Matrix')\n",
        "plt.show()\n",
        "\n",
        "# XGBoost 모델로 예측\n",
        "xgbc_pred = xgbc.predict(x_valid)\n",
        "xgbc_cm = confusion_matrix(y_valid, xgbc_pred)\n",
        "sns.heatmap(xgbc_cm, annot=True, fmt='d', cmap='Blues')\n",
        "plt.title('XGBoost Confusion Matrix')\n",
        "plt.show()\n"
      ],
      "metadata": {
        "colab": {
          "base_uri": "https://localhost:8080/",
          "height": 1000
        },
        "id": "AMKyx3kaE7-E",
        "outputId": "bbea8d13-f67c-4984-a7ac-50edb02a4424"
      },
      "execution_count": 37,
      "outputs": [
        {
          "output_type": "stream",
          "name": "stdout",
          "text": [
            "Decisiontree 정확도: 0.6583\n"
          ]
        },
        {
          "output_type": "display_data",
          "data": {
            "text/plain": [
              "<Figure size 640x480 with 2 Axes>"
            ],
            "image/png": "[encoded data removed]"
          },
          "metadata": {}
        },
        {
          "output_type": "display_data",
          "data": {
            "text/plain": [
              "<Figure size 640x480 with 2 Axes>"
            ],
            "image/png": "[encoded data removed]"
          },
          "metadata": {}
        },
        {
          "output_type": "display_data",
          "data": {
            "text/plain": [
              "<Figure size 640x480 with 2 Axes>"
            ],
            "image/png": "[encoded data removed]"
          },
          "metadata": {}
        }
      ]
    },
    {
      "cell_type": "markdown",
      "source": [
        "## 다음 문항을 풀기 전에 아래 코드를 실행하세요\n",
        "\n",
        "\n"
      ],
      "metadata": {
        "id": "VCog4yJcHKSd"
      }
    },
    {
      "cell_type": "code",
      "source": [
        "import tensorflow as tf\n",
        "from tensorflow.keras.models import Sequential, load_model\n",
        "from tensorflow.keras.layers import Dense, Activation, Dropout, BatchNormalization\n",
        "from tensorflow.keras.callbacks import EarlyStopping, ModelCheckpoint\n",
        "from tensorflow.keras.utils import to_categorical\n",
        "\n",
        "tf.random.set_seed(1)"
      ],
      "metadata": {
        "id": "IMxYuq8ZHOr-"
      },
      "execution_count": 38,
      "outputs": []
    },
    {
      "cell_type": "markdown",
      "source": [],
      "metadata": {
        "id": "eurD153T-1ul"
      }
    },
    {
      "cell_type": "markdown",
      "source": [
        "#11. 딥러닝 모델\n",
        "##아래 가이드에 따라 모델을 만들고 학습을 진행하세요.\n",
        "다음 조건에 맞추어 심장질환 여부를 예측하는 딥러닝 모델을 구축하고 학습을 진행하세요.\n",
        "\n",
        "#### 1. 모델 아키텍처\n",
        "- **프레임워크**: TensorFlow 사용\n",
        "- **레이어**:\n",
        "  - `Dense(128)` 레이어, 활성화 함수: `relu`\n",
        "  - `Dropout(0.1)`\n",
        "  - `Dense(64)` 레이어, 활성화 함수: `relu`\n",
        "  - `Dropout(0.1)`\n",
        "  - `Dense(32)` 레이어, 활성화 함수: `relu`\n",
        "  - `Dropout(0.1)`\n",
        "  - `Dense(16)` 레이어, 활성화 함수: `relu`\n",
        "  - `Dropout(0.1)`\n",
        "  - `Dense(2)` 레이어, 활성화 함수: `softmax`\n",
        "\n",
        "#### 2. 데이터 전처리\n",
        "- `y_train`과 `y_valid`에 대해 `to_categorical`을 사용하여 원-핫 인코딩을 적용하세요.\n",
        "\n",
        "#### 3. 모델 컴파일\n",
        "- **손실 함수**: `CategoricalCrossentropy`\n",
        "- **하이퍼파라미터**:\n",
        "  - `epochs = 100`\n",
        "  - `batch_size = 32`\n",
        "- 각 에포크마다 검증 데이터를 사용하여 `loss`와 `metrics`를 평가하세요.\n",
        "\n",
        "#### 4. 콜백\n",
        "- `estop`: `EarlyStopping` 콜백을 적용하고 `patience=5`로 설정하여, 가장 좋은 성능의 가중치를 복원합니다.\n",
        "- `mcheck`: `ModelCheckpoint` 콜백을 적용하여, 가장 좋은 성능의 모델을 `best_model.h5`로 저장합니다.\n",
        "\n",
        "#### 5. 학습\n",
        "- 학습 정보는 `history` 변수에 저장됩니다.\n",
        "\n",
        "#### 6. 모델 평가\n",
        "- 학습이 완료된 후, 모델 성능을 평가하세요."
      ],
      "metadata": {
        "id": "Vlz0sU8vHjdT"
      }
    },
    {
      "cell_type": "code",
      "source": [
        "# 여기에 답안코드를 작성하세요.\n",
        "\n",
        "# 1. 데이터 전처리\n",
        "# y_train과 y_valid를 원-핫 인코딩\n",
        "y_train = to_categorical(y_train, num_classes=2)\n",
        "y_valid = to_categorical(y_valid, num_classes=2)\n",
        "\n",
        "# 2. 딥러닝 모델 구성\n",
        "model = Sequential()\n",
        "model.add(Dense(128, activation='relu', input_dim=x_train.shape[1]))\n",
        "model.add(Dropout(0.1))\n",
        "model.add(Dense(64, activation='relu'))\n",
        "model.add(Dropout(0.1))\n",
        "model.add(Dense(32, activation='relu'))\n",
        "model.add(Dropout(0.1))\n",
        "model.add(Dense(16, activation='relu'))\n",
        "model.add(Dropout(0.1))\n",
        "# 출력 레이어 (2개의 클래스)\n",
        "model.add(Dense(2, activation='softmax'))\n",
        "\n",
        "# 3. 모델 컴파일\n",
        "model.compile(optimizer='adam', loss='categorical_crossentropy', metrics=['accuracy'])\n",
        "\n",
        "# 4. 콜백 설정\n",
        "estop = EarlyStopping(monitor='val_loss', patience=5, restore_best_weights=True, verbose=1)\n",
        "mcheck = ModelCheckpoint('best_model.h5', monitor='val_loss', save_best_only=True, verbose=1)\n",
        "\n",
        "# 5. 모델 학습\n",
        "history = model.fit(x_train, y_train,\n",
        "                    epochs=100,\n",
        "                    batch_size=32,\n",
        "                    validation_data=(x_valid, y_valid),\n",
        "                    callbacks=[estop, mcheck],\n",
        "                    verbose=1)\n",
        "\n",
        "# 6. 학습 완료 후 모델 평가\n",
        "model.evaluate(x_valid, y_valid)\n"
      ],
      "metadata": {
        "id": "UkN1Ao1wIDNS",
        "colab": {
          "base_uri": "https://localhost:8080/"
        },
        "outputId": "f954c0bf-e146-446c-cec1-fe5ea746e79d"
      },
      "execution_count": 39,
      "outputs": [
        {
          "output_type": "stream",
          "name": "stderr",
          "text": [
            "/usr/local/lib/python3.11/dist-packages/keras/src/layers/core/dense.py:87: UserWarning: Do not pass an `input_shape`/`input_dim` argument to a layer. When using Sequential models, prefer using an `Input(shape)` object as the first layer in the model instead.\n",
            "  super().__init__(activity_regularizer=activity_regularizer, **kwargs)\n"
          ]
        },
        {
          "output_type": "stream",
          "name": "stdout",
          "text": [
            "Epoch 1/100\n",
            "\u001b[1m237/239\u001b[0m \u001b[32m━━━━━━━━━━━━━━━━━━━\u001b[0m\u001b[37m━\u001b[0m \u001b[1m0s\u001b[0m 11ms/step - accuracy: 0.7572 - loss: 0.5533\n",
            "Epoch 1: val_loss improved from inf to 0.50032, saving model to best_model.h5\n"
          ]
        },
        {
          "output_type": "stream",
          "name": "stderr",
          "text": [
            "WARNING:absl:You are saving your model as an HDF5 file via `model.save()` or `keras.saving.save_model(model)`. This file format is considered legacy. We recommend using instead the native Keras format, e.g. `model.save('my_model.keras')` or `keras.saving.save_model(model, 'my_model.keras')`. \n"
          ]
        },
        {
          "output_type": "stream",
          "name": "stdout",
          "text": [
            "\b\b\b\b\b\b\b\b\b\b\b\b\b\b\b\b\b\b\b\b\b\b\b\b\b\b\b\b\b\b\b\b\b\b\b\b\b\b\b\b\b\b\b\b\b\b\b\b\b\b\b\b\b\b\b\b\b\b\b\b\b\b\b\b\b\b\b\b\b\b\b\b\b\b\b\r\u001b[1m239/239\u001b[0m \u001b[32m━━━━━━━━━━━━━━━━━━━━\u001b[0m\u001b[37m\u001b[0m \u001b[1m17s\u001b[0m 19ms/step - accuracy: 0.7576 - loss: 0.5529 - val_accuracy: 0.7996 - val_loss: 0.5003\n",
            "Epoch 2/100\n",
            "\u001b[1m234/239\u001b[0m \u001b[32m━━━━━━━━━━━━━━━━━━━\u001b[0m\u001b[37m━\u001b[0m \u001b[1m0s\u001b[0m 14ms/step - accuracy: 0.7972 - loss: 0.5113\n",
            "Epoch 2: val_loss did not improve from 0.50032\n",
            "\u001b[1m239/239\u001b[0m \u001b[32m━━━━━━━━━━━━━━━━━━━━\u001b[0m\u001b[37m\u001b[0m \u001b[1m4s\u001b[0m 17ms/step - accuracy: 0.7973 - loss: 0.5112 - val_accuracy: 0.7996 - val_loss: 0.5028\n",
            "Epoch 3/100\n",
            "\u001b[1m237/239\u001b[0m \u001b[32m━━━━━━━━━━━━━━━━━━━\u001b[0m\u001b[37m━\u001b[0m \u001b[1m0s\u001b[0m 8ms/step - accuracy: 0.7973 - loss: 0.5055\n",
            "Epoch 3: val_loss did not improve from 0.50032\n",
            "\u001b[1m239/239\u001b[0m \u001b[32m━━━━━━━━━━━━━━━━━━━━\u001b[0m\u001b[37m\u001b[0m \u001b[1m3s\u001b[0m 10ms/step - accuracy: 0.7973 - loss: 0.5055 - val_accuracy: 0.7996 - val_loss: 0.5037\n",
            "Epoch 4/100\n",
            "\u001b[1m233/239\u001b[0m \u001b[32m━━━━━━━━━━━━━━━━━━━\u001b[0m\u001b[37m━\u001b[0m \u001b[1m0s\u001b[0m 8ms/step - accuracy: 0.7972 - loss: 0.5021\n",
            "Epoch 4: val_loss did not improve from 0.50032\n",
            "\u001b[1m239/239\u001b[0m \u001b[32m━━━━━━━━━━━━━━━━━━━━\u001b[0m\u001b[37m\u001b[0m \u001b[1m3s\u001b[0m 11ms/step - accuracy: 0.7973 - loss: 0.5020 - val_accuracy: 0.7996 - val_loss: 0.5064\n",
            "Epoch 5/100\n",
            "\u001b[1m231/239\u001b[0m \u001b[32m━━━━━━━━━━━━━━━━━━━\u001b[0m\u001b[37m━\u001b[0m \u001b[1m0s\u001b[0m 8ms/step - accuracy: 0.7972 - loss: 0.5021\n",
            "Epoch 5: val_loss did not improve from 0.50032\n",
            "\u001b[1m239/239\u001b[0m \u001b[32m━━━━━━━━━━━━━━━━━━━━\u001b[0m\u001b[37m\u001b[0m \u001b[1m3s\u001b[0m 10ms/step - accuracy: 0.7973 - loss: 0.5019 - val_accuracy: 0.7996 - val_loss: 0.5089\n",
            "Epoch 6/100\n",
            "\u001b[1m232/239\u001b[0m \u001b[32m━━━━━━━━━━━━━━━━━━━\u001b[0m\u001b[37m━\u001b[0m \u001b[1m0s\u001b[0m 6ms/step - accuracy: 0.7972 - loss: 0.4993\n",
            "Epoch 6: val_loss did not improve from 0.50032\n",
            "\u001b[1m239/239\u001b[0m \u001b[32m━━━━━━━━━━━━━━━━━━━━\u001b[0m\u001b[37m\u001b[0m \u001b[1m2s\u001b[0m 9ms/step - accuracy: 0.7973 - loss: 0.4991 - val_accuracy: 0.7996 - val_loss: 0.5097\n",
            "Epoch 6: early stopping\n",
            "Restoring model weights from the end of the best epoch: 1.\n",
            "\u001b[1m60/60\u001b[0m \u001b[32m━━━━━━━━━━━━━━━━━━━━\u001b[0m\u001b[37m\u001b[0m \u001b[1m0s\u001b[0m 7ms/step - accuracy: 0.7914 - loss: 0.5117\n"
          ]
        },
        {
          "output_type": "execute_result",
          "data": {
            "text/plain": [
              "[0.5003223419189453, 0.7995813488960266]"
            ]
          },
          "metadata": {},
          "execution_count": 39
        }
      ]
    },
    {
      "cell_type": "markdown",
      "source": [
        "#12.위 딥러닝 모델의 성능을 평가하려고 합니다.\n",
        "## Matplotlib 라이브러리 활용해서 학습 Accuracy 검증 Accuracy를 그래프로 표시하세요.\n",
        "- 위의 history 데이터를 이용하여 그래프를 그립니다.\n",
        "- 1개의 그래프에 학습Accuracy와 검증Accuracy 2가지를 모두 표시하세요.\n",
        "- 위 2가지 각각의 범례를 'Accuracy', 'Val_Accuracy'로 표시하세요.\n",
        "- 그래프의 타이틀은 'Model Accuracy'로 표시하세요.\n",
        "- X축에는 'Epochs'라고 표시하고 Y축에는 'Accuracy'라고 표시하세요."
      ],
      "metadata": {
        "id": "0zctwbnkIFl4"
      }
    },
    {
      "cell_type": "code",
      "source": [
        "# 여기에 답안코드를 작성하세요.\n",
        "plt.plot(history.history['accuracy'], label='accuracy')\n",
        "plt.plot(history.history['val_accuracy'], label='val_accuracy')\n",
        "\n",
        "plt.title('Model Accuracy')\n",
        "plt.xlabel('Epochs')\n",
        "plt.ylabel('Accuracy')\n",
        "\n",
        "plt.legend()\n",
        "plt.show()"
      ],
      "metadata": {
        "id": "CUPbGtrXIGO1",
        "colab": {
          "base_uri": "https://localhost:8080/",
          "height": 469
        },
        "outputId": "827a3b7e-2bb9-402a-f04c-390dc6ae669b"
      },
      "execution_count": 40,
      "outputs": [
        {
          "output_type": "display_data",
          "data": {
            "text/plain": [
              "<Figure size 640x480 with 1 Axes>"
            ],
            "image/png": "[encoded data removed]"
          },
          "metadata": {}
        }
      ]
    },
    {
      "cell_type": "markdown",
      "source": [
        "#13. ModelCheckpoint를 이용해 저장된 'best_model.h5'모델을 load_model로 불러와서 검증데이터의 예측 결과를 확인하려고 합니다.\n",
        "- 불러오는 변수명 : best_model\n",
        "- 테스트 데이터셋 : x_valid, y_valid\n",
        "- 모델로 예측한 결과를 model_pred 변수에 저장하세요.\n",
        "- 임계값(threshold) 0.5를 기준으로 0 또는 1로 변환한 결과를 model_y_pred 변수에 저장하세요.\n",
        "- confusion_matrix()를 사용하여 y_valid와 예측한 model_y_pred를 비교\n",
        "-- seaborn의 heatmap()을 사용하여 시각화 annot=True, fmt='d', cmap='Blues' 옵션 사용\n",
        "- classification_report()를 사용하여 정밀도, 재현율, f1-score 등 포함된 성능 리포트 출력 (* print 내에 같이 사용하여 출력)"
      ],
      "metadata": {
        "id": "iLpKbrE-p2J0"
      }
    },
    {
      "cell_type": "code",
      "source": [
        "# 여기에 답안코드를 작성하세요.\n",
        "\n",
        "from sklearn.metrics import confusion_matrix, classification_report\n",
        "\n",
        "# 1. 저장된 모델 불러오기\n",
        "best_model = load_model('best_model.h5')\n",
        "\n",
        "# 2. 검증 데이터로 예측\n",
        "model_pred = best_model.predict(x_valid)\n",
        "\n",
        "# 3. 예측 결과를 argmax로 높은 확률값 확인\n",
        "model_y_pred = np.argmax(model_pred, axis=1)\n",
        "\n",
        "# 4. confusion_matrix 시각화\n",
        "# y_valid.argmax(axis=1) 이거는 위에 to_categorical 인코딩을 진행해서 추가로 설정.\n",
        "cm = confusion_matrix(y_valid.argmax(axis=1), model_y_pred)\n",
        "sns.heatmap(cm, annot=True, fmt='d', cmap='Blues')\n",
        "plt.show()\n",
        "\n",
        "# 5. classification_report 출력\n",
        "print(classification_report(y_valid.argmax(axis=1), model_y_pred))\n"
      ],
      "metadata": {
        "id": "tI1Pr-Z7p1d3",
        "colab": {
          "base_uri": "https://localhost:8080/",
          "height": 767
        },
        "outputId": "483c53fe-511e-4041-ecb7-5a3565e484f8"
      },
      "execution_count": 41,
      "outputs": [
        {
          "output_type": "stream",
          "name": "stderr",
          "text": [
            "WARNING:absl:Compiled the loaded model, but the compiled metrics have yet to be built. `model.compile_metrics` will be empty until you train or evaluate the model.\n"
          ]
        },
        {
          "output_type": "stream",
          "name": "stdout",
          "text": [
            "\u001b[1m60/60\u001b[0m \u001b[32m━━━━━━━━━━━━━━━━━━━━\u001b[0m\u001b[37m\u001b[0m \u001b[1m0s\u001b[0m 4ms/step\n"
          ]
        },
        {
          "output_type": "display_data",
          "data": {
            "text/plain": [
              "<Figure size 640x480 with 2 Axes>"
            ],
            "image/png": "[encoded data removed]"
          },
          "metadata": {}
        },
        {
          "output_type": "stream",
          "name": "stdout",
          "text": [
            "              precision    recall  f1-score   support\n",
            "\n",
            "           0       0.80      1.00      0.89      1528\n",
            "           1       0.00      0.00      0.00       383\n",
            "\n",
            "    accuracy                           0.80      1911\n",
            "   macro avg       0.40      0.50      0.44      1911\n",
            "weighted avg       0.64      0.80      0.71      1911\n",
            "\n"
          ]
        },
        {
          "output_type": "stream",
          "name": "stderr",
          "text": [
            "/usr/local/lib/python3.11/dist-packages/sklearn/metrics/_classification.py:1565: UndefinedMetricWarning: Precision is ill-defined and being set to 0.0 in labels with no predicted samples. Use `zero_division` parameter to control this behavior.\n",
            "  _warn_prf(average, modifier, f\"{metric.capitalize()} is\", len(result))\n",
            "/usr/local/lib/python3.11/dist-packages/sklearn/metrics/_classification.py:1565: UndefinedMetricWarning: Precision is ill-defined and being set to 0.0 in labels with no predicted samples. Use `zero_division` parameter to control this behavior.\n",
            "  _warn_prf(average, modifier, f\"{metric.capitalize()} is\", len(result))\n",
            "/usr/local/lib/python3.11/dist-packages/sklearn/metrics/_classification.py:1565: UndefinedMetricWarning: Precision is ill-defined and being set to 0.0 in labels with no predicted samples. Use `zero_division` parameter to control this behavior.\n",
            "  _warn_prf(average, modifier, f\"{metric.capitalize()} is\", len(result))\n"
          ]
        }
      ]
    },
    {
      "cell_type": "code",
      "source": [
        "np.unique(model_y_pred)"
      ],
      "metadata": {
        "colab": {
          "base_uri": "https://localhost:8080/"
        },
        "id": "liE7VmTeBi1X",
        "outputId": "89a82053-bc87-42c5-b001-3c2975da4d9a"
      },
      "execution_count": 42,
      "outputs": [
        {
          "output_type": "execute_result",
          "data": {
            "text/plain": [
              "array([0])"
            ]
          },
          "metadata": {},
          "execution_count": 42
        }
      ]
    },
    {
      "cell_type": "code",
      "source": [
        "# 시험에서 나왔던 예시랑 비슷하게\n",
        "# 1개 데이터만 추출\n",
        "test_data = x_valid[1000].reshape(1, -1)  # (1, feature 수) 형태로 맞춰줌\n",
        "\n",
        "# 예측\n",
        "single_pred = best_model.predict(test_data)\n",
        "\n",
        "# 결과 해석\n",
        "predicted_class = np.argmax(single_pred)\n",
        "\n",
        "# 0 -> 'No', 1 -> 'Yes' 변환\n",
        "result = np.where(predicted_class == 0, 'No', 'Yes')\n",
        "\n",
        "print(f\"모델 예측 결과: {result}\")"
      ],
      "metadata": {
        "colab": {
          "base_uri": "https://localhost:8080/"
        },
        "id": "L2BXmuL0tYNa",
        "outputId": "19347ba2-90a4-49e8-c74f-dd34458288db"
      },
      "execution_count": 45,
      "outputs": [
        {
          "output_type": "stream",
          "name": "stdout",
          "text": [
            "\u001b[1m1/1\u001b[0m \u001b[32m━━━━━━━━━━━━━━━━━━━━\u001b[0m\u001b[37m\u001b[0m \u001b[1m0s\u001b[0m 58ms/step\n",
            "모델 예측 결과: No\n"
          ]
        }
      ]
    },
    {
      "cell_type": "markdown",
      "source": [
        "#14. 학습이 완료된 딥러닝 모델과 랜덤 포레스트 모델 rfc를 저장하려고 합니다.\n",
        "- 딥러닝 모델 객체명 : best_model\n",
        "- 모델을 저장할 파일명 : \"deep_model.h5\"\n",
        "- 모델 저장은 Keras의 save 메서드를 사용하세요.\n",
        "\n",
        "- 랜덤 포레스트 모델 객체명 : rfc\n",
        "- 저장할 파일명 : \"rfc_model.pkl\"\n",
        "- 모델 저장은 joblib 라이브러리를 사용하세요."
      ],
      "metadata": {
        "id": "lkCV3TIHvdqA"
      }
    },
    {
      "cell_type": "code",
      "source": [
        "# 여기에 답안코드를 작성하세요.\n",
        "\n",
        "# 모델 저장\n",
        "best_model.save('deep_model.h5')\n",
        "import joblib\n",
        "\n",
        "# 랜덤 포레스트 모델 저장\n",
        "joblib.dump(rfc, 'rfc_model.pkl')\n",
        "\n",
        "#--------------------------------------------\n",
        "# 랜덤 포레스트 모델 불러오기\n",
        "rfc_loaded = joblib.load('rfc_model.pkl')\n",
        "\n",
        "# 모델을 사용하여 예측 수행\n",
        "rfc_predictions = rfc_loaded.predict(x_valid)\n"
      ],
      "metadata": {
        "id": "kGJ92UP_oLnj",
        "colab": {
          "base_uri": "https://localhost:8080/"
        },
        "outputId": "0b9f3138-bf3c-40ea-d3af-4ea22581552e"
      },
      "execution_count": 46,
      "outputs": [
        {
          "output_type": "stream",
          "name": "stderr",
          "text": [
            "WARNING:absl:You are saving your model as an HDF5 file via `model.save()` or `keras.saving.save_model(model)`. This file format is considered legacy. We recommend using instead the native Keras format, e.g. `model.save('my_model.keras')` or `keras.saving.save_model(model, 'my_model.keras')`. \n"
          ]
        }
      ]
    },
    {
      "cell_type": "code",
      "source": [],
      "metadata": {
        "id": "OZOtcNXMudS_"
      },
      "execution_count": null,
      "outputs": []
    }
  ]
}