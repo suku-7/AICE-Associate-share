{
  "nbformat": 4,
  "nbformat_minor": 0,
  "metadata": {
    "colab": {
      "provenance": []
    },
    "kernelspec": {
      "name": "python3",
      "display_name": "Python 3"
    },
    "language_info": {
      "name": "python"
    }
  },
  "cells": [
    {
      "cell_type": "markdown",
      "source": [
        "AICE ASSOCIATE 자격시험\n",
        "\n",
        "시험 시간 : 00:00 ~ 00:00 (90분)\n",
        "남은 시간 : 1시간 30분 [V 임시저장] [V 최종제출]"
      ],
      "metadata": {
        "id": "vquI6WNU_g5k"
      }
    },
    {
      "cell_type": "markdown",
      "source": [
        "AICE Associate 자격인증 샘플문항\n",
        "심장질환 데이터셋을 이용한 **심장질환 여부** 예측 문제\n",
        "- 심장질환 데이터를 읽어들여 데이터를 분석 및 전처리한 후 머신러닝과 딥러닝으로 **심장질환 여부**를 예측하고 결과를 분석하세요."
      ],
      "metadata": {
        "id": "Bxnxurqt_4Xp"
      }
    },
    {
      "cell_type": "markdown",
      "source": [
        "---\n",
        "[유의사항]\n",
        "- 각 문항의 답안코드는 반드시 '#여기에 답안코드를 작성하세요'로 표시된 cell에 작성해야 합니다.\n",
        "- 제공된 시험문항 cell을 삭제하거나 답안 위치가 아닌 다른 cell에 답안코드를 작성 시 채점되지 않습니다.\n",
        "- 시험 중에는 상단의 '임시저장'버튼을 클릭하여 저장을 해주시고, 답안 제출시에는 '최종제출' 버튼을 클릭해주시기 바랍니다.\n",
        "- 반드시 문제에 제시된 가이드를 읽고 답안 작성하세요.\n",
        "- 자격인증 문제에 제공된 데이터는 제 3자에게 공유하거나 개인적인 용도로 사용하는 등 외부로 요출할 수 없으면 유출로 인한 책임은 응시자 본인에게 있습니다.\n",
        "- Copy & Paste를 위한 메모장, 노션 등을 사용할 경우 부정행위로 간주될 수 있습니다.\n",
        "- 생성형 AI를 활용한 검색은 부정행위로 별도의 경고조치 없이 적발 즉시 시험 중단될 수 있습니다."
      ],
      "metadata": {
        "id": "_48_KkI2ACHl"
      }
    },
    {
      "cell_type": "markdown",
      "source": [
        "---\n",
        "[데이터 컬럼 설명 (데이터 파일명: heart_disease.csv)]\n"
      ],
      "metadata": {
        "id": "-t-e-U-BQxsF"
      }
    },
    {
      "cell_type": "markdown",
      "source": [
        "| 컬럼명                   | 설명                                   |\n",
        "|---------------------------|--------------------------------------|\n",
        "| Age                       | 나이                                  |\n",
        "| Gender                    | 성별                                  |\n",
        "| Blood Pressure            | 혈압 (mmHg)                           |\n",
        "| Cholesterol Level         | 콜레스테롤 수치 (mg/dL)               |\n",
        "| Exercise Habits           | 운동 습관 (High, Medium, Low)         |\n",
        "| Smoking                   | 흡연 여부 (Yes, No)                   |\n",
        "| Family Heart Disease      | 가족력 심장질환 여부 (Yes, No)        |\n",
        "| Diabetes                  | 당뇨 여부 (Yes, No)                   |\n",
        "| BMI                       | 체질량지수                            |\n",
        "| High Blood Pressure       | 고혈압 여부 (Yes, No)                 |\n",
        "| Low HDL Cholesterol       | 좋은 콜레스테롤(HDL) 낮은 여부 (Yes, No) |\n",
        "| High LDL Cholesterol      | 나쁜 콜레스테롤(LDL) 높은 여부 (Yes, No) |\n",
        "| Alcohol Consumption       | 음주 수준 (High, Medium, Low)         |\n",
        "| Stress Level              | 스트레스 수준 (High, Medium, Low)     |\n",
        "| Sleep Hours               | 수면 시간 (시간 단위)                 |\n",
        "| Sugar Consumption         | 당분 섭취 수준 (High, Medium, Low)    |\n",
        "| Triglyceride Level        | 중성지방 수치 (mg/dL)                 |\n",
        "| Fasting Blood Sugar       | 공복 혈당 수치 (mg/dL)                |\n",
        "| CRP Level                 | 염증 수치 (C-반응성 단백질 수치)       |\n",
        "| Homocysteine Level        | 호모시스테인 수치 (심혈관 위험 지표)   |\n",
        "| Heart Disease Status      | 심장질환 여부 (Yes, No)               |"
      ],
      "metadata": {
        "id": "jwaE3pXSAeCh"
      }
    },
    {
      "cell_type": "markdown",
      "source": [
        "#1.데이터 분석에 필요한 파이썬 라이브러리를 불러오세요.\n",
        "- scikit-learn를 별칭(alias) sk로 임포트하는 코드를 작성하고 실행하세요.\n",
        "- numpy를 사용할 수 있도록 별칭(alias)을 np로 해서 불러오세요.\n",
        "- Pandas를 사용할 수 있도록 별칭(alias)을 pd로 해서 불러오세요."
      ],
      "metadata": {
        "id": "WZqlrJynBE-u"
      }
    },
    {
      "cell_type": "code",
      "source": [
        "# 여기에 답안코드를 작성하세요.\n",
        "\n",
        "\n"
      ],
      "metadata": {
        "id": "bIFdZXN5BClx"
      },
      "execution_count": null,
      "outputs": []
    },
    {
      "cell_type": "markdown",
      "source": [
        "#2.데이터 시각화를 위해 널리 사용되는 파이썬 라이브러리를 불러오세요.\n",
        "- matplotlib.pyplot를 사용할 수 있도록 별칭(alias)을 plt로 해서 불러오세요.\n",
        "- seaborn을 사용할 수 있도록 별칭(alias)를 sns로 해서 불러오세요."
      ],
      "metadata": {
        "id": "MdneWHIsBc7h"
      }
    },
    {
      "cell_type": "code",
      "source": [
        "# 여기에 답안코드를 작성하세요.\n",
        "\n",
        "\n"
      ],
      "metadata": {
        "id": "br40t-shBnUK"
      },
      "execution_count": null,
      "outputs": []
    },
    {
      "cell_type": "markdown",
      "source": [
        "#3. 데이터 불러오기, 행, 열 갯수 확인\n",
        "###Pandas함수로 데이터 파일을 읽고 데이터프레임 변수명 heart_df에 할당하는 코드를 작성하세요.\n",
        "- heart_disease.csv 파일을 읽어 데이터 프레임 변수명 heart_df에 할당하세요.\n",
        "- heart_df 데이터셋의 행(Row)과 열(Column) 개수를 확인하여, 결과를 리스트 형태로 '답안03' 변수에 저장하세요.  \n",
        "- 리스트 형태는 [행 개수, 열 개수] 입니다.  \n",
        "- 예시: [100, 10] → 100개의 행, 10개의 열\n"
      ],
      "metadata": {
        "id": "PbT9WW2yBpkv"
      }
    },
    {
      "cell_type": "code",
      "source": [
        "# 여기에 답안코드를 작성하세요.\n",
        "\n",
        "\n"
      ],
      "metadata": {
        "id": "vIN9xtoRB0LH"
      },
      "execution_count": null,
      "outputs": []
    },
    {
      "cell_type": "markdown",
      "source": [
        "## 다음 문항을 풀기 전에 아래 코드를 실행하세요\n",
        "\n",
        "\n"
      ],
      "metadata": {
        "id": "h0FXaCTGCJKf"
      }
    },
    {
      "cell_type": "code",
      "source": [
        "!pip install koreanize-matplotlib\n",
        "import koreanize_matplotlib\n",
        "pd.options.display.max_columns = None"
      ],
      "metadata": {
        "id": "vcfEKtJQCHwf"
      },
      "execution_count": null,
      "outputs": []
    },
    {
      "cell_type": "markdown",
      "source": [
        "#4. 시각화\n",
        "## X축에는 Sleep Hours(수면시간)을 Y축에는 Heart Disease Status(심장질환 여부)에 대해 barplot 그래프로 만드는 코드와 답안을 작성하세요.\n",
        "- seaborn을 활용하세요.\n",
        "- Sleep Hours(수면시간)에 대해서 분포를 보여주는 bar를 그리세요.\n",
        "- Sleep Hours(수면시간)에 결측치가 있다면 mean(평균값)으로 채워주세요.\n",
        "- Sleep Hours을 round와 astype(int)를 활용하여 반올림하여 변환해주세요.\n",
        "- Heart Disease Status(심장질환 여부)의 컬럼을 replace를 이용하여 'Yes'는 1로, 'No'는 0으로 변환해주세요.\n",
        "\n",
        "- 출력된 그래프를 보고 해석한 것으로 옳은 선택지를 아래에서 골라 '답안04'변수에 저장하세요. (예. 답안04 = 4 )\n",
        "\n",
        "1. 수면 시간이 7시간일 때 심장질환 여부가 가장 낮은 비율이다.\n",
        "2. 수면 시간이 8시간일 때 심장질환 여부가 가장 높은 비율이다.\n",
        "3. 심장 질환 여부가 가장 낮은 비율의 수면시간은 5시간이다."
      ],
      "metadata": {
        "id": "TTgMUwcKCY0a"
      }
    },
    {
      "cell_type": "code",
      "source": [
        "# 여기에 답안코드를 작성하세요.\n",
        "\n",
        "\n"
      ],
      "metadata": {
        "id": "tgtOVof3C9tD"
      },
      "execution_count": null,
      "outputs": []
    },
    {
      "cell_type": "markdown",
      "source": [
        "#5.Feature Engineering (상호작용 변수 생성)\n",
        "##가이드에 따라서 새로운 컬럼을 만드세요.\n",
        "- 대상 데이터프레임 : heart_df\n",
        "#### 추가해야 할 상호작용 변수:\n",
        "1. `BMI`와 `Blood Pressure`의 곱을 이용해 `BMI_BP`라는 새로운 컬럼을 생성하세요.\n",
        "2. `Cholesterol Level`과 `Age`의 나누기를 이용해 `Chol_Age`라는 새로운 컬럼을 생성하세요.\n",
        "\n",
        "- 반영된 결과를 새로운 데이터프레임 변수명 heart_df_temp에 저장하세요."
      ],
      "metadata": {
        "id": "1M9HBJqkDT2D"
      }
    },
    {
      "cell_type": "code",
      "source": [
        "# 여기에 답안코드를 작성하세요.\n",
        "\n",
        "\n"
      ],
      "metadata": {
        "id": "3F6vT4GgDSAH"
      },
      "execution_count": null,
      "outputs": []
    },
    {
      "cell_type": "markdown",
      "source": [
        "#6.이상치 제거 (outliers)\n",
        "##아래 가이드를 따라 이상치를 처리하세요.\n",
        "- 대상 데이터프레임 : heart_df_temp\n",
        "\n",
        "### 이상치 제거\n",
        "1. `Fasting Blood Sugar` 컬럼에서 이상치를 처리하세요.\n",
        "   - `Fasting Blood Sugar` 컬럼의 값이 900 이상인 경우를 이상치로 간주하고,\n",
        "   - 이상치의 갯수를 구해 `답안06`에 저장하세요. (예. 답안06 = 10 )"
      ],
      "metadata": {
        "id": "EMRGUmjZDpvY"
      }
    },
    {
      "cell_type": "code",
      "source": [
        "# 여기에 답안코드를 작성하세요.\n",
        "\n",
        "\n"
      ],
      "metadata": {
        "id": "CrxkzeGeD5_P"
      },
      "execution_count": null,
      "outputs": []
    },
    {
      "cell_type": "markdown",
      "source": [
        "#7. 결측치 제거\n",
        "##아래 가이드를 따라 불필요 데이터를 삭제 처리하세요.\n",
        "- 대상 데이터프레임 : heart_df_temp\n",
        "- 결측치를 확인하는 코드를 작성하세요.\n",
        "- 'Alcohol Consumption' 컬럼의 결측치를 fillna를 이용하여 최빈값을 채워주세요.\n",
        "- 나머지 결측치는 모두 제거해주세요.\n",
        "- 전처리 반영된 결과를 새로운 데이터프레임 변수명 heart_df_na에 저장하세요."
      ],
      "metadata": {
        "id": "1VTDVlYiD7qW"
      }
    },
    {
      "cell_type": "code",
      "source": [
        "# 여기에 답안코드를 작성하세요.\n",
        "\n",
        "\n"
      ],
      "metadata": {
        "id": "--ONGD6PEM1i"
      },
      "execution_count": null,
      "outputs": []
    },
    {
      "cell_type": "markdown",
      "source": [
        "#8. 범주형 변수 인코딩\n",
        "## 아래 조건에 해당하는 범주형 컬럼 데이터를 가이드에 맞춰 변환하세요.\n",
        "- 대상 데이터프레임 : heart_df_na\n",
        "범주형 변수:\n",
        "- YN_cols = ['Smoking', 'Family Heart Disease', 'Diabetes', 'High Blood Pressure', 'Low HDL Cholesterol', 'High LDL Cholesterol']\n",
        "- Exercise Habits: ['High', 'Medium', 'Low']\n",
        "- Alcohol Consumption: ['High', 'Medium', 'Low']\n",
        "- Stress Level: ['High', 'Medium', 'Low']\n",
        "\n",
        "1. 'Yes'와 'No' 값 변환: YN_cols에 있는 컬럼들의 값을 'Yes'는 1로, 'No'는 0으로 변환하세요.\n",
        "2. Exercise Habits 컬럼에 대해 Label Encoding을 적용하세요.\n",
        "3. Alcohol Consumption, Stress Level, Sugar Consumption 컬럼에 대해 One-Hot Encoding을 적용하세요. 첫 번째 카테고리는 드롭하세요.\n",
        "4. 'Stress Level': Stress Level 컬럼에 대해 매핑을 사용하여 'Low'는 0, 'Medium'은 1, 'High'는 2로 변환하세요.\n",
        "\n",
        "- 반영된 결과를 새로운 데이터프레임 변수명 heart_df_preset에 저장하세요."
      ],
      "metadata": {
        "id": "enRCcgrgEPay"
      }
    },
    {
      "cell_type": "code",
      "source": [
        "# 여기에 답안코드를 작성하세요.\n",
        "\n",
        "\n"
      ],
      "metadata": {
        "id": "wLjm0MCzEj7Q"
      },
      "execution_count": null,
      "outputs": []
    },
    {
      "cell_type": "markdown",
      "source": [
        "#9. 훈련, 검증 데이터셋 분리.\n",
        "## Heart Disease Status(심장질환 여부)컬럼을 label값 y로, 나머지 컬럼을 feature값 X로 할당한 후 훈련 데이터셋과 검증 데이터셋으로 분리하세요.\n",
        "##추가로, 가이드에 따라서 훈련 데이터셋과 검증 데이터셋에 스케일링을 수행하세요.\n",
        "- 대상 데이터프레임 : heart_df_preset\n",
        "- 훈련과 검증 데이터셋 분리\n",
        "-- 훈련 데이터셋 Label : y_train, 훈련 데이터셋 Feature : X_train\n",
        "-- 검증 데이터셋 Label : y_valid, 검증 데이터셋 Feature : X_valid\n",
        "-- 훈련 데이터셋과 검증 데이터셋 비율은 80:20\n",
        "-- random_state : 22\n",
        "-- 훈련과 검증 데이터셋의 Label 비율이 동일하도록 설정하세요.\n",
        "-- Scikit_learn train_test_split 함수를 활용하세요.\n",
        "- RobustScaler 스케일링 수행\n",
        "-- sklearn.preprocessing의 RobustScaler 함수 사용\n",
        "-- 훈련 데이터셋의 Feature는 RobustScaler fit_transfom 함수를 활용하여 x_train 변수로 할당\n",
        "-- 검증 데이터셋의 Feature는 RobustScaler transform 함수를 활용하여 x_valid 변수로 할당\n",
        "- 스케일링이 끝난 x_train의 행과 열의 갯수를 구해 답안09에 저장하세요. (예. 답안09 = [100, 100] )\n",
        "##**대소문자 주의**\n"
      ],
      "metadata": {
        "id": "SVAuQPjcEk1x"
      }
    },
    {
      "cell_type": "code",
      "source": [
        "# 여기에 답안코드를 작성하세요.\n",
        "\n",
        "\n"
      ],
      "metadata": {
        "id": "mhFizz-VFbSH"
      },
      "execution_count": null,
      "outputs": []
    },
    {
      "cell_type": "markdown",
      "source": [
        "#10. 머신러닝 모델\n",
        "##아래 가이드에 따라 모델을 만들고 학습을 진행하세요.\n",
        "- 랜덤포레스트(RandomForest)\n",
        "-- 나무의 갯수(n_estimators)를 : 100으로 설정\n",
        "-- 노드를 분할하기 위한 최소한의 샘플 데이터수(min_samples_split) : 3으로 설정\n",
        "-- max_depth=5 설정\n",
        "-- random_state : 22로 설정\n",
        "-- 랜덤포레스트(RandomForest)모델을 rfc 변수에 저장해 주세요.\n",
        "- XGBoost 모델을 만들고 학습을 진행하세요.\n",
        "-- n_estimators=5 설정\n",
        "-- max_depth=5 설정\n",
        "-- random_state : 22로 설정\n",
        "-- XGBoost 모델을 xgbc 변수에 저장해 주세요.\n",
        "- 위의 모델에 대해 fit을 활용해 모델을 학습해 주세요. 학습 시 훈련 데이터셋을 활용해 주세요.\n",
        "- 검증 데이터 (x_valid, y_valid)와 rfc.score, xgbc.scroe를 통해 성능을 확인하세요."
      ],
      "metadata": {
        "id": "XPpqU27SFeII"
      }
    },
    {
      "cell_type": "code",
      "source": [
        "# 여기에 답안코드를 작성하세요.\n",
        "\n",
        "\n"
      ],
      "metadata": {
        "id": "dBmJGkGAGVda"
      },
      "execution_count": null,
      "outputs": []
    },
    {
      "cell_type": "markdown",
      "source": [
        "## 다음 문항을 풀기 전에 아래 코드를 실행하세요\n",
        "\n",
        "\n"
      ],
      "metadata": {
        "id": "VCog4yJcHKSd"
      }
    },
    {
      "cell_type": "code",
      "source": [
        "import tensorflow as tf\n",
        "from tensorflow.keras.models import Sequential, load_model\n",
        "from tensorflow.keras.layers import Dense, Activation, Dropout, BatchNormalization\n",
        "from tensorflow.keras.callbacks import EarlyStopping, ModelCheckpoint\n",
        "from tensorflow.keras.utils import to_categorical\n",
        "\n",
        "tf.random.set_seed(1)"
      ],
      "metadata": {
        "id": "IMxYuq8ZHOr-"
      },
      "execution_count": null,
      "outputs": []
    },
    {
      "cell_type": "markdown",
      "source": [],
      "metadata": {
        "id": "eurD153T-1ul"
      }
    },
    {
      "cell_type": "markdown",
      "source": [
        "#11. 딥러닝 모델\n",
        "##아래 가이드에 따라 모델을 만들고 학습을 진행하세요.\n",
        "다음 조건에 맞추어 심장질환 여부를 예측하는 딥러닝 모델을 구축하고 학습을 진행하세요.\n",
        "\n",
        "#### 1. 모델 아키텍처\n",
        "- **프레임워크**: TensorFlow 사용\n",
        "- **레이어**:\n",
        "  - `Dense(128)` 레이어, 활성화 함수: `relu`\n",
        "  - `Dropout(0.1)`\n",
        "  - `Dense(64)` 레이어, 활성화 함수: `relu`\n",
        "  - `Dropout(0.1)`\n",
        "  - `Dense(32)` 레이어, 활성화 함수: `relu`\n",
        "  - `Dropout(0.1)`\n",
        "  - `Dense(16)` 레이어, 활성화 함수: `relu`\n",
        "  - `Dropout(0.1)`\n",
        "  - `Dense(2)` 레이어, 활성화 함수: `softmax`\n",
        "\n",
        "#### 2. 데이터 전처리\n",
        "- `y_train`과 `y_valid`에 대해 `to_categorical`을 사용하여 원-핫 인코딩을 적용하세요.\n",
        "\n",
        "#### 3. 모델 컴파일\n",
        "- **손실 함수**: `CategoricalCrossentropy`\n",
        "- **하이퍼파라미터**:\n",
        "  - `epochs = 100`\n",
        "  - `batch_size = 32`\n",
        "- 각 에포크마다 검증 데이터를 사용하여 `loss`와 `metrics`를 평가하세요.\n",
        "\n",
        "#### 4. 콜백\n",
        "- `estop`: `EarlyStopping` 콜백을 적용하고 `patience=5`로 설정하여, 가장 좋은 성능의 가중치를 복원합니다.\n",
        "- `mcheck`: `ModelCheckpoint` 콜백을 적용하여, 가장 좋은 성능의 모델을 `best_model.h5`로 저장합니다.\n",
        "\n",
        "#### 5. 학습\n",
        "- 학습 정보는 `history` 변수에 저장됩니다.\n",
        "\n",
        "#### 6. 모델 평가\n",
        "- 학습이 완료된 후, 모델 성능을 평가하세요."
      ],
      "metadata": {
        "id": "Vlz0sU8vHjdT"
      }
    },
    {
      "cell_type": "code",
      "source": [
        "# 여기에 답안코드를 작성하세요.\n",
        "\n",
        "\n"
      ],
      "metadata": {
        "id": "UkN1Ao1wIDNS"
      },
      "execution_count": null,
      "outputs": []
    },
    {
      "cell_type": "markdown",
      "source": [
        "#12.위 딥러닝 모델의 성능을 평가하려고 합니다.\n",
        "## Matplotlib 라이브러리 활용해서 학습 Accuracy 검증 Accuracy를 그래프로 표시하세요.\n",
        "- 위의 history 데이터를 이용하여 그래프를 그립니다.\n",
        "- 1개의 그래프에 학습Accuracy와 검증Accuracy 2가지를 모두 표시하세요.\n",
        "- 위 2가지 각각의 범례를 'Accuracy', 'Val_Accuracy'로 표시하세요.\n",
        "- 그래프의 타이틀은 'Model Accuracy'로 표시하세요.\n",
        "- X축에는 'Epochs'라고 표시하고 Y축에는 'Accuracy'라고 표시하세요."
      ],
      "metadata": {
        "id": "0zctwbnkIFl4"
      }
    },
    {
      "cell_type": "code",
      "source": [
        "# 여기에 답안코드를 작성하세요.\n",
        "\n",
        "\n"
      ],
      "metadata": {
        "id": "CUPbGtrXIGO1"
      },
      "execution_count": null,
      "outputs": []
    },
    {
      "cell_type": "markdown",
      "source": [
        "#13. ModelCheckpoint를 이용해 저장된 'best_model.h5'모델을 load_model로 불러와서 검증데이터의 예측 결과를 확인하려고 합니다.\n",
        "- 불러오는 변수명 : best_model\n",
        "- 테스트 데이터셋 : x_valid, y_valid\n",
        "- 모델로 예측한 결과를 model_pred 변수에 저장하세요.\n",
        "- 임계값(threshold) 0.5를 기준으로 0 또는 1로 변환한 결과를 model_y_pred 변수에 저장하세요.\n",
        "- confusion_matrix()를 사용하여 y_valid와 예측한 model_y_pred를 비교\n",
        "-- seaborn의 heatmap()을 사용하여 시각화 annot=True, fmt='d', cmap='Blues' 옵션 사용\n",
        "- classification_report()를 사용하여 정밀도, 재현율, f1-score 등 포함된 성능 리포트 출력 (* print 내에 같이 사용하여 출력)"
      ],
      "metadata": {
        "id": "iLpKbrE-p2J0"
      }
    },
    {
      "cell_type": "code",
      "source": [
        "# 여기에 답안코드를 작성하세요.\n",
        "\n",
        "\n"
      ],
      "metadata": {
        "id": "tI1Pr-Z7p1d3"
      },
      "execution_count": null,
      "outputs": []
    },
    {
      "cell_type": "markdown",
      "source": [],
      "metadata": {
        "id": "Ddi1lhTEBipP"
      }
    },
    {
      "cell_type": "markdown",
      "source": [
        "#14. 학습이 완료된 딥러닝 모델과 랜덤 포레스트 모델 rfc를 저장하려고 합니다.\n",
        "- 딥러닝 모델 객체명 : best_model\n",
        "- 모델을 저장할 파일명 : \"deep_model.h5\"\n",
        "- 모델 저장은 Keras의 save 메서드를 사용하세요.\n",
        "\n",
        "- 랜덤 포레스트 모델 객체명 : rfc\n",
        "- 저장할 파일명 : \"rfc_model.pkl\"\n",
        "- 모델 저장은 joblib 라이브러리를 사용하세요."
      ],
      "metadata": {
        "id": "lkCV3TIHvdqA"
      }
    },
    {
      "cell_type": "code",
      "source": [
        "# 여기에 답안코드를 작성하세요.\n",
        "\n",
        "\n"
      ],
      "metadata": {
        "id": "kGJ92UP_oLnj"
      },
      "execution_count": null,
      "outputs": []
    }
  ]
}