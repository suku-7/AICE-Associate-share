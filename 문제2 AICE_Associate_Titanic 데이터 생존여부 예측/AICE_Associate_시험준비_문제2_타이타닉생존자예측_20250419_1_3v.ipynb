{
  "nbformat": 4,
  "nbformat_minor": 0,
  "metadata": {
    "colab": {
      "provenance": []
    },
    "kernelspec": {
      "name": "python3",
      "display_name": "Python 3"
    },
    "language_info": {
      "name": "python"
    }
  },
  "cells": [
    {
      "cell_type": "markdown",
      "source": [
        "AICE ASSOCIATE 자격시험\n",
        "\n",
        "시험 시간 : 00:00 ~ 00:00 (90분)\n",
        "남은 시간 : 1시간 30분 [V 임시저장] [V 최종제출]"
      ],
      "metadata": {
        "id": "vquI6WNU_g5k"
      }
    },
    {
      "cell_type": "markdown",
      "source": [
        "AICE Associate 자격인증 샘플문항\n",
        "타이타닉 데이터를 이용한 **생존자** 예측 문제\n",
        "- 타이타닉 데이터를 읽어들여 데이터를 분석 및 전처리한 후 머신러닝과 딥러닝으로 **생존자**를 예측하고 결과를 분석하세요."
      ],
      "metadata": {
        "id": "Bxnxurqt_4Xp"
      }
    },
    {
      "cell_type": "markdown",
      "source": [
        "[유의사항]\n",
        "- 각 문항의 답안코드는 반드시 '#여기에 답안코드를 작성하세요'로 표시된 cell에 작성해야 합니다.\n",
        "- 제공된 시험문항 cell을 삭제하거나 답안 위치가 아닌 다른 cell에 답안코드를 작성 시 채점되지 않습니다.\n",
        "- 시험 중에는 상단의 '임시저장'버튼을 클릭하여 저장을 해주시고, 답안 제출시에는 '최종제출' 버튼을 클릭해주시기 바랍니다.\n",
        "- 반드시 문제에 제시된 가이드를 읽고 답안 작성하세요.\n",
        "- 자격인증 문제에 제공된 데이터는 제 3자에게 공유하거나 개인적인 용도로 사용하는 등 외부로 요출할 수 없으면 유출로 인한 책임은 응시자 본인에게 있습니다.\n",
        "- Copy & Paste를 위한 메모장, 노션 등을 사용할 경우 부정행위로 간주될 수 있습니다.\n",
        "- 생성형 AI를 활용한 검색은 부정행위로 별도의 경고조치 없이 적발 즉시 시험 중단될 수 있습니다."
      ],
      "metadata": {
        "id": "_48_KkI2ACHl"
      }
    },
    {
      "cell_type": "markdown",
      "source": [
        "[데이터 컬럼 설명 (데이터 파일명: Titanic1.csv)]\n",
        "- PassengerId : 승객 고유 ID\n",
        "- Pclass : 선실 등급 (1, 2, 3등급)\n",
        "- Name : 승객 이름\n",
        "- Sex : 성별\n",
        "- Age : 나이\n",
        "- SibSp : 함께 탑승한 형제자매/배우자 수\n",
        "- Parch : 함께 탑승한 부모/자녀 수\n",
        "- Ticket : 티켓 번호\n",
        "- Fare : 운임 요금\n",
        "- Cabin : 선실 번호\n",
        "- Embarked : 탑승 항구 (C: Cherbourg, Q: Queenstown, S: Southampton)\n"
      ],
      "metadata": {
        "id": "jwaE3pXSAeCh"
      }
    },
    {
      "cell_type": "markdown",
      "source": [
        "[데이터 컬럼 설명 (데이터 파일명: Titanic2.csv)]\n",
        "- 위의 Titanic.csv와 동일"
      ],
      "metadata": {
        "id": "fksAlGeVA61D"
      }
    },
    {
      "cell_type": "markdown",
      "source": [
        "#1.데이터 분석에 필요한 파이썬 라이브러리를 불러오세요.\n",
        "- scikit-learn를 별칭(alias) sk로 임포트하는 코드를 작성하고 실행하세요.\n",
        "- numpy를 사용할 수 있도록 별칭(alias)을 np로 해서 불러오세요.\n",
        "- Pandas를 사용할 수 있도록 별칭(alias)을 pd로 해서 불러오세요."
      ],
      "metadata": {
        "id": "WZqlrJynBE-u"
      }
    },
    {
      "cell_type": "code",
      "source": [
        "# 여기에 답안코드를 작성하세요.\n",
        "\n",
        "\n"
      ],
      "metadata": {
        "id": "bIFdZXN5BClx"
      },
      "execution_count": null,
      "outputs": []
    },
    {
      "cell_type": "markdown",
      "source": [
        "#2.데이터 시각화를 위해 널리 사용되는 파이썬 라이브러리를 불러오세요.\n",
        "- matplotlib.pyplot를 사용할 수 있도록 별칭(alias)을 plt로 해서 불러오세요.\n",
        "- seaborn을 사용할 수 있도록 별칭(alias)를 sns로 해서 불러오세요."
      ],
      "metadata": {
        "id": "MdneWHIsBc7h"
      }
    },
    {
      "cell_type": "code",
      "source": [
        "# 여기에 답안코드를 작성하세요.\n",
        "\n",
        "\n"
      ],
      "metadata": {
        "id": "br40t-shBnUK"
      },
      "execution_count": null,
      "outputs": []
    },
    {
      "cell_type": "markdown",
      "source": [
        "#3.모델링을 위해 분석 및 처리할 데이터 파일을 읽어오려고 합니다.\n",
        "###Pandas함수로 2개 데이터 파일을 읽고 합쳐서 1개의 데이터프레임 변수명 df에 할당하는 코드를 작성하세요.\n",
        "- Titanic1.csv 파일을 읽어 데이터 프레임 변수명 df_a에 할당하세요.\n",
        "- Titanic2.csv 파일을 읽어 데이터 프레임 변수명 df_b에 할당하세요.\n",
        "- df_a와 df_b 데이터프레임을 판다스의 concat 함수를 활용하여 합쳐 데이터프레임 변수명 df에 저장하세요.\n",
        "- 합칠 때 사용하는 방향(axis) : '0'\n",
        "- 합치는 방법(join) : 'outer'\n",
        "- 인덱스 무시 여부(ignore_index) : 'True'"
      ],
      "metadata": {
        "id": "PbT9WW2yBpkv"
      }
    },
    {
      "cell_type": "code",
      "source": [
        "# 여기에 답안코드를 작성하세요.\n",
        "\n",
        "\n"
      ],
      "metadata": {
        "id": "vIN9xtoRB0LH"
      },
      "execution_count": null,
      "outputs": []
    },
    {
      "cell_type": "markdown",
      "source": [
        "## 다음 문항을 풀기 전에 아래 코드를 실행하세요\n",
        "\n",
        "\n"
      ],
      "metadata": {
        "id": "h0FXaCTGCJKf"
      }
    },
    {
      "cell_type": "code",
      "source": [
        "!pip install koreanize-matplotlib\n",
        "import koreanize_matplotlib"
      ],
      "metadata": {
        "id": "vcfEKtJQCHwf"
      },
      "execution_count": null,
      "outputs": []
    },
    {
      "cell_type": "markdown",
      "source": [
        "#4.Sex(성별)에 대한 분포도를 알아 보려고 합니다.\n",
        "##Sex(성별)에 대해 countplot 그래프로 만드는 코드와 답안을 작성하세요.\n",
        "- seaborn을 활용하세요.\n",
        "- 첫번째, Sex(성별)에 대해서 분포를 보여주는 countplot 그래프를 그리세요.\n",
        "- 두번째, 결측치가 있다면 해당되는 row(행)을 삭제하세요.\n",
        "- 출력된 그래프를 보고 해석한 것으로 옳은 선택지를 아래에서 골라 '답안04'변수에 저장하세요. (예. 답안04 = 4 )\n",
        "1. 여성(female) 승객 수는 500명 이상이다.\n",
        "2. 남성(male) 승객이 대부분이다.\n",
        "3. 성별 데이터 중 결측치는 없다."
      ],
      "metadata": {
        "id": "TTgMUwcKCY0a"
      }
    },
    {
      "cell_type": "code",
      "source": [
        "# 여기에 답안코드를 작성하세요.\n",
        "\n",
        "\n"
      ],
      "metadata": {
        "id": "tgtOVof3C9tD"
      },
      "execution_count": null,
      "outputs": []
    },
    {
      "cell_type": "markdown",
      "source": [
        "#5.Age(나이)와 Fare(운임요금)사이의 관계를 시각화하기 위해 seaborn의 jointplot을 그리세요.\n",
        "- seaborn을 활용하세요.\n",
        "- Age의 결측치는 Age(나이)의 평균값인(mean)을 이용하여 채워주세요.\n",
        "- X축에는 Age(나이)을 표시하고 Y축에는 Fare(운임요금)을 표시하세요."
      ],
      "metadata": {
        "id": "tBH_6KZvC_hK"
      }
    },
    {
      "cell_type": "code",
      "source": [
        "# 여기에 답안코드를 작성하세요.\n",
        "\n"
      ],
      "metadata": {
        "id": "UiQ6-2_rDQoH"
      },
      "execution_count": null,
      "outputs": []
    },
    {
      "cell_type": "markdown",
      "source": [
        "#6.위의 jointplot 그래프에서 나이가 100이 넘는 이상치를 발견할 수 있습니다.\n",
        "##가이드에 따라서 전처리를 수행하고 저장하세요.\n",
        "- 대상 데이터프레임 : df\n",
        "- jointplot 그래프를 보고 나이가 0 이하이거나, 100을 초과하는 이상치를 찾아 해당 행(Row)을 삭제하세요.\n",
        "- 전처리 반영 후에 새로운 데이터프레임 변수명 df_temp에 저장하세요."
      ],
      "metadata": {
        "id": "1M9HBJqkDT2D"
      }
    },
    {
      "cell_type": "code",
      "source": [
        "# 여기에 답안코드를 작성하세요.\n",
        "\n"
      ],
      "metadata": {
        "id": "3F6vT4GgDSAH"
      },
      "execution_count": null,
      "outputs": []
    },
    {
      "cell_type": "markdown",
      "source": [
        "#7.모델링 성능을 제대로 얻기 위해서 결측치 처리는 필수입니다.\n",
        "##아래 가이드를 따라 결측치 처리하세요.\n",
        "- 대상 데이터프레임 : df_temp\n",
        "- 결측치를 확인하는 코드를 작성하세요.\n",
        "- 결측치가 너무 많은 'Cabin' 열을 제거합니다.\n",
        "- 결측치가 있는 행(raw)을 삭제하세요.\n",
        "- 전처리 반영된 결과를 새로운 데이터프레임 변수명 df_na에 저장하세요.\n",
        "- 'Cabin' 컬럼의 결측치 개수를 '답안07' 변수에 저장하세요. (예. 답안07 = 123)"
      ],
      "metadata": {
        "id": "EMRGUmjZDpvY"
      }
    },
    {
      "cell_type": "code",
      "source": [
        "# 여기에 답안코드를 작성하세요.\n",
        "\n",
        "\n"
      ],
      "metadata": {
        "id": "CrxkzeGeD5_P"
      },
      "execution_count": null,
      "outputs": []
    },
    {
      "cell_type": "markdown",
      "source": [
        "#8.모델링 성능을 제대로 얻기 위해서 불필요한 변수는 삭제해야 합니다.\n",
        "##아래 가이드를 따라 불필요 데이터를 삭제 처리하세요.\n",
        "- 대상 데이터프레임 : df_na\n",
        "- 이번 분석에서는 불필요한 'PassengerId', 'Name', 'SibSp', 'Parch', 'Ticket', 컬럼을 삭제 하세요.\n",
        "- 전처리 반영된 결과를 새로운 데이터프레임 변수명 df_del에 저장하세요."
      ],
      "metadata": {
        "id": "1VTDVlYiD7qW"
      }
    },
    {
      "cell_type": "code",
      "source": [
        "# 여기에 답안코드를 작성하세요.\n",
        "\n",
        "\n"
      ],
      "metadata": {
        "id": "--ONGD6PEM1i"
      },
      "execution_count": null,
      "outputs": []
    },
    {
      "cell_type": "markdown",
      "source": [
        "#9.원-핫 인코딩(One-hot encoding)은 범주형 변수를 1과 0의 이진형 벡터로 변환하귀 위하여 사용하는 방법입니다.\n",
        "##원-핫 인코딩으로 아래 조건에 해당하는 컬럼 데이터를 변환하세요.\n",
        "- 대상 데이터프레임 : df_del\n",
        "- 원-핫 인코딩 대상 : object 타입의 전체 컬럼\n",
        "- 활용 함수 : Pandas의 get_dummies\n",
        "- 해당 전처리가 반영된 결과를 데이터프레임 변수 df_preset에 저장해 주세요."
      ],
      "metadata": {
        "id": "enRCcgrgEPay"
      }
    },
    {
      "cell_type": "code",
      "source": [
        "# 여기에 답안코드를 작성하세요.\n",
        "\n",
        "\n"
      ],
      "metadata": {
        "id": "wLjm0MCzEj7Q"
      },
      "execution_count": null,
      "outputs": []
    },
    {
      "cell_type": "markdown",
      "source": [
        "#10.훈련과 검증 각각에 사용할 데이터셋을 분리하려고 합니다.\n",
        "##Survived(생존 여부)컬럼을 label값 y로, 나머지 컬럼을 feature값 x로 할당한 후 훈련 데이터셋과 검증 데이터셋으로 분리하세요.\n",
        "##추가로, 가이드에 따라서 훈련 데이터셋과 검증 데이터셋에 스케일링을 수행하세요.\n",
        "- 대상 데이터프레임 : df_preset\n",
        "- 훈련과 검증 데이터셋 분리\n",
        "-- 훈련 데이터셋 Label : y_train, 훈련 데이터셋 Feature : x_train\n",
        "-- 검증 데이터셋 Label : y_valid, 검증 데이터셋 Feature : x_valid\n",
        "-- 훈련 데이터셋과 검증 데이터셋 비율은 80:20\n",
        "-- random_state : 6612\n",
        "-- 훈련과 검증 데이터셋의 Label 비율이 동일하도록 설정하세요.\n",
        "-- Scikit_learn train_test_split 함수를 활용하세요.\n",
        "- StandardScaler 스케일링 수행\n",
        "-- sklearn.preprocessing의 StandardScaler 함수 사용\n",
        "-- 훈련 데이터셋의 Feature는 StandardScaler의 fit_transfom 함수를 활용하여 x_train 변수로 할당\n",
        "-- 검증 데이터셋의 Feature는 StandardScaler의 transform 함수를 활용하여 x_valid 변수로 할당"
      ],
      "metadata": {
        "id": "SVAuQPjcEk1x"
      }
    },
    {
      "cell_type": "code",
      "source": [
        "# 여기에 답안코드를 작성하세요.\n",
        "\n",
        "\n"
      ],
      "metadata": {
        "id": "mhFizz-VFbSH"
      },
      "execution_count": null,
      "outputs": []
    },
    {
      "cell_type": "markdown",
      "source": [
        "#11.Survived(생존 여부)를 예측하는 머신러닝 모델을 만들려고 합니다.\n",
        "##아래 가이드에 따라 모델을 만들고 학습을 진행하세요.\n",
        "- 로지스틱 회귀 (LogisticRegression)\n",
        "-- 규제강도C는 10으로 설정, 계산에 사용할 작업수 max_iter는 2540으로 설정\n",
        "-- 로지스틱 회귀 (LogisticRegression)모델을 lgr 변수에 저장해 주세요.\n",
        "- 랜덤포레스트(RandomForest)\n",
        "-- 나무의 갯수(n_estimators)를 : 100으로 설정\n",
        "-- 노드를 분할하기 위한 최소한의 샘플 데이터수(min_samples_split) : 3으로 설정\n",
        "-- random_state : 665로 설정\n",
        "-- 랜덤포레스트(RandomForest)모델을 rf 변수에 저장해 주세요.\n",
        "- XGBoost 모델을 만들고 학습을 진행하세요.\n",
        "-- n_estimators=5 설정\n",
        "-- XGBoost 모델을 xgb 변수에 저장해 주세요.\n",
        "- Light GBM 모델을 만들고 학습을 진행하세요.\n",
        "-- n_estimators=3 설정\n",
        "-- Light GBM 모델을 lgbm 변수에 저장해 주세요.\n",
        "- 위의 모델에 대해 fit을 활용해 모델을 학습해 주세요. 학습 시 훈련 데이터셋을 활용해 주세요."
      ],
      "metadata": {
        "id": "XPpqU27SFeII"
      }
    },
    {
      "cell_type": "code",
      "source": [
        "# 여기에 답안코드를 작성하세요.\n",
        "\n",
        "\n"
      ],
      "metadata": {
        "id": "dBmJGkGAGVda"
      },
      "execution_count": null,
      "outputs": []
    },
    {
      "cell_type": "markdown",
      "source": [
        "#12.위 모델들의 성능을 평가하려고 합니다.\n",
        "##아래 가이드에 따라 예측 결과의 정확도(accuracy)를 평가하세요.  \n",
        "- 성능 평가는 검증 데이터셋을 활용하세요.\n",
        "- 11번 문제에서 만든 로지스틱 회귀(LogisticRegression)모델로 y값을 예측(predict)하여 y_pred_lgr에 저장하세요.\n",
        "-- 검증 정답(y_valid)과 예측값(y_pred_lgr)의 정확도(accuracy_score)를 구하고 lgr_acc 변수에 저장하세요.\n",
        "\n",
        "- 11번 문제에서 만든 랜덤포레스트(RandomForest) 모델로 y값을 예측(predict)하여 y_pred_rf에 저장하세요.\n",
        "-- 검증 정답(y_valid)과 예측값(y_pred_rf)의 정확도(accuracy_score)를 구하고 rf_acc 변수에 저장하세요.\n",
        "\n",
        "- 11번 문제에서 만든 XGBoost 모델로 y값을 예측(predict)하여 y_pred_xgb에 저장하세요.\n",
        "-- 검증 정답(y_valid)과 예측값(y_pred_xgb)의 정확도(accuracy_score)를 구하고 xgb_acc 변수에 저장하세요.\n",
        "\n",
        "- 11번 문제에서 만든 Light GBM 모델로 y값을 예측(predict)하여 y_pred_lgbm에 저장하세요.\n",
        "-- 검증 정답(y_valid)과 예측값(y_pred_lgbm)의 정확도(accuracy_score)를 구하고 lgbm_acc 변수에 저장하세요.\n",
        "\n",
        "- 4개의 모델에 대한 accuracy 성능평가 결과를 확인하여 가장 성능이 좋은 모델 이름을 '답안12' 변수에 저장하세요.\n",
        "-- 예) 답안12 = 'LogisticRegression' 혹은 답안 12 = 'RandomForest' 혹은 답안 12 = 'XGBoost' 혹은 답안 12 = 'LightGBM'\n",
        "-- 또한 가장 성능이 좋은 모델의 경우 recall, precision, f1_score도 개별적으로 출력해주세요."
      ],
      "metadata": {
        "id": "6U76kvh5GW6B"
      }
    },
    {
      "cell_type": "code",
      "source": [
        "# 여기에 답안코드를 작성하세요.\n",
        "\n",
        "\n"
      ],
      "metadata": {
        "id": "4ZUkUqZXHJYb"
      },
      "execution_count": null,
      "outputs": []
    },
    {
      "cell_type": "markdown",
      "source": [
        "## 다음 문항을 풀기 전에 아래 코드를 실행하세요\n",
        "\n",
        "\n"
      ],
      "metadata": {
        "id": "VCog4yJcHKSd"
      }
    },
    {
      "cell_type": "code",
      "source": [
        "import tensorflow as tf\n",
        "from tensorflow.keras.models import Sequential, load_model\n",
        "from tensorflow.keras.layers import Dense, Activation, Dropout, BatchNormalization\n",
        "from tensorflow.keras.callbacks import EarlyStopping, ModelCheckpoint\n",
        "from tensorflow.keras.utils import to_categorical\n",
        "\n",
        "tf.random.set_seed(1)"
      ],
      "metadata": {
        "id": "IMxYuq8ZHOr-"
      },
      "execution_count": null,
      "outputs": []
    },
    {
      "cell_type": "markdown",
      "source": [
        "#13.Survived(생존 여부)를 예측하는 딥러닝 모델을 만들려고 합니다.\n",
        "##아래 가이드에 따라 모델링하고 학습을 진행하세요.\n",
        "- Tensorflow framework를 사용하여 딥러닝 모델을 만드세요.\n",
        "- Dense 층으로 구성된 히든레이어(hidden layer)를 3개 이상으로 모델을 구성하세요.\n",
        "- Dropout은 0.3 비율로 히든 레이어 사이마다 추가해 주세요.\n",
        "- 손실함수는 BinaryCrossentropy를 사용하세요.\n",
        "- 하이퍼파라미터 epochs : 30, batch_size : 32으로 설정해 주세요.\n",
        "- 각 에포크마다 loss와 metrics 를 평가하기 위한 데이터로 x_valid, y_valid를 사용하세요.\n",
        "- 학습정보는 history 변수에 저장해 주세요.\n",
        "- EarlyStopping 콜백을 적용하고 patience = 5, ModelCheckpoint 콜백으로 가장 좋은 성능의 모델을 best_model.h5 모델로 저장하세요."
      ],
      "metadata": {
        "id": "Vlz0sU8vHjdT"
      }
    },
    {
      "cell_type": "code",
      "source": [
        "# 여기에 답안코드를 작성하세요.\n",
        "\n",
        "\n"
      ],
      "metadata": {
        "id": "UkN1Ao1wIDNS"
      },
      "execution_count": null,
      "outputs": []
    },
    {
      "cell_type": "markdown",
      "source": [
        "#14.위 딥러닝 모델의 성능을 평가하려고 합니다.\n",
        "## Matplotlib 라이브러리 활용해서 학습 Accuracy 검증 Accuracy를 그래프로 표시하세요.\n",
        "- 위의 history 데이터를 이용하여 그래프를 그립니다.\n",
        "- 1개의 그래프에 학습Accuracy와 검증Accuracy 2가지를 모두 표시하세요.\n",
        "- 위 2가지 각각의 범례를 'Accuracy', 'Val_Accuracy'로 표시하세요.\n",
        "- 그래프의 타이틀은 'Model Accuracy'로 표시하세요.\n",
        "- X축에는 'Epochs'라고 표시하고 Y축에는 'Accuracy'라고 표시하세요."
      ],
      "metadata": {
        "id": "0zctwbnkIFl4"
      }
    },
    {
      "cell_type": "code",
      "source": [
        "# 여기에 답안코드를 작성하세요.\n",
        "\n",
        "\n"
      ],
      "metadata": {
        "id": "CUPbGtrXIGO1"
      },
      "execution_count": null,
      "outputs": []
    },
    {
      "cell_type": "markdown",
      "source": [
        "#15.이진 분류 모델로 예측 결과를 확인하고 성능을 평가하려고 합니다.\n",
        "- 딥러닝 모델명 : model\n",
        "- 테스트 데이터셋 : x_valid, y_valid\n",
        "- 모델로 예측한 결과를 model_pred 변수에 저장하세요.\n",
        "- 임계값(threshold) 0.5를 기준으로 0 또는 1로 변환한 결과를 model_y_pred 변수에 저장하세요.\n",
        "- evaluate 메서드를 사용하여 손실값과 정확도를 각각 model_loss, model_acc 변수에 저장하세요.\n",
        "- ✳️ 예측 함수: predict, 평가 함수: evaluate 사용\n",
        "- ✳️ 임계값 변환 시 ( > 0.5 )를 기준으로 사용\n",
        "- confusion_matrix()를 사용하여 y_valid와 예측한 model_y_pred를 비교\n",
        "-- seaborn의 heatmap()을 사용하여 시각화 annot=True, fmt='d', cmap='Blues' 옵션 사용\n",
        "- classification_report()를 사용하여 정밀도, 재현율, f1-score 등 포함된 성능 리포트 출력 (* print 내에 같이 사용하여 출력)"
      ],
      "metadata": {
        "id": "iLpKbrE-p2J0"
      }
    },
    {
      "cell_type": "code",
      "source": [
        "# 여기에 답안코드를 작성하세요.\n",
        "\n",
        "\n"
      ],
      "metadata": {
        "id": "tI1Pr-Z7p1d3"
      },
      "execution_count": null,
      "outputs": []
    },
    {
      "cell_type": "markdown",
      "source": [
        "#16. 학습이 완료된 딥러닝 회귀 모델 model과 랜덤 포레스트 모델 rf를 저장하려고 합니다.\n",
        "- 딥러닝 모델 객체명 : model\n",
        "- 모델을 저장할 파일명 : \"deep_model.h5\"\n",
        "- 모델 저장은 Keras의 save 메서드를 사용하세요.\n",
        "\n",
        "- 랜덤 포레스트 모델 객체명 : rf\n",
        "- 저장할 파일명 : \"rf_model.pkl\"\n",
        "- 모델 저장은 joblib 라이브러리를 사용하세요."
      ],
      "metadata": {
        "id": "lkCV3TIHvdqA"
      }
    },
    {
      "cell_type": "code",
      "source": [
        "# 여기에 답안코드를 작성하세요.\n",
        "\n",
        "\n"
      ],
      "metadata": {
        "id": "kGJ92UP_oLnj"
      },
      "execution_count": null,
      "outputs": []
    },
    {
      "cell_type": "markdown",
      "source": [
        "##1번부터 16번까지 모든 문제를 풀었습니다. 수고하셨습니다.\n",
        "'최종제출 및 종료를' 클릭하셔서 답안을 제출해 주시기 바랍니다."
      ],
      "metadata": {
        "id": "Ck2igOySIGvG"
      }
    }
  ]
}