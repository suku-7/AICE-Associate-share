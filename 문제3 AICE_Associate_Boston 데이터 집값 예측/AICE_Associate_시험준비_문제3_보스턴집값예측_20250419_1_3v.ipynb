{
  "nbformat": 4,
  "nbformat_minor": 0,
  "metadata": {
    "colab": {
      "provenance": []
    },
    "kernelspec": {
      "name": "python3",
      "display_name": "Python 3"
    },
    "language_info": {
      "name": "python"
    }
  },
  "cells": [
    {
      "cell_type": "markdown",
      "source": [
        "AICE ASSOCIATE 자격시험\n",
        "\n",
        "시험 시간 : 00:00 ~ 00:00 (90분)\n",
        "남은 시간 : 1시간 30분 [V 임시저장] [V 최종제출]"
      ],
      "metadata": {
        "id": "vquI6WNU_g5k"
      }
    },
    {
      "cell_type": "markdown",
      "source": [
        "AICE Associate 자격인증 샘플문항\n",
        "보스턴 집 데이터를 이용한 **주택 가격** 예측 문제\n",
        "- 보스턴 집 데이터를 읽어들여 데이터를 분석 및 전처리한 후 머신러닝과 딥러닝으로 **주택 가격**를 예측하고 결과를 분석하세요."
      ],
      "metadata": {
        "id": "Bxnxurqt_4Xp"
      }
    },
    {
      "cell_type": "markdown",
      "source": [
        "[유의사항]\n",
        "- 각 문항의 답안코드는 반드시 '#여기에 답안코드를 작성하세요'로 표시된 cell에 작성해야 합니다.\n",
        "- 제공된 시험문항 cell을 삭제하거나 답안 위치가 아닌 다른 cell에 답안코드를 작성 시 채점되지 않습니다.\n",
        "- 시험 중에는 상단의 '임시저장'버튼을 클릭하여 저장을 해주시고, 답안 제출시에는 '최종제출' 버튼을 클릭해주시기 바랍니다.\n",
        "- 반드시 문제에 제시된 가이드를 읽고 답안 작성하세요.\n",
        "- 자격인증 문제에 제공된 데이터는 제 3자에게 공유하거나 개인적인 용도로 사용하는 등 외부로 요출할 수 없으면 유출로 인한 책임은 응시자 본인에게 있습니다.\n",
        "- Copy & Paste를 위한 메모장, 노션 등을 사용할 경우 부정행위로 간주될 수 있습니다.\n",
        "- 생성형 AI를 활용한 검색은 부정행위로 별도의 경고조치 없이 적발 즉시 시험 중단될 수 있습니다."
      ],
      "metadata": {
        "id": "_48_KkI2ACHl"
      }
    },
    {
      "cell_type": "markdown",
      "source": [
        "[데이터 컬럼 설명 (데이터 파일명: BostonHousing_a.csv)]\n",
        "- merge_id : 병합용 컬럼\n",
        "- crim\t: 지역별 범죄율\n",
        "- zn : 25,000평방피트를 초과하는 주거지역 비율\n",
        "- indus\t: 비소매상업지역 면적 비율\n",
        "- chas : 찰스강 인접 여부 (1: 인접, 0: 비접)\n",
        "- nox\t: 일산화질소 농도\n",
        "- rm\t: 주택당 평균 방 수\n",
        "- age\t: 1940년 이전에 건축된 주택 비율\n",
        "- dis\t: 직업센터와의 거리\n",
        "- rad\t: 방사형 고속도로 접근성\n",
        "- tax\t: 재산세율 (10,000달러당)\n"
      ],
      "metadata": {
        "id": "jwaE3pXSAeCh"
      }
    },
    {
      "cell_type": "markdown",
      "source": [
        "[데이터 컬럼 설명 (데이터 파일명: BostonHousing_b.csv)]\n",
        "- merge_id : 병합용 컬럼\n",
        "- ptratio\t: 학생-교사 비율\n",
        "- b\t: 흑인 거주 비율 지수 (1000(Bk - 0.63)^2, Bk는 흑인 비율)\n",
        "- lstat\t: 하위 계층 비율 (%)\n",
        "- medv : 주택 가격의 중앙값 (단위: $1,000)\n"
      ],
      "metadata": {
        "id": "fksAlGeVA61D"
      }
    },
    {
      "cell_type": "markdown",
      "source": [
        "#1.데이터 분석에 필요한 파이썬 라이브러리를 불러오세요.\n",
        "- scikit-learn를 별칭(alias) sk로 임포트하는 코드를 작성하고 실행하세요.\n",
        "- numpy를 사용할 수 있도록 별칭(alias)을 np로 해서 불러오세요.\n",
        "- Pandas를 사용할 수 있도록 별칭(alias)을 pd로 해서 불러오세요."
      ],
      "metadata": {
        "id": "WZqlrJynBE-u"
      }
    },
    {
      "cell_type": "code",
      "source": [
        "# 여기에 답안코드를 작성하세요.\n",
        "\n",
        "\n"
      ],
      "metadata": {
        "id": "bIFdZXN5BClx"
      },
      "execution_count": null,
      "outputs": []
    },
    {
      "cell_type": "markdown",
      "source": [
        "#2.데이터 시각화를 위해 널리 사용되는 파이썬 라이브러리를 불러오세요.\n",
        "- matplotlib.pyplot를 사용할 수 있도록 별칭(alias)을 plt로 해서 불러오세요.\n",
        "- seaborn을 사용할 수 있도록 별칭(alias)를 sns로 해서 불러오세요."
      ],
      "metadata": {
        "id": "MdneWHIsBc7h"
      }
    },
    {
      "cell_type": "code",
      "source": [
        "# 여기에 답안코드를 작성하세요.\n",
        "\n",
        "\n"
      ],
      "metadata": {
        "id": "br40t-shBnUK"
      },
      "execution_count": null,
      "outputs": []
    },
    {
      "cell_type": "markdown",
      "source": [
        "#3.모델링을 위해 분석 및 처리할 데이터 파일을 읽어오려고 합니다.\n",
        "###Pandas함수로 2개 데이터 파일을 읽고 합쳐서 1개의 데이터프레임 변수명 df에 할당하는 코드를 작성하세요.\n",
        "- BostonHousing_a.csv 파일을 읽어 데이터 프레임 변수명 df_a에 할당하세요.\n",
        "- BostonHousing_b.csv 파일을 읽어 데이터 프레임 변수명 df_b에 할당하세요.\n",
        "- df_a와 df_b 데이터프레임을 판다스의 merge 함수를 활용하여 합쳐 데이터프레임 변수명 df에 저장하세요.\n",
        "- 합칠 때 사용하는 키(on) : 'merge_id'\n",
        "- 합치는 방법(how) : 'outer'"
      ],
      "metadata": {
        "id": "PbT9WW2yBpkv"
      }
    },
    {
      "cell_type": "code",
      "source": [
        "# 여기에 답안코드를 작성하세요.\n",
        "\n",
        "\n"
      ],
      "metadata": {
        "id": "vIN9xtoRB0LH"
      },
      "execution_count": null,
      "outputs": []
    },
    {
      "cell_type": "markdown",
      "source": [
        "## 다음 문항을 풀기 전에 아래 코드를 실행하세요\n",
        "\n",
        "\n"
      ],
      "metadata": {
        "id": "h0FXaCTGCJKf"
      }
    },
    {
      "cell_type": "code",
      "source": [
        "!pip install koreanize-matplotlib\n",
        "import koreanize_matplotlib"
      ],
      "metadata": {
        "id": "vcfEKtJQCHwf"
      },
      "execution_count": null,
      "outputs": []
    },
    {
      "cell_type": "markdown",
      "source": [
        "#4.medv(주택 가격)에 대한 분포도를 알아 보려고 합니다.\n",
        "##medv(주택 가격)에 대해 seaborn의 histplot으로 시각화하고, 가격 분포에 대한 옳은 해석을 '답안04' 변수에 저장하세요.\n",
        "- 출력된 그래프를 보고 해석한 것으로 옳은 선택지를 아래에서 골라 '답안04'변수에 저장하세요. (예. 답안04 = 5 )\n",
        "1. 주택 가격은 대부분 20 근방에 분포되어 있다.\n",
        "2. 데이터는 좌우 대칭의 정규분포를 따르고 있다.\n",
        "3. 주택 가격은 높은 구간에 밀집되어 있으며, 50에 가장 많은 빈도를 보인다.\n"
      ],
      "metadata": {
        "id": "TTgMUwcKCY0a"
      }
    },
    {
      "cell_type": "code",
      "source": [
        "# 여기에 답안코드를 작성하세요.\n",
        "\n",
        "\n"
      ],
      "metadata": {
        "id": "tgtOVof3C9tD"
      },
      "execution_count": null,
      "outputs": []
    },
    {
      "cell_type": "markdown",
      "source": [
        "#5. rm(방 개수)와 medv(주택 가격) 사이의 관계를 시각화하기 위해 seaborn의 jointplot을 그리세요.\n",
        "- seaborn을 활용하세요.\n",
        "- rm의 결측치는 rm(방 개수)의 최빈값(mode)을 이용하여 채워주세요.\n",
        "- X축에는 rm(방 개수), Y축에는 medv(주택 가격)를 표시하세요."
      ],
      "metadata": {
        "id": "tBH_6KZvC_hK"
      }
    },
    {
      "cell_type": "code",
      "source": [
        "# 여기에 답안코드를 작성하세요.\n",
        "\n",
        "\n"
      ],
      "metadata": {
        "id": "UiQ6-2_rDQoH"
      },
      "execution_count": null,
      "outputs": []
    },
    {
      "cell_type": "markdown",
      "source": [
        "#6. 위의 jointplot 그래프에서 rm(방 개수)가 10개가 넘는 이상치를 발견할 수 있습니다.  \n",
        "## 가이드에 따라서 전처리를 수행하고 저장하세요.\n",
        "- 대상 데이터프레임 : df\n",
        "- jointplot 그래프를 보고 rm(방 개수)가 10개를 초과하는 이상치를 찾아 해당 행(Row)을 삭제하세요.\n",
        "- 전처리 반영 후에 새로운 데이터프레임 변수명 df_temp에 저장하세요."
      ],
      "metadata": {
        "id": "1M9HBJqkDT2D"
      }
    },
    {
      "cell_type": "code",
      "source": [
        "# 여기에 답안코드를 작성하세요.\n",
        "\n",
        "\n"
      ],
      "metadata": {
        "id": "3F6vT4GgDSAH"
      },
      "execution_count": null,
      "outputs": []
    },
    {
      "cell_type": "markdown",
      "source": [
        "#7.모델링 성능을 제대로 얻기 위해서 결측치 처리는 필수입니다.\n",
        "##아래 가이드를 따라 결측치 처리하세요.\n",
        "- 대상 데이터프레임 : df_temp\n",
        "- 결측치를 확인하는 코드를 작성하세요.\n",
        "- 결측치가 있는 행(raw)을 삭제하세요.\n",
        "- 전처리 반영된 결과를 새로운 데이터프레임 변수명 df_na에 저장하세요.\n",
        "- 'tax' 컬럼의 결측치 개수를 '답안07' 변수에 저장하세요. (예. 답안07 = 24)"
      ],
      "metadata": {
        "id": "EMRGUmjZDpvY"
      }
    },
    {
      "cell_type": "code",
      "source": [
        "# 여기에 답안코드를 작성하세요.\n",
        "\n",
        "\n"
      ],
      "metadata": {
        "id": "CrxkzeGeD5_P"
      },
      "execution_count": null,
      "outputs": []
    },
    {
      "cell_type": "markdown",
      "source": [
        "#8.모델링 성능을 제대로 얻기 위해서 불필요한 변수는 삭제해야 합니다.\n",
        "##아래 가이드를 따라 불필요 데이터를 삭제 처리하세요.\n",
        "- 대상 데이터프레임 : df_na\n",
        "- 이번 분석에서는 불필요한 'merge_id', 'zn', 'chas', 'rad', 'b' 컬럼을 삭제 하세요.\n",
        "- 전처리 반영된 결과를 새로운 데이터프레임 변수명 df_del에 저장하세요."
      ],
      "metadata": {
        "id": "1VTDVlYiD7qW"
      }
    },
    {
      "cell_type": "code",
      "source": [
        "# 여기에 답안코드를 작성하세요.\n",
        "\n",
        "\n"
      ],
      "metadata": {
        "id": "--ONGD6PEM1i"
      },
      "execution_count": null,
      "outputs": []
    },
    {
      "cell_type": "markdown",
      "source": [
        "#9.훈련과 검증 각각에 사용할 데이터셋을 분리하려고 합니다.\n",
        "##medv(주택 가격)컬럼을 label값 y로, 나머지 컬럼을 feature값 x로 할당한 후 훈련 데이터셋과 검증 데이터셋으로 분리하세요.\n",
        "##추가로, 가이드에 따라서 훈련 데이터셋과 검증 데이터셋에 스케일링을 수행하세요.\n",
        "- 대상 데이터프레임 : df_del\n",
        "- 훈련과 검증 데이터셋 분리\n",
        "-- 훈련 데이터셋 Label : y_train, 훈련 데이터셋 Feature : x_train\n",
        "-- 검증 데이터셋 Label : y_valid, 검증 데이터셋 Feature : x_valid\n",
        "-- 훈련 데이터셋과 검증 데이터셋 비율은 75:25\n",
        "-- random_state : 3214\n",
        "-- Scikit_learn train_test_split 함수를 활용하세요.\n",
        "- MinMaxScaler 스케일링 수행\n",
        "-- sklearn.preprocessing의 MinMaxScaler 함수 사용\n",
        "-- 훈련 데이터셋의 Feature는 MinMaxScaler의 fit_transfom 함수를 활용하여 x_train 변수로 할당\n",
        "-- 검증 데이터셋의 Feature는 MinMaxScaler의 transform 함수를 활용하여 x_valid 변수로 할당"
      ],
      "metadata": {
        "id": "SVAuQPjcEk1x"
      }
    },
    {
      "cell_type": "code",
      "source": [
        "# 여기에 답안코드를 작성하세요.\n",
        "\n",
        "\n"
      ],
      "metadata": {
        "id": "mhFizz-VFbSH"
      },
      "execution_count": null,
      "outputs": []
    },
    {
      "cell_type": "markdown",
      "source": [
        "#10.medv(주택 가격) 예측하는 머신러닝 모델을 만들려고 합니다.\n",
        "##아래 가이드에 따라 모델을 만들고 학습을 진행하세요.\n",
        "- 선형 회귀 (LinearRegression)\n",
        "-- 선형 회귀 (LinearRegression)모델을 lr 변수에 저장해 주세요.\n",
        "- 랜덤포레스트(RandomForest)\n",
        "-- 나무의 갯수(n_estimators)를 : 200으로 설정\n",
        "-- 노드를 분할하기 위한 최소한의 샘플 데이터수(min_samples_split) : 3으로 설정\n",
        "-- random_state : 717로 설정\n",
        "-- 랜덤포레스트(RandomForest)모델을 rf 변수에 저장해 주세요.\n",
        "- XGBoost 모델을 만들고 학습을 진행하세요.\n",
        "-- n_estimators=5 설정\n",
        "-- XGBoost 모델을 xgb 변수에 저장해 주세요.\n",
        "- Light GBM 모델을 만들고 학습을 진행하세요.\n",
        "-- n_estimators=3 설정\n",
        "-- Light GBM 모델을 lgbm 변수에 저장해 주세요.\n",
        "- 위의 모델에 대해 fit을 활용해 모델을 학습해 주세요. 학습 시 훈련 데이터셋을 활용해 주세요."
      ],
      "metadata": {
        "id": "XPpqU27SFeII"
      }
    },
    {
      "cell_type": "code",
      "source": [
        "# 여기에 답안코드를 작성하세요.\n",
        "\n",
        "\n"
      ],
      "metadata": {
        "id": "dBmJGkGAGVda"
      },
      "execution_count": null,
      "outputs": []
    },
    {
      "cell_type": "markdown",
      "source": [
        "#11. 위 모델들의 성능을 평가하려고 합니다.  \n",
        "## 아래 가이드에 따라 예측 결과의 MAE(Mean Absolute Error)를 구하고 평가하세요.\n",
        "\n",
        "- 성능 평가는 검증 데이터셋을 활용하세요.\n",
        "\n",
        "- 11번 문제에서 만든 선형 회귀 모델로 y값을 예측(predict)하여 y_pred_lr에 저장하세요.  \n",
        "-- 검증 정답(y_valid)과 예측값(y_pred_lr)의 MAE를 구하고 lr_mae 변수에 저장하세요.\n",
        "\n",
        "- 11번 문제에서 만든 랜덤포레스트(RandomForest) 모델로 y값을 예측(predict)하여 y_pred_rf에 저장하세요.  \n",
        "-- 검증 정답(y_valid)과 예측값(y_pred_rf)의 MAE를 구하고 rf_mae 변수에 저장하세요.\n",
        "\n",
        "- 11번 문제에서 만든 XGBoost 모델로 y값을 예측(predict)하여 y_pred_xgb에 저장하세요.  \n",
        "-- 검증 정답(y_valid)과 예측값(y_pred_xgb)의 MAE를 구하고 xgb_mae 변수에 저장하세요.\n",
        "\n",
        "- 11번 문제에서 만든 Light GBM 모델로 y값을 예측(predict)하여 y_pred_lgbm에 저장하세요.  \n",
        "-- 검증 정답(y_valid)과 예측값(y_pred_lgbm)의 MAE를 구하고 lgbm_mae 변수에 저장하세요.\n",
        "\n",
        "- 위 4개 모델의 MAE 성능 평가 결과를 비교하여 **가장 성능이 좋은 모델 이름을 `답안12` 변수에 문자열로 저장**하세요.  \n",
        "  -- 예시: `답안12 = 'LinearRegression'` 혹은 `답안12 = 'RandomForest'` 등\n",
        "\n",
        "- 가장 성능이 좋은 모델에 대해서는 다음의 회귀 평가 지표들도 추가로 출력하세요:  \n",
        "  -- MSE (Mean Squared Error)  \n",
        "  -- RMSE (Root Mean Squared Error)  \n",
        "  -- R2 Score"
      ],
      "metadata": {
        "id": "6U76kvh5GW6B"
      }
    },
    {
      "cell_type": "code",
      "source": [
        "# 여기에 답안코드를 작성하세요.\n",
        "\n",
        "\n"
      ],
      "metadata": {
        "id": "4ZUkUqZXHJYb"
      },
      "execution_count": null,
      "outputs": []
    },
    {
      "cell_type": "markdown",
      "source": [
        "## 다음 문항을 풀기 전에 아래 코드를 실행하세요\n",
        "\n",
        "\n"
      ],
      "metadata": {
        "id": "VCog4yJcHKSd"
      }
    },
    {
      "cell_type": "code",
      "source": [
        "import tensorflow as tf\n",
        "from tensorflow.keras.models import Sequential, load_model\n",
        "from tensorflow.keras.layers import Dense, Activation, Dropout, BatchNormalization\n",
        "from tensorflow.keras.callbacks import EarlyStopping, ModelCheckpoint\n",
        "from tensorflow.keras.utils import to_categorical\n",
        "\n",
        "tf.random.set_seed(1)"
      ],
      "metadata": {
        "id": "IMxYuq8ZHOr-"
      },
      "execution_count": null,
      "outputs": []
    },
    {
      "cell_type": "markdown",
      "source": [
        "#12.medv(주택 가격)을 예측하는 딥러닝 모델을 만들려고 합니다.\n",
        "##아래 가이드에 따라 모델링하고 학습을 진행하세요.\n",
        "- Tensorflow framework를 사용하여 딥러닝 모델을 만드세요.\n",
        "- Dense 층으로 구성된 히든레이어(hidden layer)를 3개 이상으로 모델을 구성하세요.\n",
        "- Dropout은 0.2 비율로 히든 레이어 사이마다 추가해 주세요.\n",
        "- 손실함수는 MSE를 사용하세요.\n",
        "- 하이퍼파라미터 epochs : 50, batch_size : 64로 설정해 주세요.\n",
        "- 각 에포크마다 loss와 metrics 를 평가하기 위한 데이터로 x_valid, y_valid를 사용하세요.\n",
        "- 학습정보는 history에 저장해 주세요.\n",
        "- EarlyStopping 콜백을 적용하고 patience = 7, ModelCheckpoint 콜백으로 가장 좋은 성능의 모델을 best_model.h5 모델로 저장하세요."
      ],
      "metadata": {
        "id": "Vlz0sU8vHjdT"
      }
    },
    {
      "cell_type": "code",
      "source": [
        "# 여기에 답안코드를 작성하세요.\n",
        "\n",
        "\n"
      ],
      "metadata": {
        "id": "UkN1Ao1wIDNS"
      },
      "execution_count": null,
      "outputs": []
    },
    {
      "cell_type": "markdown",
      "source": [
        "#13.위 딥러닝 모델의 성능을 평가하려고 합니다.\n",
        "## Matplotlib 라이브러리 활용해서 학습 mse와 검증 mse를 그래프로 표시하세요.\n",
        "- 1개의 그래프에 학습mse와 검증mse 2가지를 모두 표시하세요.\n",
        "- 위 2가지 각각의 범례를 'mse', 'val_mse'로 표시하세요.\n",
        "- 그래프의 타이틀은 'Model MSE'로 표시하세요.\n",
        "- X축에는 'Epochs'라고 표시하고 Y축에는 'MSE'라고 표시하세요."
      ],
      "metadata": {
        "id": "0zctwbnkIFl4"
      }
    },
    {
      "cell_type": "code",
      "source": [
        "# 여기에 답안코드를 작성하세요.\n",
        "\n",
        "\n"
      ],
      "metadata": {
        "id": "CUPbGtrXIGO1"
      },
      "execution_count": null,
      "outputs": []
    },
    {
      "cell_type": "markdown",
      "source": [
        "#14.회귀 모델 model 예측 결과를 확인하고 성능을 평가하려고 합니다.\n",
        "- 딥러닝 모델명 : model\n",
        "- 테스트 데이터셋 : x_valid, y_valid\n",
        "- 모델로 예측한 결과를 model_pred 변수에 저장하세요.\n",
        "- evaluate 메서드를 사용하여 손실값과 평균 제곱 오차(MSE) 를 각각 model_loss, model_mse 변수에 저장하고 출력하세요.\n",
        "- ✳️ 예측 함수: predict, 평가 함수: evaluate 사용\n",
        "- 실제과 예측값을 활용하여 회귀 성능 평가 지표를 출력하세요.\n",
        "-- 평균 제곱근 오차(RMSE)\n",
        "-- 결정계수(R²)"
      ],
      "metadata": {
        "id": "iLpKbrE-p2J0"
      }
    },
    {
      "cell_type": "code",
      "source": [
        "# 여기에 답안코드를 작성하세요.\n",
        "\n",
        "\n"
      ],
      "metadata": {
        "id": "tI1Pr-Z7p1d3"
      },
      "execution_count": null,
      "outputs": []
    },
    {
      "cell_type": "markdown",
      "source": [
        "#15. 학습이 완료된 딥러닝 회귀 모델 model과 랜덤 포레스트 모델 rf를 저장하려고 합니다.\n",
        "- 딥러닝 모델 객체명 : model\n",
        "- 모델을 저장할 파일명 : \"deep_model.h5\"\n",
        "- 모델 저장은 Keras의 save 메서드를 사용하세요.\n",
        "\n",
        "- 랜덤 포레스트 모델 객체명 : rf\n",
        "- 저장할 파일명 : \"rf_model.pkl\"\n",
        "- 모델 저장은 joblib 라이브러리를 사용하세요."
      ],
      "metadata": {
        "id": "lkCV3TIHvdqA"
      }
    },
    {
      "cell_type": "code",
      "source": [
        "# 여기에 답안코드를 작성하세요.\n",
        "\n",
        "\n"
      ],
      "metadata": {
        "id": "kGJ92UP_oLnj"
      },
      "execution_count": null,
      "outputs": []
    },
    {
      "cell_type": "markdown",
      "source": [
        "##1번부터 15번까지 모든 문제를 풀었습니다. 수고하셨습니다.\n",
        "'최종제출 및 종료를' 클릭하셔서 답안을 제출해 주시기 바랍니다."
      ],
      "metadata": {
        "id": "Ck2igOySIGvG"
      }
    }
  ]
}