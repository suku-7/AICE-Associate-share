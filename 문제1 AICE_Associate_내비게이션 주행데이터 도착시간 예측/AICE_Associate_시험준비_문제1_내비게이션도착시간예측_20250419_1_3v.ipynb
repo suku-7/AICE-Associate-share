{
  "nbformat": 4,
  "nbformat_minor": 0,
  "metadata": {
    "colab": {
      "provenance": []
    },
    "kernelspec": {
      "name": "python3",
      "display_name": "Python 3"
    },
    "language_info": {
      "name": "python"
    }
  },
  "cells": [
    {
      "cell_type": "markdown",
      "source": [
        "AICE ASSOCIATE 자격시험\n",
        "\n",
        "시험 시간 : 00:00 ~ 00:00 (90분)\n",
        "남은 시간 : 1시간 30분 [V 임시저장] [V 최종제출]"
      ],
      "metadata": {
        "id": "vquI6WNU_g5k"
      }
    },
    {
      "cell_type": "markdown",
      "source": [
        "AICE Associate 자격인증 샘플문한\n",
        "내비게이션 주행데이터를 이용한 **도착시간** 예측 문제\n",
        "- 내비게이션 주행데이터를 읽어들여 데이터를 분석 및 전처리한 후 머신러닝과 딥러닝으로 도착시간을 예측하고 결과를 분석하세요."
      ],
      "metadata": {
        "id": "Bxnxurqt_4Xp"
      }
    },
    {
      "cell_type": "markdown",
      "source": [
        "[유의사항]\n",
        "- 각 문항의 답안코드는 반드시 '#여기에 답안코드를 작성하세요'로 표시된 cell에 작성해야 합니다.\n",
        "- 제공된 시험문항 cell을 삭제하거나 답안 위치가 아닌 다른 cell에 답안코드를 작성 시 채점되지 않습니다.\n",
        "- 시험 중에는 상단의 '임시저장'버튼을 클릭하여 저장을 해주시고, 답안 제출시에는 '최종제출' 버튼을 클릭해주시기 바랍니다.\n",
        "- 반드시 문제에 제시된 가이드를 읽고 답안 작성하세요.\n",
        "- 자격인증 문제에 제공된 데이터는 제 3자에게 공유하거나 개인적인 용도로 사용하는 등 외부로 요출할 수 없으면 유출로 인한 책임은 응시자 본인에게 있습니다.\n",
        "- Copy & Paste를 위한 메모장, 노션 등을 사용할 경우 부정행위로 간주될 수 있습니다.\n",
        "- 생성형 AI를 활용한 검색은 부정행위로 별도의 경고조치 없이 적발 즉시 시험 중단될 수 있습니다."
      ],
      "metadata": {
        "id": "_48_KkI2ACHl"
      }
    },
    {
      "cell_type": "markdown",
      "source": [
        "[데이터 컬럼 설명 (데이터 파일명: A0007IT.json)]\n",
        "- Time_Departure : 출발시각\n",
        "- Time_Arrival : 도착시각\n",
        "- Distance : 이동 거리, 단위(m)\n",
        "- Time_Driving : 실주행시간(초)\n",
        "- Speed_Per_Hour : 평균시속\n",
        "- Address1 : 주소1\n",
        "- Address2 : 주소2\n",
        "- Weekday : Time_Departure(출발시각)의 요일\n",
        "- Hour : Time_Departure(출발시각)의 시각\n",
        "- Day : Time_Departure(출발시각)의 날짜\n"
      ],
      "metadata": {
        "id": "jwaE3pXSAeCh"
      }
    },
    {
      "cell_type": "markdown",
      "source": [
        "[데이터 컬럼 설명 (데이터 파일명: signal.csv)]\n",
        "- RID : 경로ID\n",
        "- signaltype : 경로의 신호등 갯수"
      ],
      "metadata": {
        "id": "fksAlGeVA61D"
      }
    },
    {
      "cell_type": "markdown",
      "source": [
        "#1.scikit-learn 패키지는 머신러닝 교육을 위한 최고의 파이썬 패키지입니다.\n",
        "- scikit-learn를 별칭(alias) sk로 임포트하는 코드를 작성하고 실행하세요."
      ],
      "metadata": {
        "id": "WZqlrJynBE-u"
      }
    },
    {
      "cell_type": "code",
      "source": [
        "# 여기에 답안코드를 작성하세요.\n",
        "\n",
        "\n"
      ],
      "metadata": {
        "id": "bIFdZXN5BClx"
      },
      "execution_count": null,
      "outputs": []
    },
    {
      "cell_type": "markdown",
      "source": [
        "#2.Pandas는 데이터 분석을 위해 널리 사용되는 파이썬 라이브러리입니다.\n",
        "- Pandas를 사용할 수 있도록 별칭(alias)을 pd로 해서 불러오세요."
      ],
      "metadata": {
        "id": "MdneWHIsBc7h"
      }
    },
    {
      "cell_type": "code",
      "source": [
        "# 여기에 답안코드를 작성하세요.\n",
        "\n",
        "\n"
      ],
      "metadata": {
        "id": "br40t-shBnUK"
      },
      "execution_count": null,
      "outputs": []
    },
    {
      "cell_type": "markdown",
      "source": [
        "#3.모델링을 위해 분석 및 처리할 데이터 파일을 읽어오려고 합니다.\n",
        "###Pandas함수로 2개 데이터 파일을 읽고 합쳐서 1개의 데이터프레임 변수명 df에 할당하는 코드를 작성하세요.\n",
        "- A0007IT.json 파일을 읽어 데이터 프레임 변수명 df_a에 할당하세요.\n",
        "- signal.csv 파일을 읽어 데이터 프레임 변수명 df_b에 할당하세요.\n",
        "- df_a와 df_b 데이터프레임을 판다스의 merge 함수를 활용하여 합쳐 데이터프레임 변수명 df에 저장하세요.\n",
        "- 합칠 때 사용하는 키(on) : 'RID'\n",
        "- 합치는 방법(how) : 'inner'"
      ],
      "metadata": {
        "id": "PbT9WW2yBpkv"
      }
    },
    {
      "cell_type": "code",
      "source": [
        "# 여기에 답안코드를 작성하세요.\n",
        "\n",
        "\n"
      ],
      "metadata": {
        "id": "vIN9xtoRB0LH"
      },
      "execution_count": null,
      "outputs": []
    },
    {
      "cell_type": "markdown",
      "source": [
        "## 다음 문항을 풀기 전에 아래 코드를 실행하세요\n",
        "\n",
        "\n"
      ],
      "metadata": {
        "id": "h0FXaCTGCJKf"
      }
    },
    {
      "cell_type": "code",
      "source": [
        "!pip install koreanize-matplotlib\n",
        "import koreanize_matplotlib"
      ],
      "metadata": {
        "id": "vcfEKtJQCHwf"
      },
      "execution_count": null,
      "outputs": []
    },
    {
      "cell_type": "markdown",
      "source": [
        "#4.Address1(주소1)에 대한 분포도를 알아 보려고 합니다.\n",
        "##Address1(주소1)에 대해 countplot 그래프로 만드는 코드와 답안을 작성하세요.\n",
        "- seaborn을 활용하세요.\n",
        "- 첫번째, Address1(주소1)에 대해서 분포를 보여주는 countplot 그래프를 그리세요.\n",
        "- 두번째, 지역명이 없는 '-' 에 해당되는 row(행)을 삭제하세요.\n",
        "- 출력된 그래프를 보고 해석한 것으로 옳지 않은 선택지를 아래에서 골라 '답안04'변수에 저장하세요. (예. 답안04 =4 )\n",
        "1. Countplot 그래프에서 Address1(주소1)분포를 확인시 '경기도' 분포가 제일 크다.\n",
        "2. Address1(주소1)분포를 보면 '인천광역시'보다 '서울특별시'가 더 크다.\n",
        "3. 지역명이 없는 '-' 에 해당되는 row(행)이 2개 있다."
      ],
      "metadata": {
        "id": "TTgMUwcKCY0a"
      }
    },
    {
      "cell_type": "code",
      "source": [
        "# 여기에 답안코드를 작성하세요.\n",
        "\n",
        "\n"
      ],
      "metadata": {
        "id": "tgtOVof3C9tD"
      },
      "execution_count": null,
      "outputs": []
    },
    {
      "cell_type": "markdown",
      "source": [
        "#5.실주행시간과 평균시속의 분포를 같이 확인하려고 합니다.\n",
        "## Time_Driving(실주행시간)과 Speed_Per_Hour(평균시속)을 jointplot 그래프로 만드세요.\n",
        "- seaborn을 활용하세요.\n",
        "- X축에는 Time_Driving(실주행시간)을 표시하고 Y축에는 Speed_Per_Hour(평균시속)을 표시하세요."
      ],
      "metadata": {
        "id": "tBH_6KZvC_hK"
      }
    },
    {
      "cell_type": "code",
      "source": [
        "# 여기에 답안코드를 작성하세요.\n",
        "\n",
        "\n"
      ],
      "metadata": {
        "id": "UiQ6-2_rDQoH"
      },
      "execution_count": null,
      "outputs": []
    },
    {
      "cell_type": "markdown",
      "source": [
        "#6.위의 jointplot 그래프에서 시속 300이 넘는 이상치를 발견할 수 있습니다.\n",
        "##가이드에 따라서 전처리를 수행하고 저장하세요.\n",
        "- 대상 데이터프레임 : df\n",
        "- jointplot 그래프를 보고 시속 300 이상이되는 이상치를 찾아 해당 행(Row)을 삭제하세요.\n",
        "- 불필요한 'RID' 컬럼을 삭제 하세요.\n",
        "- 전처리 반영 후에 새로운 데이터프레임 변수명 df_temp에 저장하세요."
      ],
      "metadata": {
        "id": "1M9HBJqkDT2D"
      }
    },
    {
      "cell_type": "code",
      "source": [
        "# 여기에 답안코드를 작성하세요.\n",
        "\n",
        "\n"
      ],
      "metadata": {
        "id": "3F6vT4GgDSAH"
      },
      "execution_count": null,
      "outputs": []
    },
    {
      "cell_type": "markdown",
      "source": [
        "#7.모델링 성능을 제대로 얻기 위해서 결측치 처리는 필수입니다.\n",
        "##아래 가이드를 따라 결측치 처리하세요.\n",
        "- 대상 데이터프레임 : df_temp\n",
        "- 결측치를 확인하는 코드를 작성하세요.\n",
        "- 결측치가 있는 행(raw)을 삭제하세요.\n",
        "- 전처리 반영된 결과를 새로운 데이터프레임 변수명 df_na에 저장하세요.\n",
        "- 결측치 개수를 '답안07' 변수에 저장하세요. (예. 답안07 = 5)"
      ],
      "metadata": {
        "id": "EMRGUmjZDpvY"
      }
    },
    {
      "cell_type": "code",
      "source": [
        "# 여기에 답안코드를 작성하세요.\n",
        "\n",
        "\n"
      ],
      "metadata": {
        "id": "CrxkzeGeD5_P"
      },
      "execution_count": null,
      "outputs": []
    },
    {
      "cell_type": "markdown",
      "source": [
        "#8.모델링 성능을 제대로 얻기 위해서 불필요한 변수는 삭제해야 합니다.\n",
        "##아래 가이드를 따라 불필요 데이터를 삭제 처리하세요.\n",
        "- 대상 데이터프레임 : df_na\n",
        "- 'Time_Departure', 'Time_Arrival' 2개 컬럼을 삭제하세요.\n",
        "- 전처리 반영된 결과를 새로운 데이터프레임 변수명 df_del에 저장하세요."
      ],
      "metadata": {
        "id": "1VTDVlYiD7qW"
      }
    },
    {
      "cell_type": "code",
      "source": [
        "# 여기에 답안코드를 작성하세요.\n",
        "\n",
        "\n"
      ],
      "metadata": {
        "id": "--ONGD6PEM1i"
      },
      "execution_count": null,
      "outputs": []
    },
    {
      "cell_type": "markdown",
      "source": [
        "#9.원-핫 인코딩(One-hot encoding)은 범주형 변수를 1과 0의 이진형 벡터로 변환하귀 위하여 사용하는 방법입니다.\n",
        "##원-핫 인코딩으로 아래 조건에 해당하는 컬럼 데이터를 변환하세요.\n",
        "- 대상 데이터프레임 : df_del\n",
        "- 원-핫 인코딩 대상 : object 타입의 전체 컬럼\n",
        "- 활용 함수 : Pandas의 get_dummies\n",
        "- 해당 전처리가 반영된 결과를 데이터프레임 변수 df_preset에 저장해 주세요."
      ],
      "metadata": {
        "id": "enRCcgrgEPay"
      }
    },
    {
      "cell_type": "code",
      "source": [
        "# 여기에 답안코드를 작성하세요.\n",
        "\n",
        "\n"
      ],
      "metadata": {
        "id": "wLjm0MCzEj7Q"
      },
      "execution_count": null,
      "outputs": []
    },
    {
      "cell_type": "markdown",
      "source": [
        "#10.훈련과 검증 각각에 사용할 데이터셋을 분리하려고 합니다.\n",
        "##Time_Driving(실주행시간)컬럼을 label값 y로, 나머지 컬럼을 feature값 X로 할당한 후 훈련 데이터셋과 검증 데이터셋으로 분리하세요.\n",
        "##추가로, 가이드에 따라서 훈련 데이터셋과 검증 데이터셋에 스케일링을 수행하세요.\n",
        "- 대상 데이터프레임 : df_preset\n",
        "- 훈련과 검증 데이터셋 분리\n",
        "-- 훈련 데이터셋 Label : y_train, 훈련 데이터셋 Feature : X_train\n",
        "-- 검증 데이터셋 Label : y_valid, 검증 데이터셋 Feature : X_valid\n",
        "-- 훈련 데이터셋과 검증 데이터셋 비율은 80:20\n",
        "-- random_state : 42\n",
        "-- Scikit_learn train_test_split 함수를 활용하세요.\n",
        "- RobustScaler 스케일링 수행\n",
        "-- sklearn.preprocessing의 RobustScaler 함수 사용\n",
        "-- 훈련 데이터셋의 Feature는 RobustScaler의 fit_transfom 함수를 활용하여 X_train 변수로 할당\n",
        "-- 검증 데이터셋의 Feature는 RobustScaler의 transform 함수를 활용하여 X_valid 변수로 할당"
      ],
      "metadata": {
        "id": "SVAuQPjcEk1x"
      }
    },
    {
      "cell_type": "code",
      "source": [
        "# 여기에 답안코드를 작성하세요.\n",
        "\n",
        "\n"
      ],
      "metadata": {
        "id": "mhFizz-VFbSH"
      },
      "execution_count": null,
      "outputs": []
    },
    {
      "cell_type": "markdown",
      "source": [
        "#11.Time_Driving(실주행시간)을 예측하는 머신러닝 모델을 만들려고 합니다.\n",
        "##의사결정나무(Decision tree)와 랜덤포레스트(RandomForest)는 여러가지 규칙을 순차적으로 적용하면서 독립 변수 공간을 분할하는 모형으로 분류(classification)와 회귀 분석(regression)에 모두 사용될 수 있습니다.\n",
        "##아래 가이드에 따라 의사결정나무(Decision tree)와 랜덤포레스트(RandomForest) 모델을 만들고 학습을 진행하세요.\n",
        "- 의사결정나무(Decision tree)\n",
        "-- 트리의 최대 깊이 : 5로 설정\n",
        "-- 노드를 분할하기 위한 최소한의 샘플 데이터수(min_samples_split) : 3로 설정\n",
        "-- random_state : 120로 설정\n",
        "-- 의사결정나무(Decision tree)모델을 dt 변수에 저장해 주세요.\n",
        "- 랜덤포레스트(RandomForest)\n",
        "-- 트리의 최대 깊이 : 5로 설정\n",
        "-- 노드를 분할하기 위한 최소한의 샘플 데이터수(min_samples_split) : 3으로 설정\n",
        "-- random_state : 120으로 설정\n",
        "-- 랜덤포레스트(RandomForest)모델을 rf 변수에 저장해 주세요.\n",
        "- 위의 2개의 모델에 대해 fit을 활용해 모델을 학습해 주세요. 학습 시 훈련 데이터셋을 활용해 주세요."
      ],
      "metadata": {
        "id": "XPpqU27SFeII"
      }
    },
    {
      "cell_type": "code",
      "source": [
        "# 여기에 답안코드를 작성하세요.\n",
        "\n",
        "\n"
      ],
      "metadata": {
        "id": "dBmJGkGAGVda"
      },
      "execution_count": null,
      "outputs": []
    },
    {
      "cell_type": "markdown",
      "source": [
        "#12.위 의사결정나무(Decision tree)와 랜덤포레스트(RandomForest)모델의 성능을 평가하려고 합니다.\n",
        "##아래 가이드에 따라 예측 결과의 mae(Mean Absolute Error)를 구하고 평가하세요.\n",
        "- 성능 평가는 검증 데이터셋을 활용하세요.\n",
        "- 11번 문제에서 만든 의사결정나무(Decision tree)모델로 y값을 예측(predict)하여 y_pred_dt에 저장하세요.\n",
        "- 검증 정답(y_valid)과 예측값(y_pred_dt)의 mae(Mean Absolute Error)를 구하고 dt_mae 변수에 저장하세요.\n",
        "- 11번 문제에서 만든 랜덤포레스트(RandomForest) 모델로 y값을 예측(predict)하여 y_pred_rf에 저장하세요.\n",
        "- 검증 정답(y_valid)과 예측값(y_pred_dt)의 mae(Mean Absolute Error)를 구하고 rf_mae 변수에 저장하세요.\n",
        "- 2개의 모델에 대한 mae 성능평가 결과를 확인하여 성능이 더 좋은 모델 이름을 '답안12' 변수에 저장하세요.\n",
        "-- 예) 답안12 = 'decisiontree' 혹은 답안 12 = 'randomforest'"
      ],
      "metadata": {
        "id": "6U76kvh5GW6B"
      }
    },
    {
      "cell_type": "code",
      "source": [
        "# 여기에 답안코드를 작성하세요.\n",
        "\n",
        "\n"
      ],
      "metadata": {
        "id": "4ZUkUqZXHJYb"
      },
      "execution_count": null,
      "outputs": []
    },
    {
      "cell_type": "markdown",
      "source": [
        "## 다음 문항을 풀기 전에 아래 코드를 실행하세요\n",
        "\n",
        "\n"
      ],
      "metadata": {
        "id": "VCog4yJcHKSd"
      }
    },
    {
      "cell_type": "code",
      "source": [
        "import tensorflow as tf\n",
        "from tensorflow.keras.models import Sequential, load_model\n",
        "from tensorflow.keras.layers import Dense, Activation, Dropout, BatchNormalization\n",
        "from tensorflow.keras.callbacks import EarlyStopping, ModelCheckpoint\n",
        "from tensorflow.keras.utils import to_categorical\n",
        "\n",
        "tf.random.set_seed(1)"
      ],
      "metadata": {
        "id": "IMxYuq8ZHOr-"
      },
      "execution_count": null,
      "outputs": []
    },
    {
      "cell_type": "markdown",
      "source": [
        "#13.Time_Driving(실주행시간)을 예측하는 딥러닝 모델을 만들려고 합니다.\n",
        "##아래 가이드에 따라 모델링하고 학습을 진행하세요.\n",
        "- Tensorflow framework를 사용하여 딥러닝 모델을 만드세요.\n",
        "- 히든레이어(hidden layer) 2개 이상으로 모델을 구성하세요.\n",
        "- dropout 비율 0.2로 Dropout 레이어 1개를 추가해 주세요.\n",
        "- 손실함수는 MSE(Mean Squared Error)를 사용하세요.\n",
        "- 하이퍼파라미터 epochs : 30, batch_size : 16으로 설정해 주세요.\n",
        "- 각 에포크마다 loss와 metrics 를 평가하기 위한 데이터로 x_valid, y_valid를 사용하세요.\n",
        "- 학습정보는 history 변수에 저장해 주세요."
      ],
      "metadata": {
        "id": "Vlz0sU8vHjdT"
      }
    },
    {
      "cell_type": "code",
      "source": [
        "# 여기에 답안코드를 작성하세요.\n",
        "\n",
        "\n"
      ],
      "metadata": {
        "id": "UkN1Ao1wIDNS"
      },
      "execution_count": null,
      "outputs": []
    },
    {
      "cell_type": "markdown",
      "source": [
        "#14.위 딥러닝 모델의 성능을 평가하려고 합니다.\n",
        "## Matplotlib 라이브러리 활용해서 학습 mse와 검증 mse를 그래프로 표시하세요.\n",
        "- 1개의 그래프에 학습mse와 검증mse 2가지를 모두 표시하세요.\n",
        "- 위 2가지 각각의 범례를 'mse', 'val_mse'로 표시하세요.\n",
        "- 그래프의 타이틀은 'Model MSE'로 표시하세요.\n",
        "- X축에는 'Epochs'라고 표시하고 Y축에는 'MSE'라고 표시하세요."
      ],
      "metadata": {
        "id": "0zctwbnkIFl4"
      }
    },
    {
      "cell_type": "code",
      "source": [
        "# 여기에 답안코드를 작성하세요.\n",
        "\n",
        "\n"
      ],
      "metadata": {
        "id": "CUPbGtrXIGO1"
      },
      "execution_count": null,
      "outputs": []
    },
    {
      "cell_type": "markdown",
      "source": [
        "##1번부터 14번까지 모든 문제를 풀었습니다. 수고하셨습니다.\n",
        "'최종제출 및 종료를' 클릭하셔서 답안을 제출해 주시기 바랍니다."
      ],
      "metadata": {
        "id": "Ck2igOySIGvG"
      }
    }
  ]
}