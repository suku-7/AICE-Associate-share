{
  "nbformat": 4,
  "nbformat_minor": 0,
  "metadata": {
    "colab": {
      "provenance": []
    },
    "kernelspec": {
      "name": "python3",
      "display_name": "Python 3"
    },
    "language_info": {
      "name": "python"
    }
  },
  "cells": [
    {
      "cell_type": "markdown",
      "source": [
        "AICE ASSOCIATE 자격시험\n",
        "\n",
        "시험 시간 : 00:00 ~ 00:00 (90분)\n",
        "남은 시간 : 1시간 30분 [V 임시저장] [V 최종제출]"
      ],
      "metadata": {
        "id": "vquI6WNU_g5k"
      }
    },
    {
      "cell_type": "markdown",
      "source": [
        "AICE Associate 자격인증 샘플 문항\n",
        "문제: 학생 등급 데이터를 활용한 등급 예측\n",
        "- 학생 등급 데이터를 불러온 후, 데이터를 분석하고 전처리하세요.\n",
        "- 머신러닝과 딥러닝 기법을 사용하여 등급을 예측하고, 예측 결과를 분석하세요."
      ],
      "metadata": {
        "id": "Bxnxurqt_4Xp"
      }
    },
    {
      "cell_type": "markdown",
      "source": [
        "[유의사항]\n",
        "- 각 문항의 답안코드는 반드시 '#여기에 답안코드를 작성하세요'로 표시된 cell에 작성해야 합니다.\n",
        "- 제공된 시험문항 cell을 삭제하거나 답안 위치가 아닌 다른 cell에 답안코드를 작성 시 채점되지 않습니다.\n",
        "- 시험 중에는 상단의 '임시저장'버튼을 클릭하여 저장을 해주시고, 답안 제출시에는 '최종제출' 버튼을 클릭해주시기 바랍니다.\n",
        "- 반드시 문제에 제시된 가이드를 읽고 답안 작성하세요.\n",
        "- 자격인증 문제에 제공된 데이터는 제 3자에게 공유하거나 개인적인 용도로 사용하는 등 외부로 요출할 수 없으면 유출로 인한 책임은 응시자 본인에게 있습니다.\n",
        "- Copy & Paste를 위한 메모장, 노션 등을 사용할 경우 부정행위로 간주될 수 있습니다.\n",
        "- 생성형 AI를 활용한 검색은 부정행위로 별도의 경고조치 없이 적발 즉시 시험 중단될 수 있습니다."
      ],
      "metadata": {
        "id": "_48_KkI2ACHl"
      }
    },
    {
      "cell_type": "markdown",
      "source": [
        "[데이터 컬럼 설명 (데이터 파일명: Students_Grading_Dataset.csv)]"
      ],
      "metadata": {
        "id": "jwaE3pXSAeCh"
      }
    },
    {
      "cell_type": "markdown",
      "source": [
        "| Column Name                | Data Type   | Description (설명)                                               |\n",
        "|---------------------------|-------------|------------------------------------------------------------------|\n",
        "| Student_ID                | String      | 각 학생을 식별하는 고유 ID                                        |\n",
        "| First_Name                | String      | 학생의 이름                                                       |\n",
        "| Last_Name                 | String      | 학생의 성                                                         |\n",
        "| Email                     | String      | 연락 이메일 (익명 처리 가능)                                       |\n",
        "| Gender                    | Categorical | 성별 (Male, Female, Other)                                       |\n",
        "| Age                       | Integer     | 학생의 나이                                                       |\n",
        "| Department                | String      | 학생의 학과 (예: CS, Engineering, Business)                      |\n",
        "| Attendance (%)            | Float       | 출석률 (0~100%)                                                  |\n",
        "| Midterm_Score             | Float       | 중간고사 점수 (100점 만점)                                        |\n",
        "| Final_Score               | Float       | 기말고사 점수 (100점 만점)                                        |\n",
        "| Assignments_Avg           | Float       | 과제 평균 점수 (100점 만점)                                       |\n",
        "| Quizzes_Avg               | Float       | 퀴즈 평균 점수 (100점 만점)                                       |\n",
        "| Participation_Score       | Float       | 수업 참여 점수 (0~10점)                                           |\n",
        "| Projects_Score            | Float       | 프로젝트 평가 점수 (100점 만점)                                   |\n",
        "| Total_Score               | Float       | 모든 점수를 가중치로 합산한 총점                                   |\n",
        "| Grade                     | Categorical | 성적 등급 (A, B, C, D, F)                                        |\n",
        "| Study_Hours_per_Week      | Float       | 주당 평균 공부 시간                                               |\n",
        "| Extracurricular_Activities| Boolean     | 비교과 활동 참여 여부 (Yes/No)                                   |\n",
        "| Internet_Access_at_Home   | Boolean     | 가정 내 인터넷 접근 가능 여부 (Yes/No)                           |\n",
        "| Parent_Education_Level    | Categorical | 부모의 최고 학력 수준 (None, 고졸, 학사, 석사, 박사 등)            |\n",
        "| Family_Income_Level       | Categorical | 가구 소득 수준 (Low, Medium, High)                               |\n",
        "| Stress_Level (1-10)       | Integer     | 자기 보고 스트레스 수준 (1: 낮음 ~ 10: 높음)                     |\n",
        "| Sleep_Hours_per_Night     | Float       | 하루 평균 수면 시간                          "
      ],
      "metadata": {
        "id": "azu2rtUESFl7"
      }
    },
    {
      "cell_type": "markdown",
      "source": [
        "#1.데이터 분석에 필요한 파이썬 라이브러리를 불러오세요.\n",
        "- scikit-learn를 별칭(alias) sk로 임포트하는 코드를 작성하고 실행하세요.\n",
        "- numpy를 사용할 수 있도록 별칭(alias)을 np로 해서 불러오세요.\n",
        "- Pandas를 사용할 수 있도록 별칭(alias)을 pd로 해서 불러오세요."
      ],
      "metadata": {
        "id": "WZqlrJynBE-u"
      }
    },
    {
      "cell_type": "code",
      "source": [
        "# 여기에 답안코드를 작성하세요.\n",
        "import sklearn as sk\n",
        "import numpy as np\n",
        "import pandas as pd"
      ],
      "metadata": {
        "id": "bIFdZXN5BClx"
      },
      "execution_count": 1,
      "outputs": []
    },
    {
      "cell_type": "markdown",
      "source": [
        "#2.데이터 시각화를 위해 널리 사용되는 파이썬 라이브러리를 불러오세요.\n",
        "- matplotlib.pyplot를 사용할 수 있도록 별칭(alias)을 plt로 해서 불러오세요.\n",
        "- seaborn을 사용할 수 있도록 별칭(alias)를 sns로 해서 불러오세요."
      ],
      "metadata": {
        "id": "MdneWHIsBc7h"
      }
    },
    {
      "cell_type": "code",
      "source": [
        "# 여기에 답안코드를 작성하세요.\n",
        "import matplotlib.pyplot as plt\n",
        "import seaborn as sns\n"
      ],
      "metadata": {
        "id": "br40t-shBnUK"
      },
      "execution_count": 2,
      "outputs": []
    },
    {
      "cell_type": "markdown",
      "source": [
        "#3.모델링을 위해 분석 및 처리할 데이터 파일을 읽어오려고 합니다.\n",
        "###Pandas함수로 데이터 파일을 읽고 데이터프레임 변수명 df에 할당하는 코드를 작성하세요.\n",
        "- Students_Grading_Dataset.csv 파일을 읽어 데이터 프레임 변수명 df에 저장하세요."
      ],
      "metadata": {
        "id": "PbT9WW2yBpkv"
      }
    },
    {
      "cell_type": "code",
      "source": [
        "# 여기에 답안코드를 작성하세요.\n",
        "df = pd.read_csv('Students_Grading_Dataset.csv')\n",
        "\n"
      ],
      "metadata": {
        "id": "vIN9xtoRB0LH"
      },
      "execution_count": 3,
      "outputs": []
    },
    {
      "cell_type": "code",
      "source": [
        "# 데이터 확인\n",
        "df.info()\n",
        "df"
      ],
      "metadata": {
        "colab": {
          "base_uri": "https://localhost:8080/",
          "height": 1000
        },
        "id": "RzIJznL1w2v1",
        "outputId": "94492dcd-34e2-4aa6-912b-de96d3c3bccd"
      },
      "execution_count": 4,
      "outputs": [
        {
          "output_type": "stream",
          "name": "stdout",
          "text": [
            "<class 'pandas.core.frame.DataFrame'>\n",
            "RangeIndex: 5000 entries, 0 to 4999\n",
            "Data columns (total 23 columns):\n",
            " #   Column                      Non-Null Count  Dtype  \n",
            "---  ------                      --------------  -----  \n",
            " 0   Student_ID                  5000 non-null   object \n",
            " 1   First_Name                  5000 non-null   object \n",
            " 2   Last_Name                   5000 non-null   object \n",
            " 3   Email                       5000 non-null   object \n",
            " 4   Gender                      5000 non-null   object \n",
            " 5   Age                         5000 non-null   int64  \n",
            " 6   Department                  5000 non-null   object \n",
            " 7   Attendance (%)              4484 non-null   float64\n",
            " 8   Midterm_Score               4998 non-null   float64\n",
            " 9   Final_Score                 4997 non-null   float64\n",
            " 10  Assignments_Avg             4483 non-null   float64\n",
            " 11  Quizzes_Avg                 5000 non-null   float64\n",
            " 12  Participation_Score         5000 non-null   float64\n",
            " 13  Projects_Score              5000 non-null   float64\n",
            " 14  Total_Score                 5000 non-null   float64\n",
            " 15  Grade                       5000 non-null   object \n",
            " 16  Study_Hours_per_Week        5000 non-null   float64\n",
            " 17  Extracurricular_Activities  5000 non-null   object \n",
            " 18  Internet_Access_at_Home     5000 non-null   object \n",
            " 19  Parent_Education_Level      3206 non-null   object \n",
            " 20  Family_Income_Level         5000 non-null   object \n",
            " 21  Stress_Level (1-10)         5000 non-null   int64  \n",
            " 22  Sleep_Hours_per_Night       5000 non-null   float64\n",
            "dtypes: float64(10), int64(2), object(11)\n",
            "memory usage: 898.6+ KB\n"
          ]
        },
        {
          "output_type": "execute_result",
          "data": {
            "text/plain": [
              "     Student_ID First_Name Last_Name                       Email  Gender  Age  \\\n",
              "0         S1000       Omar  Williams     student0@university.com  Female   22   \n",
              "1         S1001      Maria     Brown     student1@university.com    Male   18   \n",
              "2         S1002      Ahmed     Jones     student2@university.com    Male   24   \n",
              "3         S1003       Omar  Williams     student3@university.com  Female   24   \n",
              "4         S1004       John     Smith     student4@university.com  Female   23   \n",
              "...         ...        ...       ...                         ...     ...  ...   \n",
              "4995      S5995      Ahmed     Jones  student4995@university.com    Male   19   \n",
              "4996      S5996       Emma     Brown  student4996@university.com    Male   19   \n",
              "4997      S5997       John     Brown  student4997@university.com  Female   24   \n",
              "4998      S5998       Sara     Davis  student4998@university.com    Male   23   \n",
              "4999      S5999      Maria     Brown  student4999@university.com  Female   21   \n",
              "\n",
              "       Department  Attendance (%)  Midterm_Score  Final_Score  ...  \\\n",
              "0     Engineering           52.29          55.03        57.82  ...   \n",
              "1     Engineering           97.27          97.23        45.80  ...   \n",
              "2        Business           57.19          67.05        93.68  ...   \n",
              "3     Mathematics           95.15          47.79          NaN  ...   \n",
              "4              CS           54.18          46.59        78.89  ...   \n",
              "...           ...             ...            ...          ...  ...   \n",
              "4995     Business             NaN          82.15        60.33  ...   \n",
              "4996     Business           65.11          86.31        49.80  ...   \n",
              "4997           CS           87.54          63.55        64.21  ...   \n",
              "4998           CS           92.56          79.79        94.28  ...   \n",
              "4999  Engineering           83.92          83.24        53.47  ...   \n",
              "\n",
              "      Projects_Score  Total_Score  Grade  Study_Hours_per_Week  \\\n",
              "0              85.90        56.09      F                   6.2   \n",
              "1              55.65        50.64      A                  19.0   \n",
              "2              73.79        70.30      D                  20.7   \n",
              "3              92.12        61.63      A                  24.8   \n",
              "4              68.42        66.13      F                  15.4   \n",
              "...              ...          ...    ...                   ...   \n",
              "4995           58.42        85.21      D                  25.5   \n",
              "4996           60.87        95.96      C                   5.0   \n",
              "4997           82.65        54.25      A                  24.8   \n",
              "4998           94.29        55.84      A                  16.1   \n",
              "4999           69.25        77.86      F                  29.2   \n",
              "\n",
              "      Extracurricular_Activities Internet_Access_at_Home  \\\n",
              "0                             No                     Yes   \n",
              "1                             No                     Yes   \n",
              "2                             No                     Yes   \n",
              "3                            Yes                     Yes   \n",
              "4                            Yes                     Yes   \n",
              "...                          ...                     ...   \n",
              "4995                          No                     Yes   \n",
              "4996                          No                     Yes   \n",
              "4997                         Yes                      No   \n",
              "4998                         Yes                     Yes   \n",
              "4999                          No                     Yes   \n",
              "\n",
              "      Parent_Education_Level Family_Income_Level Stress_Level (1-10)  \\\n",
              "0                High School              Medium                   5   \n",
              "1                        NaN              Medium                   4   \n",
              "2                   Master's                 Low                   6   \n",
              "3                High School                High                   3   \n",
              "4                High School                High                   2   \n",
              "...                      ...                 ...                 ...   \n",
              "4995             High School                 Low                  10   \n",
              "4996                     NaN              Medium                   4   \n",
              "4997             High School              Medium                   4   \n",
              "4998              Bachelor's                 Low                   1   \n",
              "4999                     PhD                 Low                   2   \n",
              "\n",
              "     Sleep_Hours_per_Night  \n",
              "0                      4.7  \n",
              "1                      9.0  \n",
              "2                      6.2  \n",
              "3                      6.7  \n",
              "4                      7.1  \n",
              "...                    ...  \n",
              "4995                   8.3  \n",
              "4996                   4.0  \n",
              "4997                   6.3  \n",
              "4998                   8.4  \n",
              "4999                   6.1  \n",
              "\n",
              "[5000 rows x 23 columns]"
            ],
            "text/html": [
              "\n",
              "  <div id=\"df-e923dd12-65f6-4b09-9803-e0a14ea3dedd\" class=\"colab-df-container\">\n",
              "    <div>\n",
              "<style scoped>\n",
              "    .dataframe tbody tr th:only-of-type {\n",
              "        vertical-align: middle;\n",
              "    }\n",
              "\n",
              "    .dataframe tbody tr th {\n",
              "        vertical-align: top;\n",
              "    }\n",
              "\n",
              "    .dataframe thead th {\n",
              "        text-align: right;\n",
              "    }\n",
              "</style>\n",
              "<table border=\"1\" class=\"dataframe\">\n",
              "  <thead>\n",
              "    <tr style=\"text-align: right;\">\n",
              "      <th></th>\n",
              "      <th>Student_ID</th>\n",
              "      <th>First_Name</th>\n",
              "      <th>Last_Name</th>\n",
              "      <th>Email</th>\n",
              "      <th>Gender</th>\n",
              "      <th>Age</th>\n",
              "      <th>Department</th>\n",
              "      <th>Attendance (%)</th>\n",
              "      <th>Midterm_Score</th>\n",
              "      <th>Final_Score</th>\n",
              "      <th>...</th>\n",
              "      <th>Projects_Score</th>\n",
              "      <th>Total_Score</th>\n",
              "      <th>Grade</th>\n",
              "      <th>Study_Hours_per_Week</th>\n",
              "      <th>Extracurricular_Activities</th>\n",
              "      <th>Internet_Access_at_Home</th>\n",
              "      <th>Parent_Education_Level</th>\n",
              "      <th>Family_Income_Level</th>\n",
              "      <th>Stress_Level (1-10)</th>\n",
              "      <th>Sleep_Hours_per_Night</th>\n",
              "    </tr>\n",
              "  </thead>\n",
              "  <tbody>\n",
              "    <tr>\n",
              "      <th>0</th>\n",
              "      <td>S1000</td>\n",
              "      <td>Omar</td>\n",
              "      <td>Williams</td>\n",
              "      <td>student0@university.com</td>\n",
              "      <td>Female</td>\n",
              "      <td>22</td>\n",
              "      <td>Engineering</td>\n",
              "      <td>52.29</td>\n",
              "      <td>55.03</td>\n",
              "      <td>57.82</td>\n",
              "      <td>...</td>\n",
              "      <td>85.90</td>\n",
              "      <td>56.09</td>\n",
              "      <td>F</td>\n",
              "      <td>6.2</td>\n",
              "      <td>No</td>\n",
              "      <td>Yes</td>\n",
              "      <td>High School</td>\n",
              "      <td>Medium</td>\n",
              "      <td>5</td>\n",
              "      <td>4.7</td>\n",
              "    </tr>\n",
              "    <tr>\n",
              "      <th>1</th>\n",
              "      <td>S1001</td>\n",
              "      <td>Maria</td>\n",
              "      <td>Brown</td>\n",
              "      <td>student1@university.com</td>\n",
              "      <td>Male</td>\n",
              "      <td>18</td>\n",
              "      <td>Engineering</td>\n",
              "      <td>97.27</td>\n",
              "      <td>97.23</td>\n",
              "      <td>45.80</td>\n",
              "      <td>...</td>\n",
              "      <td>55.65</td>\n",
              "      <td>50.64</td>\n",
              "      <td>A</td>\n",
              "      <td>19.0</td>\n",
              "      <td>No</td>\n",
              "      <td>Yes</td>\n",
              "      <td>NaN</td>\n",
              "      <td>Medium</td>\n",
              "      <td>4</td>\n",
              "      <td>9.0</td>\n",
              "    </tr>\n",
              "    <tr>\n",
              "      <th>2</th>\n",
              "      <td>S1002</td>\n",
              "      <td>Ahmed</td>\n",
              "      <td>Jones</td>\n",
              "      <td>student2@university.com</td>\n",
              "      <td>Male</td>\n",
              "      <td>24</td>\n",
              "      <td>Business</td>\n",
              "      <td>57.19</td>\n",
              "      <td>67.05</td>\n",
              "      <td>93.68</td>\n",
              "      <td>...</td>\n",
              "      <td>73.79</td>\n",
              "      <td>70.30</td>\n",
              "      <td>D</td>\n",
              "      <td>20.7</td>\n",
              "      <td>No</td>\n",
              "      <td>Yes</td>\n",
              "      <td>Master's</td>\n",
              "      <td>Low</td>\n",
              "      <td>6</td>\n",
              "      <td>6.2</td>\n",
              "    </tr>\n",
              "    <tr>\n",
              "      <th>3</th>\n",
              "      <td>S1003</td>\n",
              "      <td>Omar</td>\n",
              "      <td>Williams</td>\n",
              "      <td>student3@university.com</td>\n",
              "      <td>Female</td>\n",
              "      <td>24</td>\n",
              "      <td>Mathematics</td>\n",
              "      <td>95.15</td>\n",
              "      <td>47.79</td>\n",
              "      <td>NaN</td>\n",
              "      <td>...</td>\n",
              "      <td>92.12</td>\n",
              "      <td>61.63</td>\n",
              "      <td>A</td>\n",
              "      <td>24.8</td>\n",
              "      <td>Yes</td>\n",
              "      <td>Yes</td>\n",
              "      <td>High School</td>\n",
              "      <td>High</td>\n",
              "      <td>3</td>\n",
              "      <td>6.7</td>\n",
              "    </tr>\n",
              "    <tr>\n",
              "      <th>4</th>\n",
              "      <td>S1004</td>\n",
              "      <td>John</td>\n",
              "      <td>Smith</td>\n",
              "      <td>student4@university.com</td>\n",
              "      <td>Female</td>\n",
              "      <td>23</td>\n",
              "      <td>CS</td>\n",
              "      <td>54.18</td>\n",
              "      <td>46.59</td>\n",
              "      <td>78.89</td>\n",
              "      <td>...</td>\n",
              "      <td>68.42</td>\n",
              "      <td>66.13</td>\n",
              "      <td>F</td>\n",
              "      <td>15.4</td>\n",
              "      <td>Yes</td>\n",
              "      <td>Yes</td>\n",
              "      <td>High School</td>\n",
              "      <td>High</td>\n",
              "      <td>2</td>\n",
              "      <td>7.1</td>\n",
              "    </tr>\n",
              "    <tr>\n",
              "      <th>...</th>\n",
              "      <td>...</td>\n",
              "      <td>...</td>\n",
              "      <td>...</td>\n",
              "      <td>...</td>\n",
              "      <td>...</td>\n",
              "      <td>...</td>\n",
              "      <td>...</td>\n",
              "      <td>...</td>\n",
              "      <td>...</td>\n",
              "      <td>...</td>\n",
              "      <td>...</td>\n",
              "      <td>...</td>\n",
              "      <td>...</td>\n",
              "      <td>...</td>\n",
              "      <td>...</td>\n",
              "      <td>...</td>\n",
              "      <td>...</td>\n",
              "      <td>...</td>\n",
              "      <td>...</td>\n",
              "      <td>...</td>\n",
              "      <td>...</td>\n",
              "    </tr>\n",
              "    <tr>\n",
              "      <th>4995</th>\n",
              "      <td>S5995</td>\n",
              "      <td>Ahmed</td>\n",
              "      <td>Jones</td>\n",
              "      <td>student4995@university.com</td>\n",
              "      <td>Male</td>\n",
              "      <td>19</td>\n",
              "      <td>Business</td>\n",
              "      <td>NaN</td>\n",
              "      <td>82.15</td>\n",
              "      <td>60.33</td>\n",
              "      <td>...</td>\n",
              "      <td>58.42</td>\n",
              "      <td>85.21</td>\n",
              "      <td>D</td>\n",
              "      <td>25.5</td>\n",
              "      <td>No</td>\n",
              "      <td>Yes</td>\n",
              "      <td>High School</td>\n",
              "      <td>Low</td>\n",
              "      <td>10</td>\n",
              "      <td>8.3</td>\n",
              "    </tr>\n",
              "    <tr>\n",
              "      <th>4996</th>\n",
              "      <td>S5996</td>\n",
              "      <td>Emma</td>\n",
              "      <td>Brown</td>\n",
              "      <td>student4996@university.com</td>\n",
              "      <td>Male</td>\n",
              "      <td>19</td>\n",
              "      <td>Business</td>\n",
              "      <td>65.11</td>\n",
              "      <td>86.31</td>\n",
              "      <td>49.80</td>\n",
              "      <td>...</td>\n",
              "      <td>60.87</td>\n",
              "      <td>95.96</td>\n",
              "      <td>C</td>\n",
              "      <td>5.0</td>\n",
              "      <td>No</td>\n",
              "      <td>Yes</td>\n",
              "      <td>NaN</td>\n",
              "      <td>Medium</td>\n",
              "      <td>4</td>\n",
              "      <td>4.0</td>\n",
              "    </tr>\n",
              "    <tr>\n",
              "      <th>4997</th>\n",
              "      <td>S5997</td>\n",
              "      <td>John</td>\n",
              "      <td>Brown</td>\n",
              "      <td>student4997@university.com</td>\n",
              "      <td>Female</td>\n",
              "      <td>24</td>\n",
              "      <td>CS</td>\n",
              "      <td>87.54</td>\n",
              "      <td>63.55</td>\n",
              "      <td>64.21</td>\n",
              "      <td>...</td>\n",
              "      <td>82.65</td>\n",
              "      <td>54.25</td>\n",
              "      <td>A</td>\n",
              "      <td>24.8</td>\n",
              "      <td>Yes</td>\n",
              "      <td>No</td>\n",
              "      <td>High School</td>\n",
              "      <td>Medium</td>\n",
              "      <td>4</td>\n",
              "      <td>6.3</td>\n",
              "    </tr>\n",
              "    <tr>\n",
              "      <th>4998</th>\n",
              "      <td>S5998</td>\n",
              "      <td>Sara</td>\n",
              "      <td>Davis</td>\n",
              "      <td>student4998@university.com</td>\n",
              "      <td>Male</td>\n",
              "      <td>23</td>\n",
              "      <td>CS</td>\n",
              "      <td>92.56</td>\n",
              "      <td>79.79</td>\n",
              "      <td>94.28</td>\n",
              "      <td>...</td>\n",
              "      <td>94.29</td>\n",
              "      <td>55.84</td>\n",
              "      <td>A</td>\n",
              "      <td>16.1</td>\n",
              "      <td>Yes</td>\n",
              "      <td>Yes</td>\n",
              "      <td>Bachelor's</td>\n",
              "      <td>Low</td>\n",
              "      <td>1</td>\n",
              "      <td>8.4</td>\n",
              "    </tr>\n",
              "    <tr>\n",
              "      <th>4999</th>\n",
              "      <td>S5999</td>\n",
              "      <td>Maria</td>\n",
              "      <td>Brown</td>\n",
              "      <td>student4999@university.com</td>\n",
              "      <td>Female</td>\n",
              "      <td>21</td>\n",
              "      <td>Engineering</td>\n",
              "      <td>83.92</td>\n",
              "      <td>83.24</td>\n",
              "      <td>53.47</td>\n",
              "      <td>...</td>\n",
              "      <td>69.25</td>\n",
              "      <td>77.86</td>\n",
              "      <td>F</td>\n",
              "      <td>29.2</td>\n",
              "      <td>No</td>\n",
              "      <td>Yes</td>\n",
              "      <td>PhD</td>\n",
              "      <td>Low</td>\n",
              "      <td>2</td>\n",
              "      <td>6.1</td>\n",
              "    </tr>\n",
              "  </tbody>\n",
              "</table>\n",
              "<p>5000 rows × 23 columns</p>\n",
              "</div>\n",
              "    <div class=\"colab-df-buttons\">\n",
              "\n",
              "  <div class=\"colab-df-container\">\n",
              "    <button class=\"colab-df-convert\" onclick=\"convertToInteractive('df-e923dd12-65f6-4b09-9803-e0a14ea3dedd')\"\n",
              "            title=\"Convert this dataframe to an interactive table.\"\n",
              "            style=\"display:none;\">\n",
              "\n",
              "  <svg xmlns=\"http://www.w3.org/2000/svg\" height=\"24px\" viewBox=\"0 -960 960 960\">\n",
              "    <path d=\"M120-120v-720h720v720H120Zm60-500h600v-160H180v160Zm220 220h160v-160H400v160Zm0 220h160v-160H400v160ZM180-400h160v-160H180v160Zm440 0h160v-160H620v160ZM180-180h160v-160H180v160Zm440 0h160v-160H620v160Z\"/>\n",
              "  </svg>\n",
              "    </button>\n",
              "\n",
              "  <style>\n",
              "    .colab-df-container {\n",
              "      display:flex;\n",
              "      gap: 12px;\n",
              "    }\n",
              "\n",
              "    .colab-df-convert {\n",
              "      background-color: #E8F0FE;\n",
              "      border: none;\n",
              "      border-radius: 50%;\n",
              "      cursor: pointer;\n",
              "      display: none;\n",
              "      fill: #1967D2;\n",
              "      height: 32px;\n",
              "      padding: 0 0 0 0;\n",
              "      width: 32px;\n",
              "    }\n",
              "\n",
              "    .colab-df-convert:hover {\n",
              "      background-color: #E2EBFA;\n",
              "      box-shadow: 0px 1px 2px rgba(60, 64, 67, 0.3), 0px 1px 3px 1px rgba(60, 64, 67, 0.15);\n",
              "      fill: #174EA6;\n",
              "    }\n",
              "\n",
              "    .colab-df-buttons div {\n",
              "      margin-bottom: 4px;\n",
              "    }\n",
              "\n",
              "    [theme=dark] .colab-df-convert {\n",
              "      background-color: #3B4455;\n",
              "      fill: #D2E3FC;\n",
              "    }\n",
              "\n",
              "    [theme=dark] .colab-df-convert:hover {\n",
              "      background-color: #434B5C;\n",
              "      box-shadow: 0px 1px 3px 1px rgba(0, 0, 0, 0.15);\n",
              "      filter: drop-shadow(0px 1px 2px rgba(0, 0, 0, 0.3));\n",
              "      fill: #FFFFFF;\n",
              "    }\n",
              "  </style>\n",
              "\n",
              "    <script>\n",
              "      const buttonEl =\n",
              "        document.querySelector('#df-e923dd12-65f6-4b09-9803-e0a14ea3dedd button.colab-df-convert');\n",
              "      buttonEl.style.display =\n",
              "        google.colab.kernel.accessAllowed ? 'block' : 'none';\n",
              "\n",
              "      async function convertToInteractive(key) {\n",
              "        const element = document.querySelector('#df-e923dd12-65f6-4b09-9803-e0a14ea3dedd');\n",
              "        const dataTable =\n",
              "          await google.colab.kernel.invokeFunction('convertToInteractive',\n",
              "                                                    [key], {});\n",
              "        if (!dataTable) return;\n",
              "\n",
              "        const docLinkHtml = 'Like what you see? Visit the ' +\n",
              "          '<a target=\"_blank\" href=https://colab.research.google.com/notebooks/data_table.ipynb>data table notebook</a>'\n",
              "          + ' to learn more about interactive tables.';\n",
              "        element.innerHTML = '';\n",
              "        dataTable['output_type'] = 'display_data';\n",
              "        await google.colab.output.renderOutput(dataTable, element);\n",
              "        const docLink = document.createElement('div');\n",
              "        docLink.innerHTML = docLinkHtml;\n",
              "        element.appendChild(docLink);\n",
              "      }\n",
              "    </script>\n",
              "  </div>\n",
              "\n",
              "\n",
              "<div id=\"df-5937e15d-e85b-4341-a271-0d864b15f957\">\n",
              "  <button class=\"colab-df-quickchart\" onclick=\"quickchart('df-5937e15d-e85b-4341-a271-0d864b15f957')\"\n",
              "            title=\"Suggest charts\"\n",
              "            style=\"display:none;\">\n",
              "\n",
              "<svg xmlns=\"http://www.w3.org/2000/svg\" height=\"24px\"viewBox=\"0 0 24 24\"\n",
              "     width=\"24px\">\n",
              "    <g>\n",
              "        <path d=\"M19 3H5c-1.1 0-2 .9-2 2v14c0 1.1.9 2 2 2h14c1.1 0 2-.9 2-2V5c0-1.1-.9-2-2-2zM9 17H7v-7h2v7zm4 0h-2V7h2v10zm4 0h-2v-4h2v4z\"/>\n",
              "    </g>\n",
              "</svg>\n",
              "  </button>\n",
              "\n",
              "<style>\n",
              "  .colab-df-quickchart {\n",
              "      --bg-color: #E8F0FE;\n",
              "      --fill-color: #1967D2;\n",
              "      --hover-bg-color: #E2EBFA;\n",
              "      --hover-fill-color: #174EA6;\n",
              "      --disabled-fill-color: #AAA;\n",
              "      --disabled-bg-color: #DDD;\n",
              "  }\n",
              "\n",
              "  [theme=dark] .colab-df-quickchart {\n",
              "      --bg-color: #3B4455;\n",
              "      --fill-color: #D2E3FC;\n",
              "      --hover-bg-color: #434B5C;\n",
              "      --hover-fill-color: #FFFFFF;\n",
              "      --disabled-bg-color: #3B4455;\n",
              "      --disabled-fill-color: #666;\n",
              "  }\n",
              "\n",
              "  .colab-df-quickchart {\n",
              "    background-color: var(--bg-color);\n",
              "    border: none;\n",
              "    border-radius: 50%;\n",
              "    cursor: pointer;\n",
              "    display: none;\n",
              "    fill: var(--fill-color);\n",
              "    height: 32px;\n",
              "    padding: 0;\n",
              "    width: 32px;\n",
              "  }\n",
              "\n",
              "  .colab-df-quickchart:hover {\n",
              "    background-color: var(--hover-bg-color);\n",
              "    box-shadow: 0 1px 2px rgba(60, 64, 67, 0.3), 0 1px 3px 1px rgba(60, 64, 67, 0.15);\n",
              "    fill: var(--button-hover-fill-color);\n",
              "  }\n",
              "\n",
              "  .colab-df-quickchart-complete:disabled,\n",
              "  .colab-df-quickchart-complete:disabled:hover {\n",
              "    background-color: var(--disabled-bg-color);\n",
              "    fill: var(--disabled-fill-color);\n",
              "    box-shadow: none;\n",
              "  }\n",
              "\n",
              "  .colab-df-spinner {\n",
              "    border: 2px solid var(--fill-color);\n",
              "    border-color: transparent;\n",
              "    border-bottom-color: var(--fill-color);\n",
              "    animation:\n",
              "      spin 1s steps(1) infinite;\n",
              "  }\n",
              "\n",
              "  @keyframes spin {\n",
              "    0% {\n",
              "      border-color: transparent;\n",
              "      border-bottom-color: var(--fill-color);\n",
              "      border-left-color: var(--fill-color);\n",
              "    }\n",
              "    20% {\n",
              "      border-color: transparent;\n",
              "      border-left-color: var(--fill-color);\n",
              "      border-top-color: var(--fill-color);\n",
              "    }\n",
              "    30% {\n",
              "      border-color: transparent;\n",
              "      border-left-color: var(--fill-color);\n",
              "      border-top-color: var(--fill-color);\n",
              "      border-right-color: var(--fill-color);\n",
              "    }\n",
              "    40% {\n",
              "      border-color: transparent;\n",
              "      border-right-color: var(--fill-color);\n",
              "      border-top-color: var(--fill-color);\n",
              "    }\n",
              "    60% {\n",
              "      border-color: transparent;\n",
              "      border-right-color: var(--fill-color);\n",
              "    }\n",
              "    80% {\n",
              "      border-color: transparent;\n",
              "      border-right-color: var(--fill-color);\n",
              "      border-bottom-color: var(--fill-color);\n",
              "    }\n",
              "    90% {\n",
              "      border-color: transparent;\n",
              "      border-bottom-color: var(--fill-color);\n",
              "    }\n",
              "  }\n",
              "</style>\n",
              "\n",
              "  <script>\n",
              "    async function quickchart(key) {\n",
              "      const quickchartButtonEl =\n",
              "        document.querySelector('#' + key + ' button');\n",
              "      quickchartButtonEl.disabled = true;  // To prevent multiple clicks.\n",
              "      quickchartButtonEl.classList.add('colab-df-spinner');\n",
              "      try {\n",
              "        const charts = await google.colab.kernel.invokeFunction(\n",
              "            'suggestCharts', [key], {});\n",
              "      } catch (error) {\n",
              "        console.error('Error during call to suggestCharts:', error);\n",
              "      }\n",
              "      quickchartButtonEl.classList.remove('colab-df-spinner');\n",
              "      quickchartButtonEl.classList.add('colab-df-quickchart-complete');\n",
              "    }\n",
              "    (() => {\n",
              "      let quickchartButtonEl =\n",
              "        document.querySelector('#df-5937e15d-e85b-4341-a271-0d864b15f957 button');\n",
              "      quickchartButtonEl.style.display =\n",
              "        google.colab.kernel.accessAllowed ? 'block' : 'none';\n",
              "    })();\n",
              "  </script>\n",
              "</div>\n",
              "\n",
              "  <div id=\"id_61b0181d-b5d8-407e-ba22-603c89792613\">\n",
              "    <style>\n",
              "      .colab-df-generate {\n",
              "        background-color: #E8F0FE;\n",
              "        border: none;\n",
              "        border-radius: 50%;\n",
              "        cursor: pointer;\n",
              "        display: none;\n",
              "        fill: #1967D2;\n",
              "        height: 32px;\n",
              "        padding: 0 0 0 0;\n",
              "        width: 32px;\n",
              "      }\n",
              "\n",
              "      .colab-df-generate:hover {\n",
              "        background-color: #E2EBFA;\n",
              "        box-shadow: 0px 1px 2px rgba(60, 64, 67, 0.3), 0px 1px 3px 1px rgba(60, 64, 67, 0.15);\n",
              "        fill: #174EA6;\n",
              "      }\n",
              "\n",
              "      [theme=dark] .colab-df-generate {\n",
              "        background-color: #3B4455;\n",
              "        fill: #D2E3FC;\n",
              "      }\n",
              "\n",
              "      [theme=dark] .colab-df-generate:hover {\n",
              "        background-color: #434B5C;\n",
              "        box-shadow: 0px 1px 3px 1px rgba(0, 0, 0, 0.15);\n",
              "        filter: drop-shadow(0px 1px 2px rgba(0, 0, 0, 0.3));\n",
              "        fill: #FFFFFF;\n",
              "      }\n",
              "    </style>\n",
              "    <button class=\"colab-df-generate\" onclick=\"generateWithVariable('df')\"\n",
              "            title=\"Generate code using this dataframe.\"\n",
              "            style=\"display:none;\">\n",
              "\n",
              "  <svg xmlns=\"http://www.w3.org/2000/svg\" height=\"24px\"viewBox=\"0 0 24 24\"\n",
              "       width=\"24px\">\n",
              "    <path d=\"M7,19H8.4L18.45,9,17,7.55,7,17.6ZM5,21V16.75L18.45,3.32a2,2,0,0,1,2.83,0l1.4,1.43a1.91,1.91,0,0,1,.58,1.4,1.91,1.91,0,0,1-.58,1.4L9.25,21ZM18.45,9,17,7.55Zm-12,3A5.31,5.31,0,0,0,4.9,8.1,5.31,5.31,0,0,0,1,6.5,5.31,5.31,0,0,0,4.9,4.9,5.31,5.31,0,0,0,6.5,1,5.31,5.31,0,0,0,8.1,4.9,5.31,5.31,0,0,0,12,6.5,5.46,5.46,0,0,0,6.5,12Z\"/>\n",
              "  </svg>\n",
              "    </button>\n",
              "    <script>\n",
              "      (() => {\n",
              "      const buttonEl =\n",
              "        document.querySelector('#id_61b0181d-b5d8-407e-ba22-603c89792613 button.colab-df-generate');\n",
              "      buttonEl.style.display =\n",
              "        google.colab.kernel.accessAllowed ? 'block' : 'none';\n",
              "\n",
              "      buttonEl.onclick = () => {\n",
              "        google.colab.notebook.generateWithVariable('df');\n",
              "      }\n",
              "      })();\n",
              "    </script>\n",
              "  </div>\n",
              "\n",
              "    </div>\n",
              "  </div>\n"
            ],
            "application/vnd.google.colaboratory.intrinsic+json": {
              "type": "dataframe",
              "variable_name": "df"
            }
          },
          "metadata": {},
          "execution_count": 4
        }
      ]
    },
    {
      "cell_type": "markdown",
      "source": [
        "## 다음 문항을 풀기 전에 아래 코드를 실행하세요\n",
        "\n",
        "\n"
      ],
      "metadata": {
        "id": "h0FXaCTGCJKf"
      }
    },
    {
      "cell_type": "code",
      "source": [
        "!pip install koreanize-matplotlib\n",
        "import koreanize_matplotlib"
      ],
      "metadata": {
        "id": "vcfEKtJQCHwf",
        "colab": {
          "base_uri": "https://localhost:8080/"
        },
        "outputId": "97ac687d-a661-4b59-ea7c-7520f7d23505"
      },
      "execution_count": 5,
      "outputs": [
        {
          "output_type": "stream",
          "name": "stdout",
          "text": [
            "Requirement already satisfied: koreanize-matplotlib in /usr/local/lib/python3.11/dist-packages (0.1.1)\n",
            "Requirement already satisfied: matplotlib in /usr/local/lib/python3.11/dist-packages (from koreanize-matplotlib) (3.10.0)\n",
            "Requirement already satisfied: contourpy>=1.0.1 in /usr/local/lib/python3.11/dist-packages (from matplotlib->koreanize-matplotlib) (1.3.2)\n",
            "Requirement already satisfied: cycler>=0.10 in /usr/local/lib/python3.11/dist-packages (from matplotlib->koreanize-matplotlib) (0.12.1)\n",
            "Requirement already satisfied: fonttools>=4.22.0 in /usr/local/lib/python3.11/dist-packages (from matplotlib->koreanize-matplotlib) (4.57.0)\n",
            "Requirement already satisfied: kiwisolver>=1.3.1 in /usr/local/lib/python3.11/dist-packages (from matplotlib->koreanize-matplotlib) (1.4.8)\n",
            "Requirement already satisfied: numpy>=1.23 in /usr/local/lib/python3.11/dist-packages (from matplotlib->koreanize-matplotlib) (2.0.2)\n",
            "Requirement already satisfied: packaging>=20.0 in /usr/local/lib/python3.11/dist-packages (from matplotlib->koreanize-matplotlib) (24.2)\n",
            "Requirement already satisfied: pillow>=8 in /usr/local/lib/python3.11/dist-packages (from matplotlib->koreanize-matplotlib) (11.1.0)\n",
            "Requirement already satisfied: pyparsing>=2.3.1 in /usr/local/lib/python3.11/dist-packages (from matplotlib->koreanize-matplotlib) (3.2.3)\n",
            "Requirement already satisfied: python-dateutil>=2.7 in /usr/local/lib/python3.11/dist-packages (from matplotlib->koreanize-matplotlib) (2.8.2)\n",
            "Requirement already satisfied: six>=1.5 in /usr/local/lib/python3.11/dist-packages (from python-dateutil>=2.7->matplotlib->koreanize-matplotlib) (1.17.0)\n"
          ]
        }
      ]
    },
    {
      "cell_type": "markdown",
      "source": [
        "#4. Gender(성별) 컬럼에 대해 seaborn의 countplot 그래프를 그리세요.\n",
        "###성별 분포를 해석한 선택지 중 옳지 않은 것을 답안04 변수에 저장하세요. (예: 답안04 = 5)\n",
        "1. 남학생(male) 수가 여학생(female)보다 많다.\n",
        "2. 성별 데이터에는 결측치가 없다.\n",
        "3. 기타 성별도 일부 존재한다."
      ],
      "metadata": {
        "id": "TTgMUwcKCY0a"
      }
    },
    {
      "cell_type": "code",
      "source": [
        "# 여기에 답안코드를 작성하세요.\n",
        "sns.countplot(data=df, x='Gender')\n",
        "plt.show()\n",
        "\n",
        "# 남학생(male) 수가 여학생(female)보다 많다. (맞음)\n",
        "# 성별 데이터에는 결측치가 없다. (맞음)\n",
        "# 기타 성별도 일부 존재한다. (틀림)\n",
        "\n",
        "답안04 = 3"
      ],
      "metadata": {
        "id": "tgtOVof3C9tD",
        "colab": {
          "base_uri": "https://localhost:8080/",
          "height": 447
        },
        "outputId": "e332b9e0-f475-40b4-f83d-be16feed05b1"
      },
      "execution_count": 6,
      "outputs": [
        {
          "output_type": "display_data",
          "data": {
            "text/plain": [
              "<Figure size 640x480 with 1 Axes>"
            ],
            "image/png": "[encoded data removed]"
          },
          "metadata": {}
        }
      ]
    },
    {
      "cell_type": "code",
      "source": [
        "# 결측치 확인\n",
        "df.isnull().sum()"
      ],
      "metadata": {
        "colab": {
          "base_uri": "https://localhost:8080/",
          "height": 805
        },
        "id": "FlXXRhZTxbFv",
        "outputId": "5bec6982-1368-4598-b4ca-7da1b0e07908"
      },
      "execution_count": 7,
      "outputs": [
        {
          "output_type": "execute_result",
          "data": {
            "text/plain": [
              "Student_ID                       0\n",
              "First_Name                       0\n",
              "Last_Name                        0\n",
              "Email                            0\n",
              "Gender                           0\n",
              "Age                              0\n",
              "Department                       0\n",
              "Attendance (%)                 516\n",
              "Midterm_Score                    2\n",
              "Final_Score                      3\n",
              "Assignments_Avg                517\n",
              "Quizzes_Avg                      0\n",
              "Participation_Score              0\n",
              "Projects_Score                   0\n",
              "Total_Score                      0\n",
              "Grade                            0\n",
              "Study_Hours_per_Week             0\n",
              "Extracurricular_Activities       0\n",
              "Internet_Access_at_Home          0\n",
              "Parent_Education_Level        1794\n",
              "Family_Income_Level              0\n",
              "Stress_Level (1-10)              0\n",
              "Sleep_Hours_per_Night            0\n",
              "dtype: int64"
            ],
            "text/html": [
              "<div>\n",
              "<style scoped>\n",
              "    .dataframe tbody tr th:only-of-type {\n",
              "        vertical-align: middle;\n",
              "    }\n",
              "\n",
              "    .dataframe tbody tr th {\n",
              "        vertical-align: top;\n",
              "    }\n",
              "\n",
              "    .dataframe thead th {\n",
              "        text-align: right;\n",
              "    }\n",
              "</style>\n",
              "<table border=\"1\" class=\"dataframe\">\n",
              "  <thead>\n",
              "    <tr style=\"text-align: right;\">\n",
              "      <th></th>\n",
              "      <th>0</th>\n",
              "    </tr>\n",
              "  </thead>\n",
              "  <tbody>\n",
              "    <tr>\n",
              "      <th>Student_ID</th>\n",
              "      <td>0</td>\n",
              "    </tr>\n",
              "    <tr>\n",
              "      <th>First_Name</th>\n",
              "      <td>0</td>\n",
              "    </tr>\n",
              "    <tr>\n",
              "      <th>Last_Name</th>\n",
              "      <td>0</td>\n",
              "    </tr>\n",
              "    <tr>\n",
              "      <th>Email</th>\n",
              "      <td>0</td>\n",
              "    </tr>\n",
              "    <tr>\n",
              "      <th>Gender</th>\n",
              "      <td>0</td>\n",
              "    </tr>\n",
              "    <tr>\n",
              "      <th>Age</th>\n",
              "      <td>0</td>\n",
              "    </tr>\n",
              "    <tr>\n",
              "      <th>Department</th>\n",
              "      <td>0</td>\n",
              "    </tr>\n",
              "    <tr>\n",
              "      <th>Attendance (%)</th>\n",
              "      <td>516</td>\n",
              "    </tr>\n",
              "    <tr>\n",
              "      <th>Midterm_Score</th>\n",
              "      <td>2</td>\n",
              "    </tr>\n",
              "    <tr>\n",
              "      <th>Final_Score</th>\n",
              "      <td>3</td>\n",
              "    </tr>\n",
              "    <tr>\n",
              "      <th>Assignments_Avg</th>\n",
              "      <td>517</td>\n",
              "    </tr>\n",
              "    <tr>\n",
              "      <th>Quizzes_Avg</th>\n",
              "      <td>0</td>\n",
              "    </tr>\n",
              "    <tr>\n",
              "      <th>Participation_Score</th>\n",
              "      <td>0</td>\n",
              "    </tr>\n",
              "    <tr>\n",
              "      <th>Projects_Score</th>\n",
              "      <td>0</td>\n",
              "    </tr>\n",
              "    <tr>\n",
              "      <th>Total_Score</th>\n",
              "      <td>0</td>\n",
              "    </tr>\n",
              "    <tr>\n",
              "      <th>Grade</th>\n",
              "      <td>0</td>\n",
              "    </tr>\n",
              "    <tr>\n",
              "      <th>Study_Hours_per_Week</th>\n",
              "      <td>0</td>\n",
              "    </tr>\n",
              "    <tr>\n",
              "      <th>Extracurricular_Activities</th>\n",
              "      <td>0</td>\n",
              "    </tr>\n",
              "    <tr>\n",
              "      <th>Internet_Access_at_Home</th>\n",
              "      <td>0</td>\n",
              "    </tr>\n",
              "    <tr>\n",
              "      <th>Parent_Education_Level</th>\n",
              "      <td>1794</td>\n",
              "    </tr>\n",
              "    <tr>\n",
              "      <th>Family_Income_Level</th>\n",
              "      <td>0</td>\n",
              "    </tr>\n",
              "    <tr>\n",
              "      <th>Stress_Level (1-10)</th>\n",
              "      <td>0</td>\n",
              "    </tr>\n",
              "    <tr>\n",
              "      <th>Sleep_Hours_per_Night</th>\n",
              "      <td>0</td>\n",
              "    </tr>\n",
              "  </tbody>\n",
              "</table>\n",
              "</div><br><label><b>dtype:</b> int64</label>"
            ]
          },
          "metadata": {},
          "execution_count": 7
        }
      ]
    },
    {
      "cell_type": "markdown",
      "source": [
        "#5. Attendance(출석률)과 Total_Score(총점) 사이의 관계를 시각화하기 위해 seaborn의 jointplot을 그리세요.\n",
        "- seaborn을 활용하세요.\n",
        "- 'Attendance (%)' 컬럼의 이름을 'Attendance'로 수정합니다.\n",
        "- Attendance(출석률)의 결측치를 제거 해주세요.\n",
        "- X축에는 Attendance(출석율)을 표시하고 Y축에는 Total_Score(총점)을 표시하세요."
      ],
      "metadata": {
        "id": "tBH_6KZvC_hK"
      }
    },
    {
      "cell_type": "code",
      "source": [
        "# 컬럼명, 결측치 확인\n",
        "df.info()"
      ],
      "metadata": {
        "colab": {
          "base_uri": "https://localhost:8080/"
        },
        "id": "6L6hy5o5yCqN",
        "outputId": "1c60ddf2-7558-43c6-f300-cc9c0539a5f9"
      },
      "execution_count": 8,
      "outputs": [
        {
          "output_type": "stream",
          "name": "stdout",
          "text": [
            "<class 'pandas.core.frame.DataFrame'>\n",
            "RangeIndex: 5000 entries, 0 to 4999\n",
            "Data columns (total 23 columns):\n",
            " #   Column                      Non-Null Count  Dtype  \n",
            "---  ------                      --------------  -----  \n",
            " 0   Student_ID                  5000 non-null   object \n",
            " 1   First_Name                  5000 non-null   object \n",
            " 2   Last_Name                   5000 non-null   object \n",
            " 3   Email                       5000 non-null   object \n",
            " 4   Gender                      5000 non-null   object \n",
            " 5   Age                         5000 non-null   int64  \n",
            " 6   Department                  5000 non-null   object \n",
            " 7   Attendance (%)              4484 non-null   float64\n",
            " 8   Midterm_Score               4998 non-null   float64\n",
            " 9   Final_Score                 4997 non-null   float64\n",
            " 10  Assignments_Avg             4483 non-null   float64\n",
            " 11  Quizzes_Avg                 5000 non-null   float64\n",
            " 12  Participation_Score         5000 non-null   float64\n",
            " 13  Projects_Score              5000 non-null   float64\n",
            " 14  Total_Score                 5000 non-null   float64\n",
            " 15  Grade                       5000 non-null   object \n",
            " 16  Study_Hours_per_Week        5000 non-null   float64\n",
            " 17  Extracurricular_Activities  5000 non-null   object \n",
            " 18  Internet_Access_at_Home     5000 non-null   object \n",
            " 19  Parent_Education_Level      3206 non-null   object \n",
            " 20  Family_Income_Level         5000 non-null   object \n",
            " 21  Stress_Level (1-10)         5000 non-null   int64  \n",
            " 22  Sleep_Hours_per_Night       5000 non-null   float64\n",
            "dtypes: float64(10), int64(2), object(11)\n",
            "memory usage: 898.6+ KB\n"
          ]
        }
      ]
    },
    {
      "cell_type": "code",
      "source": [
        "# 여기에 답안코드를 작성하세요.\n",
        "\n",
        "df = df.rename(columns={'Attendance (%)': 'Attendance'})\n",
        "df = df[df['Attendance'].notnull()]\n",
        "\n",
        "sns.jointplot(data=df, x='Attendance', y='Total_Score')\n",
        "plt.show()\n"
      ],
      "metadata": {
        "id": "UiQ6-2_rDQoH",
        "colab": {
          "base_uri": "https://localhost:8080/",
          "height": 607
        },
        "outputId": "ee434ed3-6973-46fb-ae03-f4cc94f7e45a"
      },
      "execution_count": 9,
      "outputs": [
        {
          "output_type": "display_data",
          "data": {
            "text/plain": [
              "<Figure size 600x600 with 3 Axes>"
            ],
            "image/png": "[encoded data removed]"
          },
          "metadata": {}
        }
      ]
    },
    {
      "cell_type": "code",
      "source": [
        "# 컬럼명, 결측치 확인\n",
        "df.info()"
      ],
      "metadata": {
        "colab": {
          "base_uri": "https://localhost:8080/"
        },
        "id": "gH_qwHrfzV7N",
        "outputId": "0c22cf42-f17b-4ec7-a28a-a3159f126c78"
      },
      "execution_count": 10,
      "outputs": [
        {
          "output_type": "stream",
          "name": "stdout",
          "text": [
            "<class 'pandas.core.frame.DataFrame'>\n",
            "Index: 4484 entries, 0 to 4999\n",
            "Data columns (total 23 columns):\n",
            " #   Column                      Non-Null Count  Dtype  \n",
            "---  ------                      --------------  -----  \n",
            " 0   Student_ID                  4484 non-null   object \n",
            " 1   First_Name                  4484 non-null   object \n",
            " 2   Last_Name                   4484 non-null   object \n",
            " 3   Email                       4484 non-null   object \n",
            " 4   Gender                      4484 non-null   object \n",
            " 5   Age                         4484 non-null   int64  \n",
            " 6   Department                  4484 non-null   object \n",
            " 7   Attendance                  4484 non-null   float64\n",
            " 8   Midterm_Score               4482 non-null   float64\n",
            " 9   Final_Score                 4481 non-null   float64\n",
            " 10  Assignments_Avg             4018 non-null   float64\n",
            " 11  Quizzes_Avg                 4484 non-null   float64\n",
            " 12  Participation_Score         4484 non-null   float64\n",
            " 13  Projects_Score              4484 non-null   float64\n",
            " 14  Total_Score                 4484 non-null   float64\n",
            " 15  Grade                       4484 non-null   object \n",
            " 16  Study_Hours_per_Week        4484 non-null   float64\n",
            " 17  Extracurricular_Activities  4484 non-null   object \n",
            " 18  Internet_Access_at_Home     4484 non-null   object \n",
            " 19  Parent_Education_Level      2863 non-null   object \n",
            " 20  Family_Income_Level         4484 non-null   object \n",
            " 21  Stress_Level (1-10)         4484 non-null   int64  \n",
            " 22  Sleep_Hours_per_Night       4484 non-null   float64\n",
            "dtypes: float64(10), int64(2), object(11)\n",
            "memory usage: 840.8+ KB\n"
          ]
        }
      ]
    },
    {
      "cell_type": "markdown",
      "source": [
        "#6. Attendance(출석율)이 100(%)를 초과한 이상치를 제거하고, 이메일(Email) 컬럼을 삭제한 후 새로운 데이터프레임을 df_temp에 저장하세요.\n",
        "- 대상 데이터프레임 : df\n",
        "- jointplot 그래프를 보고 Attendance(출석율)이 100을 초과한 이상치를 해당 행(Row)을 삭제하세요.\n",
        "- 불필요한 이메일(Email) 컬럼은 삭제하세요.\n",
        "- 전처리 반영 후에 새로운 데이터프레임 변수명 df_temp에 저장하세요.\n",
        "\n",
        "\n"
      ],
      "metadata": {
        "id": "1M9HBJqkDT2D"
      }
    },
    {
      "cell_type": "code",
      "source": [
        "# 여기에 답안코드를 작성하세요.\n",
        "df = df[df['Attendance'] <= 100]\n",
        "df = df.drop(columns=['Email'])\n",
        "df_temp = df.copy()\n"
      ],
      "metadata": {
        "id": "3F6vT4GgDSAH"
      },
      "execution_count": 11,
      "outputs": []
    },
    {
      "cell_type": "code",
      "source": [
        "# 이상치 제거 확인\n",
        "sns.jointplot(data=df_temp, x='Attendance', y='Total_Score')\n",
        "plt.show()"
      ],
      "metadata": {
        "colab": {
          "base_uri": "https://localhost:8080/",
          "height": 607
        },
        "id": "wQYxEvoN0qkL",
        "outputId": "ab042ce7-b11f-4a10-e73e-0c94c9a3c7a9"
      },
      "execution_count": 12,
      "outputs": [
        {
          "output_type": "display_data",
          "data": {
            "text/plain": [
              "<Figure size 600x600 with 3 Axes>"
            ],
            "image/png": "[encoded data removed]"
          },
          "metadata": {}
        }
      ]
    },
    {
      "cell_type": "markdown",
      "source": [
        "#7.모델링 성능을 제대로 얻기 위해서 결측치 처리는 필수입니다.\n",
        "##아래 가이드를 따라 결측치 처리하세요.\n",
        "- 대상 데이터프레임 : df_temp\n",
        "- 결측치를 확인하는 코드를 작성하세요.\n",
        "- 결측치가 너무 많은 'Parent_Education_Level' 컬럼은 제거 합니다.\n",
        "- 결측치가 있는 행(raw)을 삭제하세요.\n",
        "- 전처리 반영된 결과를 새로운 데이터프레임 변수명 df_na에 저장하세요.\n",
        "- Midterm_Score(중간고사 점수)와 Final_Score(기말고사 점수) 컬럼의 결측치 개수를 더해서 '답안07' 변수에 저장하세요. (예. 답안07 = 14)"
      ],
      "metadata": {
        "id": "EMRGUmjZDpvY"
      }
    },
    {
      "cell_type": "code",
      "source": [
        "# 결측치 제거 이전\n",
        "df_temp.isnull().sum()"
      ],
      "metadata": {
        "colab": {
          "base_uri": "https://localhost:8080/",
          "height": 774
        },
        "id": "-eQDMVpg04zM",
        "outputId": "977f5889-67c3-4143-8a9a-18c2b0341122"
      },
      "execution_count": 13,
      "outputs": [
        {
          "output_type": "execute_result",
          "data": {
            "text/plain": [
              "Student_ID                       0\n",
              "First_Name                       0\n",
              "Last_Name                        0\n",
              "Gender                           0\n",
              "Age                              0\n",
              "Department                       0\n",
              "Attendance                       0\n",
              "Midterm_Score                    2\n",
              "Final_Score                      3\n",
              "Assignments_Avg                466\n",
              "Quizzes_Avg                      0\n",
              "Participation_Score              0\n",
              "Projects_Score                   0\n",
              "Total_Score                      0\n",
              "Grade                            0\n",
              "Study_Hours_per_Week             0\n",
              "Extracurricular_Activities       0\n",
              "Internet_Access_at_Home          0\n",
              "Parent_Education_Level        1621\n",
              "Family_Income_Level              0\n",
              "Stress_Level (1-10)              0\n",
              "Sleep_Hours_per_Night            0\n",
              "dtype: int64"
            ],
            "text/html": [
              "<div>\n",
              "<style scoped>\n",
              "    .dataframe tbody tr th:only-of-type {\n",
              "        vertical-align: middle;\n",
              "    }\n",
              "\n",
              "    .dataframe tbody tr th {\n",
              "        vertical-align: top;\n",
              "    }\n",
              "\n",
              "    .dataframe thead th {\n",
              "        text-align: right;\n",
              "    }\n",
              "</style>\n",
              "<table border=\"1\" class=\"dataframe\">\n",
              "  <thead>\n",
              "    <tr style=\"text-align: right;\">\n",
              "      <th></th>\n",
              "      <th>0</th>\n",
              "    </tr>\n",
              "  </thead>\n",
              "  <tbody>\n",
              "    <tr>\n",
              "      <th>Student_ID</th>\n",
              "      <td>0</td>\n",
              "    </tr>\n",
              "    <tr>\n",
              "      <th>First_Name</th>\n",
              "      <td>0</td>\n",
              "    </tr>\n",
              "    <tr>\n",
              "      <th>Last_Name</th>\n",
              "      <td>0</td>\n",
              "    </tr>\n",
              "    <tr>\n",
              "      <th>Gender</th>\n",
              "      <td>0</td>\n",
              "    </tr>\n",
              "    <tr>\n",
              "      <th>Age</th>\n",
              "      <td>0</td>\n",
              "    </tr>\n",
              "    <tr>\n",
              "      <th>Department</th>\n",
              "      <td>0</td>\n",
              "    </tr>\n",
              "    <tr>\n",
              "      <th>Attendance</th>\n",
              "      <td>0</td>\n",
              "    </tr>\n",
              "    <tr>\n",
              "      <th>Midterm_Score</th>\n",
              "      <td>2</td>\n",
              "    </tr>\n",
              "    <tr>\n",
              "      <th>Final_Score</th>\n",
              "      <td>3</td>\n",
              "    </tr>\n",
              "    <tr>\n",
              "      <th>Assignments_Avg</th>\n",
              "      <td>466</td>\n",
              "    </tr>\n",
              "    <tr>\n",
              "      <th>Quizzes_Avg</th>\n",
              "      <td>0</td>\n",
              "    </tr>\n",
              "    <tr>\n",
              "      <th>Participation_Score</th>\n",
              "      <td>0</td>\n",
              "    </tr>\n",
              "    <tr>\n",
              "      <th>Projects_Score</th>\n",
              "      <td>0</td>\n",
              "    </tr>\n",
              "    <tr>\n",
              "      <th>Total_Score</th>\n",
              "      <td>0</td>\n",
              "    </tr>\n",
              "    <tr>\n",
              "      <th>Grade</th>\n",
              "      <td>0</td>\n",
              "    </tr>\n",
              "    <tr>\n",
              "      <th>Study_Hours_per_Week</th>\n",
              "      <td>0</td>\n",
              "    </tr>\n",
              "    <tr>\n",
              "      <th>Extracurricular_Activities</th>\n",
              "      <td>0</td>\n",
              "    </tr>\n",
              "    <tr>\n",
              "      <th>Internet_Access_at_Home</th>\n",
              "      <td>0</td>\n",
              "    </tr>\n",
              "    <tr>\n",
              "      <th>Parent_Education_Level</th>\n",
              "      <td>1621</td>\n",
              "    </tr>\n",
              "    <tr>\n",
              "      <th>Family_Income_Level</th>\n",
              "      <td>0</td>\n",
              "    </tr>\n",
              "    <tr>\n",
              "      <th>Stress_Level (1-10)</th>\n",
              "      <td>0</td>\n",
              "    </tr>\n",
              "    <tr>\n",
              "      <th>Sleep_Hours_per_Night</th>\n",
              "      <td>0</td>\n",
              "    </tr>\n",
              "  </tbody>\n",
              "</table>\n",
              "</div><br><label><b>dtype:</b> int64</label>"
            ]
          },
          "metadata": {},
          "execution_count": 13
        }
      ]
    },
    {
      "cell_type": "code",
      "source": [
        "# 여기에 답안코드를 작성하세요.\n",
        "df_temp.isnull().sum()\n",
        "df_temp = df_temp.drop('Parent_Education_Level', axis=1)\n",
        "df_temp = df_temp.dropna()\n",
        "df_na = df_temp.copy()\n",
        "\n",
        "# Midterm_Score 2개, Final_Score 3개 / 2+3 = 5\n",
        "답안07 = 5"
      ],
      "metadata": {
        "id": "CrxkzeGeD5_P"
      },
      "execution_count": 14,
      "outputs": []
    },
    {
      "cell_type": "code",
      "source": [
        "# 결측치 제거 이후\n",
        "df_na.info()"
      ],
      "metadata": {
        "colab": {
          "base_uri": "https://localhost:8080/"
        },
        "id": "9qCWCVLV1QiK",
        "outputId": "798a732b-f42e-469c-a85b-415320929ac2"
      },
      "execution_count": 15,
      "outputs": [
        {
          "output_type": "stream",
          "name": "stdout",
          "text": [
            "<class 'pandas.core.frame.DataFrame'>\n",
            "Index: 4011 entries, 0 to 4999\n",
            "Data columns (total 21 columns):\n",
            " #   Column                      Non-Null Count  Dtype  \n",
            "---  ------                      --------------  -----  \n",
            " 0   Student_ID                  4011 non-null   object \n",
            " 1   First_Name                  4011 non-null   object \n",
            " 2   Last_Name                   4011 non-null   object \n",
            " 3   Gender                      4011 non-null   object \n",
            " 4   Age                         4011 non-null   int64  \n",
            " 5   Department                  4011 non-null   object \n",
            " 6   Attendance                  4011 non-null   float64\n",
            " 7   Midterm_Score               4011 non-null   float64\n",
            " 8   Final_Score                 4011 non-null   float64\n",
            " 9   Assignments_Avg             4011 non-null   float64\n",
            " 10  Quizzes_Avg                 4011 non-null   float64\n",
            " 11  Participation_Score         4011 non-null   float64\n",
            " 12  Projects_Score              4011 non-null   float64\n",
            " 13  Total_Score                 4011 non-null   float64\n",
            " 14  Grade                       4011 non-null   object \n",
            " 15  Study_Hours_per_Week        4011 non-null   float64\n",
            " 16  Extracurricular_Activities  4011 non-null   object \n",
            " 17  Internet_Access_at_Home     4011 non-null   object \n",
            " 18  Family_Income_Level         4011 non-null   object \n",
            " 19  Stress_Level (1-10)         4011 non-null   int64  \n",
            " 20  Sleep_Hours_per_Night       4011 non-null   float64\n",
            "dtypes: float64(10), int64(2), object(9)\n",
            "memory usage: 689.4+ KB\n"
          ]
        }
      ]
    },
    {
      "cell_type": "markdown",
      "source": [
        "#8.모델링 성능을 제대로 얻기 위해서 불필요한 변수는 삭제해야 합니다.\n",
        "##아래 가이드를 따라 불필요 데이터를 삭제 처리하세요.\n",
        "- 대상 데이터프레임 : df_na\n",
        "- 이번 분석에서는 불필요한 'Student_ID', 'First_Name', 'Last_Name', 컬럼을 삭제하세요.\n",
        "- 다중공선성을 방지하기 위해 'Total_Score' 컬럼도 삭제하세요.\n",
        "- 전처리 반영된 결과를 새로운 데이터프레임 변수명 df_del에 저장하세요."
      ],
      "metadata": {
        "id": "1VTDVlYiD7qW"
      }
    },
    {
      "cell_type": "code",
      "source": [
        "# 여기에 답안코드를 작성하세요.\n",
        "df_na = df_na.drop(['Student_ID', 'First_Name', 'Last_Name'], axis=1)\n",
        "df_na = df_na.drop('Total_Score', axis=1)\n",
        "df_del = df_na.copy()\n"
      ],
      "metadata": {
        "id": "--ONGD6PEM1i"
      },
      "execution_count": 16,
      "outputs": []
    },
    {
      "cell_type": "markdown",
      "source": [
        "#9.원-핫 인코딩(One-hot encoding)은 범주형 변수를 1과 0의 이진형 벡터로 변환하귀 위하여 사용하는 방법입니다.\n",
        "##원-핫 인코딩으로 아래 조건에 해당하는 컬럼 데이터를 변환하세요.\n",
        "- 대상 데이터프레임 : df_del\n",
        "- 원-핫 인코딩 대상 : Grade 컬럼을 제외한 object 타입의 컬럼 : 'Gender', 'Department', 'Extracurricular_Activities', 'Internet_Access_at_Home', 'Family_Income_Level'\n",
        "- 활용 함수 : Pandas의 get_dummies를 사용하며, drop_frist=True로 설정 하세요.\n",
        "- 해당 전처리가 반영된 결과를 데이터프레임 변수 df_preset에 저장해 주세요."
      ],
      "metadata": {
        "id": "enRCcgrgEPay"
      }
    },
    {
      "cell_type": "code",
      "source": [
        "# 데이터 타입 확인\n",
        "df_del.info()"
      ],
      "metadata": {
        "colab": {
          "base_uri": "https://localhost:8080/"
        },
        "id": "35VcifzX2diC",
        "outputId": "138b6b0f-b822-465d-e33f-31dfcc19d5cf"
      },
      "execution_count": 17,
      "outputs": [
        {
          "output_type": "stream",
          "name": "stdout",
          "text": [
            "<class 'pandas.core.frame.DataFrame'>\n",
            "Index: 4011 entries, 0 to 4999\n",
            "Data columns (total 17 columns):\n",
            " #   Column                      Non-Null Count  Dtype  \n",
            "---  ------                      --------------  -----  \n",
            " 0   Gender                      4011 non-null   object \n",
            " 1   Age                         4011 non-null   int64  \n",
            " 2   Department                  4011 non-null   object \n",
            " 3   Attendance                  4011 non-null   float64\n",
            " 4   Midterm_Score               4011 non-null   float64\n",
            " 5   Final_Score                 4011 non-null   float64\n",
            " 6   Assignments_Avg             4011 non-null   float64\n",
            " 7   Quizzes_Avg                 4011 non-null   float64\n",
            " 8   Participation_Score         4011 non-null   float64\n",
            " 9   Projects_Score              4011 non-null   float64\n",
            " 10  Grade                       4011 non-null   object \n",
            " 11  Study_Hours_per_Week        4011 non-null   float64\n",
            " 12  Extracurricular_Activities  4011 non-null   object \n",
            " 13  Internet_Access_at_Home     4011 non-null   object \n",
            " 14  Family_Income_Level         4011 non-null   object \n",
            " 15  Stress_Level (1-10)         4011 non-null   int64  \n",
            " 16  Sleep_Hours_per_Night       4011 non-null   float64\n",
            "dtypes: float64(9), int64(2), object(6)\n",
            "memory usage: 564.0+ KB\n"
          ]
        }
      ]
    },
    {
      "cell_type": "code",
      "source": [
        "# 여기에 답안코드를 작성하세요.\n",
        "obj_cols = ['Gender', 'Department', 'Extracurricular_Activities', 'Internet_Access_at_Home', 'Family_Income_Level']\n",
        "df_del = pd.get_dummies(data=df_del, columns=obj_cols, drop_first=True)\n",
        "df_preset = df_del.copy()"
      ],
      "metadata": {
        "id": "wLjm0MCzEj7Q"
      },
      "execution_count": 18,
      "outputs": []
    },
    {
      "cell_type": "code",
      "source": [
        "# 원핫 인코딩 확인\n",
        "df_preset.info()"
      ],
      "metadata": {
        "colab": {
          "base_uri": "https://localhost:8080/"
        },
        "id": "VQ2SHb-b2_AK",
        "outputId": "129de762-c1ef-4351-deb4-5fc6631e50d7"
      },
      "execution_count": 19,
      "outputs": [
        {
          "output_type": "stream",
          "name": "stdout",
          "text": [
            "<class 'pandas.core.frame.DataFrame'>\n",
            "Index: 4011 entries, 0 to 4999\n",
            "Data columns (total 20 columns):\n",
            " #   Column                          Non-Null Count  Dtype  \n",
            "---  ------                          --------------  -----  \n",
            " 0   Age                             4011 non-null   int64  \n",
            " 1   Attendance                      4011 non-null   float64\n",
            " 2   Midterm_Score                   4011 non-null   float64\n",
            " 3   Final_Score                     4011 non-null   float64\n",
            " 4   Assignments_Avg                 4011 non-null   float64\n",
            " 5   Quizzes_Avg                     4011 non-null   float64\n",
            " 6   Participation_Score             4011 non-null   float64\n",
            " 7   Projects_Score                  4011 non-null   float64\n",
            " 8   Grade                           4011 non-null   object \n",
            " 9   Study_Hours_per_Week            4011 non-null   float64\n",
            " 10  Stress_Level (1-10)             4011 non-null   int64  \n",
            " 11  Sleep_Hours_per_Night           4011 non-null   float64\n",
            " 12  Gender_Male                     4011 non-null   bool   \n",
            " 13  Department_CS                   4011 non-null   bool   \n",
            " 14  Department_Engineering          4011 non-null   bool   \n",
            " 15  Department_Mathematics          4011 non-null   bool   \n",
            " 16  Extracurricular_Activities_Yes  4011 non-null   bool   \n",
            " 17  Internet_Access_at_Home_Yes     4011 non-null   bool   \n",
            " 18  Family_Income_Level_Low         4011 non-null   bool   \n",
            " 19  Family_Income_Level_Medium      4011 non-null   bool   \n",
            "dtypes: bool(8), float64(9), int64(2), object(1)\n",
            "memory usage: 438.7+ KB\n"
          ]
        }
      ]
    },
    {
      "cell_type": "markdown",
      "source": [
        "#10.훈련과 검증 각각에 사용할 데이터셋을 분리하려고 합니다.\n",
        "##Grade(성적 등급)컬럼을 label값 y로, 나머지 컬럼을 feature값 x로 할당한 후 훈련 데이터셋과 검증 데이터셋으로 분리하세요.\n",
        "##추가로, 가이드에 따라서 훈련 데이터셋과 검증 데이터셋에 스케일링을 수행하세요.\n",
        "- 대상 데이터프레임 : df_preset\n",
        "- target값인 Grade를 라벨 인코딩이나 map을 사용하여 범주형 -> 수치형을 변환하세요.\n",
        "- 훈련과 검증 데이터셋 분리\n",
        "-- 훈련 데이터셋 Label : y_train, 훈련 데이터셋 Feature : x_train\n",
        "-- 검증 데이터셋 Label : y_valid, 검증 데이터셋 Feature : x_valid\n",
        "-- 훈련 데이터셋과 검증 데이터셋 비율은 80:20\n",
        "-- random_state : 2221\n",
        "-- 훈련과 검증 데이터셋의 Label 비율이 동일하도록 설정하세요.\n",
        "-- Scikit_learn train_test_split 함수를 활용하세요.\n",
        "- StandardScaler 스케일링 수행\n",
        "-- sklearn.preprocessing의 StandardScaler 함수 사용\n",
        "-- 훈련 데이터셋의 Feature는 StandardScaler의 fit_transfom 함수를 활용하여 x_train 변수로 할당\n",
        "-- 검증 데이터셋의 Feature는 StandardScaler의 transform 함수를 활용하여 x_valid 변수로 할당"
      ],
      "metadata": {
        "id": "SVAuQPjcEk1x"
      }
    },
    {
      "cell_type": "code",
      "source": [
        "# target값 확인 / 다중 분류 모델\n",
        "df_preset['Grade'].value_counts()"
      ],
      "metadata": {
        "colab": {
          "base_uri": "https://localhost:8080/",
          "height": 272
        },
        "id": "6BmLsYVx4sJz",
        "outputId": "e8b45c74-82da-4754-f3ec-cb83684ae4c7"
      },
      "execution_count": 20,
      "outputs": [
        {
          "output_type": "execute_result",
          "data": {
            "text/plain": [
              "Grade\n",
              "A    1248\n",
              "B     781\n",
              "D     707\n",
              "F     642\n",
              "C     633\n",
              "Name: count, dtype: int64"
            ],
            "text/html": [
              "<div>\n",
              "<style scoped>\n",
              "    .dataframe tbody tr th:only-of-type {\n",
              "        vertical-align: middle;\n",
              "    }\n",
              "\n",
              "    .dataframe tbody tr th {\n",
              "        vertical-align: top;\n",
              "    }\n",
              "\n",
              "    .dataframe thead th {\n",
              "        text-align: right;\n",
              "    }\n",
              "</style>\n",
              "<table border=\"1\" class=\"dataframe\">\n",
              "  <thead>\n",
              "    <tr style=\"text-align: right;\">\n",
              "      <th></th>\n",
              "      <th>count</th>\n",
              "    </tr>\n",
              "    <tr>\n",
              "      <th>Grade</th>\n",
              "      <th></th>\n",
              "    </tr>\n",
              "  </thead>\n",
              "  <tbody>\n",
              "    <tr>\n",
              "      <th>A</th>\n",
              "      <td>1248</td>\n",
              "    </tr>\n",
              "    <tr>\n",
              "      <th>B</th>\n",
              "      <td>781</td>\n",
              "    </tr>\n",
              "    <tr>\n",
              "      <th>D</th>\n",
              "      <td>707</td>\n",
              "    </tr>\n",
              "    <tr>\n",
              "      <th>F</th>\n",
              "      <td>642</td>\n",
              "    </tr>\n",
              "    <tr>\n",
              "      <th>C</th>\n",
              "      <td>633</td>\n",
              "    </tr>\n",
              "  </tbody>\n",
              "</table>\n",
              "</div><br><label><b>dtype:</b> int64</label>"
            ]
          },
          "metadata": {},
          "execution_count": 20
        }
      ]
    },
    {
      "cell_type": "code",
      "source": [
        "# 여기에 답안코드를 작성하세요.\n",
        "from sklearn.model_selection import train_test_split\n",
        "from sklearn.preprocessing import LabelEncoder\n",
        "\n",
        "features = df_preset.drop('Grade', axis=1)\n",
        "target = df_preset['Grade']\n",
        "\n",
        "label_encoder = LabelEncoder()\n",
        "target_le = label_encoder.fit_transform(target)\n",
        "\n",
        "# map을 사용한 변환 예시 (직접 매핑 지정)\n",
        "#grade_map = {'A': 0, 'B': 1, 'C': 2, 'D': 3, 'E': 4}\n",
        "#target_le = target.map(grade_map)\n",
        "\n",
        "x_train, x_valid, y_train, y_valid = train_test_split(features, target_le, test_size=0.2, random_state=2221, stratify=target_le)\n",
        "print(x_train.shape, x_valid.shape, y_train.shape, y_valid.shape)\n",
        "\n",
        "from sklearn.preprocessing import StandardScaler\n",
        "std = StandardScaler()\n",
        "x_train = std.fit_transform(x_train)\n",
        "x_valid = std.transform(x_valid)\n"
      ],
      "metadata": {
        "id": "mhFizz-VFbSH",
        "colab": {
          "base_uri": "https://localhost:8080/"
        },
        "outputId": "18a0846e-a0c1-4af9-c42a-71188f3a93a4"
      },
      "execution_count": 21,
      "outputs": [
        {
          "output_type": "stream",
          "name": "stdout",
          "text": [
            "(3208, 19) (803, 19) (3208,) (803,)\n"
          ]
        }
      ]
    },
    {
      "cell_type": "code",
      "source": [
        "# 라벨 인코딩 확인\n",
        "print(np.unique(y_train))"
      ],
      "metadata": {
        "colab": {
          "base_uri": "https://localhost:8080/"
        },
        "id": "94CBb3LY5e_6",
        "outputId": "4e3c63c3-26de-45c9-c18b-d3a57629817f"
      },
      "execution_count": 22,
      "outputs": [
        {
          "output_type": "stream",
          "name": "stdout",
          "text": [
            "[0 1 2 3 4]\n"
          ]
        }
      ]
    },
    {
      "cell_type": "markdown",
      "source": [
        "#11.Grade(성적 등급)을 예측하는 머신러닝 모델을 만들려고 합니다.\n",
        "##아래 가이드에 따라 모델을 만들고 학습을 진행하세요.\n",
        "- 결정 트리 (DecisionTree)\n",
        "-- max_depth=5로 설정하여 과적합을 방지합니다.\n",
        "-- 결정 트리 (DecisionTree)모델을 dt 변수에 저장해 주세요.\n",
        "- 랜덤포레스트(RandomForest)\n",
        "-- 나무의 갯수(n_estimators)를 : 150으로 설정\n",
        "-- 노드를 분할하기 위한 최소한의 샘플 데이터수(min_samples_split) : 3으로 설정\n",
        "-- random_state : 776으로 설정\n",
        "-- 랜덤포레스트(RandomForest)모델을 rf 변수에 저장해 주세요.\n",
        "- XGBoost 모델을 만들고 학습을 진행하세요.\n",
        "-- n_estimators=4 설정\n",
        "-- XGBoost 모델을 xgb 변수에 저장해 주세요.\n",
        "- Light GBM 모델을 만들고 학습을 진행하세요.\n",
        "-- n_estimators=6 설정\n",
        "-- Light GBM 모델을 lgbm 변수에 저장해 주세요.\n",
        "- 위의 모델에 대해 fit을 활용해 모델을 학습해 주세요. 학습 시 훈련 데이터셋을 활용해 주세요."
      ],
      "metadata": {
        "id": "XPpqU27SFeII"
      }
    },
    {
      "cell_type": "code",
      "source": [
        "# 여기에 답안코드를 작성하세요.\n",
        "from sklearn.tree import DecisionTreeClassifier\n",
        "from sklearn.ensemble import RandomForestClassifier\n",
        "from xgboost import XGBClassifier\n",
        "from lightgbm import LGBMClassifier\n",
        "\n",
        "dt = DecisionTreeClassifier(max_depth=5)\n",
        "rf = RandomForestClassifier(n_estimators=150, min_samples_split=3, random_state=776)\n",
        "xgb = XGBClassifier(n_estimators=4)\n",
        "lgbm = LGBMClassifier(n_estimators=6)\n",
        "\n",
        "dt.fit(x_train, y_train)\n",
        "rf.fit(x_train, y_train)\n",
        "xgb.fit(x_train, y_train)\n",
        "lgbm.fit(x_train, y_train)"
      ],
      "metadata": {
        "id": "dBmJGkGAGVda",
        "colab": {
          "base_uri": "https://localhost:8080/",
          "height": 301
        },
        "outputId": "313037f4-ec86-4468-ac80-40bfb7a38fee"
      },
      "execution_count": 23,
      "outputs": [
        {
          "output_type": "stream",
          "name": "stdout",
          "text": [
            "[LightGBM] [Info] Auto-choosing row-wise multi-threading, the overhead of testing was 0.006355 seconds.\n",
            "You can set `force_row_wise=true` to remove the overhead.\n",
            "And if memory is not enough, you can set `force_col_wise=true`.\n",
            "[LightGBM] [Info] Total Bins 2132\n",
            "[LightGBM] [Info] Number of data points in the train set: 3208, number of used features: 19\n",
            "[LightGBM] [Info] Start training from score -1.167650\n",
            "[LightGBM] [Info] Start training from score -1.635651\n",
            "[LightGBM] [Info] Start training from score -1.846866\n",
            "[LightGBM] [Info] Start training from score -1.736577\n",
            "[LightGBM] [Info] Start training from score -1.831180\n"
          ]
        },
        {
          "output_type": "stream",
          "name": "stderr",
          "text": [
            "/usr/local/lib/python3.11/dist-packages/sklearn/utils/deprecation.py:151: FutureWarning: 'force_all_finite' was renamed to 'ensure_all_finite' in 1.6 and will be removed in 1.8.\n",
            "  warnings.warn(\n"
          ]
        },
        {
          "output_type": "execute_result",
          "data": {
            "text/plain": [
              "LGBMClassifier(n_estimators=6)"
            ],
            "text/html": [
              "<style>#sk-container-id-1 {\n",
              "  /* Definition of color scheme common for light and dark mode */\n",
              "  --sklearn-color-text: #000;\n",
              "  --sklearn-color-text-muted: #666;\n",
              "  --sklearn-color-line: gray;\n",
              "  /* Definition of color scheme for unfitted estimators */\n",
              "  --sklearn-color-unfitted-level-0: #fff5e6;\n",
              "  --sklearn-color-unfitted-level-1: #f6e4d2;\n",
              "  --sklearn-color-unfitted-level-2: #ffe0b3;\n",
              "  --sklearn-color-unfitted-level-3: chocolate;\n",
              "  /* Definition of color scheme for fitted estimators */\n",
              "  --sklearn-color-fitted-level-0: #f0f8ff;\n",
              "  --sklearn-color-fitted-level-1: #d4ebff;\n",
              "  --sklearn-color-fitted-level-2: #b3dbfd;\n",
              "  --sklearn-color-fitted-level-3: cornflowerblue;\n",
              "\n",
              "  /* Specific color for light theme */\n",
              "  --sklearn-color-text-on-default-background: var(--sg-text-color, var(--theme-code-foreground, var(--jp-content-font-color1, black)));\n",
              "  --sklearn-color-background: var(--sg-background-color, var(--theme-background, var(--jp-layout-color0, white)));\n",
              "  --sklearn-color-border-box: var(--sg-text-color, var(--theme-code-foreground, var(--jp-content-font-color1, black)));\n",
              "  --sklearn-color-icon: #696969;\n",
              "\n",
              "  @media (prefers-color-scheme: dark) {\n",
              "    /* Redefinition of color scheme for dark theme */\n",
              "    --sklearn-color-text-on-default-background: var(--sg-text-color, var(--theme-code-foreground, var(--jp-content-font-color1, white)));\n",
              "    --sklearn-color-background: var(--sg-background-color, var(--theme-background, var(--jp-layout-color0, #111)));\n",
              "    --sklearn-color-border-box: var(--sg-text-color, var(--theme-code-foreground, var(--jp-content-font-color1, white)));\n",
              "    --sklearn-color-icon: #878787;\n",
              "  }\n",
              "}\n",
              "\n",
              "#sk-container-id-1 {\n",
              "  color: var(--sklearn-color-text);\n",
              "}\n",
              "\n",
              "#sk-container-id-1 pre {\n",
              "  padding: 0;\n",
              "}\n",
              "\n",
              "#sk-container-id-1 input.sk-hidden--visually {\n",
              "  border: 0;\n",
              "  clip: rect(1px 1px 1px 1px);\n",
              "  clip: rect(1px, 1px, 1px, 1px);\n",
              "  height: 1px;\n",
              "  margin: -1px;\n",
              "  overflow: hidden;\n",
              "  padding: 0;\n",
              "  position: absolute;\n",
              "  width: 1px;\n",
              "}\n",
              "\n",
              "#sk-container-id-1 div.sk-dashed-wrapped {\n",
              "  border: 1px dashed var(--sklearn-color-line);\n",
              "  margin: 0 0.4em 0.5em 0.4em;\n",
              "  box-sizing: border-box;\n",
              "  padding-bottom: 0.4em;\n",
              "  background-color: var(--sklearn-color-background);\n",
              "}\n",
              "\n",
              "#sk-container-id-1 div.sk-container {\n",
              "  /* jupyter's `normalize.less` sets `[hidden] { display: none; }`\n",
              "     but bootstrap.min.css set `[hidden] { display: none !important; }`\n",
              "     so we also need the `!important` here to be able to override the\n",
              "     default hidden behavior on the sphinx rendered scikit-learn.org.\n",
              "     See: https://github.com/scikit-learn/scikit-learn/issues/21755 */\n",
              "  display: inline-block !important;\n",
              "  position: relative;\n",
              "}\n",
              "\n",
              "#sk-container-id-1 div.sk-text-repr-fallback {\n",
              "  display: none;\n",
              "}\n",
              "\n",
              "div.sk-parallel-item,\n",
              "div.sk-serial,\n",
              "div.sk-item {\n",
              "  /* draw centered vertical line to link estimators */\n",
              "  background-image: linear-gradient(var(--sklearn-color-text-on-default-background), var(--sklearn-color-text-on-default-background));\n",
              "  background-size: 2px 100%;\n",
              "  background-repeat: no-repeat;\n",
              "  background-position: center center;\n",
              "}\n",
              "\n",
              "/* Parallel-specific style estimator block */\n",
              "\n",
              "#sk-container-id-1 div.sk-parallel-item::after {\n",
              "  content: \"\";\n",
              "  width: 100%;\n",
              "  border-bottom: 2px solid var(--sklearn-color-text-on-default-background);\n",
              "  flex-grow: 1;\n",
              "}\n",
              "\n",
              "#sk-container-id-1 div.sk-parallel {\n",
              "  display: flex;\n",
              "  align-items: stretch;\n",
              "  justify-content: center;\n",
              "  background-color: var(--sklearn-color-background);\n",
              "  position: relative;\n",
              "}\n",
              "\n",
              "#sk-container-id-1 div.sk-parallel-item {\n",
              "  display: flex;\n",
              "  flex-direction: column;\n",
              "}\n",
              "\n",
              "#sk-container-id-1 div.sk-parallel-item:first-child::after {\n",
              "  align-self: flex-end;\n",
              "  width: 50%;\n",
              "}\n",
              "\n",
              "#sk-container-id-1 div.sk-parallel-item:last-child::after {\n",
              "  align-self: flex-start;\n",
              "  width: 50%;\n",
              "}\n",
              "\n",
              "#sk-container-id-1 div.sk-parallel-item:only-child::after {\n",
              "  width: 0;\n",
              "}\n",
              "\n",
              "/* Serial-specific style estimator block */\n",
              "\n",
              "#sk-container-id-1 div.sk-serial {\n",
              "  display: flex;\n",
              "  flex-direction: column;\n",
              "  align-items: center;\n",
              "  background-color: var(--sklearn-color-background);\n",
              "  padding-right: 1em;\n",
              "  padding-left: 1em;\n",
              "}\n",
              "\n",
              "\n",
              "/* Toggleable style: style used for estimator/Pipeline/ColumnTransformer box that is\n",
              "clickable and can be expanded/collapsed.\n",
              "- Pipeline and ColumnTransformer use this feature and define the default style\n",
              "- Estimators will overwrite some part of the style using the `sk-estimator` class\n",
              "*/\n",
              "\n",
              "/* Pipeline and ColumnTransformer style (default) */\n",
              "\n",
              "#sk-container-id-1 div.sk-toggleable {\n",
              "  /* Default theme specific background. It is overwritten whether we have a\n",
              "  specific estimator or a Pipeline/ColumnTransformer */\n",
              "  background-color: var(--sklearn-color-background);\n",
              "}\n",
              "\n",
              "/* Toggleable label */\n",
              "#sk-container-id-1 label.sk-toggleable__label {\n",
              "  cursor: pointer;\n",
              "  display: flex;\n",
              "  width: 100%;\n",
              "  margin-bottom: 0;\n",
              "  padding: 0.5em;\n",
              "  box-sizing: border-box;\n",
              "  text-align: center;\n",
              "  align-items: start;\n",
              "  justify-content: space-between;\n",
              "  gap: 0.5em;\n",
              "}\n",
              "\n",
              "#sk-container-id-1 label.sk-toggleable__label .caption {\n",
              "  font-size: 0.6rem;\n",
              "  font-weight: lighter;\n",
              "  color: var(--sklearn-color-text-muted);\n",
              "}\n",
              "\n",
              "#sk-container-id-1 label.sk-toggleable__label-arrow:before {\n",
              "  /* Arrow on the left of the label */\n",
              "  content: \"▸\";\n",
              "  float: left;\n",
              "  margin-right: 0.25em;\n",
              "  color: var(--sklearn-color-icon);\n",
              "}\n",
              "\n",
              "#sk-container-id-1 label.sk-toggleable__label-arrow:hover:before {\n",
              "  color: var(--sklearn-color-text);\n",
              "}\n",
              "\n",
              "/* Toggleable content - dropdown */\n",
              "\n",
              "#sk-container-id-1 div.sk-toggleable__content {\n",
              "  max-height: 0;\n",
              "  max-width: 0;\n",
              "  overflow: hidden;\n",
              "  text-align: left;\n",
              "  /* unfitted */\n",
              "  background-color: var(--sklearn-color-unfitted-level-0);\n",
              "}\n",
              "\n",
              "#sk-container-id-1 div.sk-toggleable__content.fitted {\n",
              "  /* fitted */\n",
              "  background-color: var(--sklearn-color-fitted-level-0);\n",
              "}\n",
              "\n",
              "#sk-container-id-1 div.sk-toggleable__content pre {\n",
              "  margin: 0.2em;\n",
              "  border-radius: 0.25em;\n",
              "  color: var(--sklearn-color-text);\n",
              "  /* unfitted */\n",
              "  background-color: var(--sklearn-color-unfitted-level-0);\n",
              "}\n",
              "\n",
              "#sk-container-id-1 div.sk-toggleable__content.fitted pre {\n",
              "  /* unfitted */\n",
              "  background-color: var(--sklearn-color-fitted-level-0);\n",
              "}\n",
              "\n",
              "#sk-container-id-1 input.sk-toggleable__control:checked~div.sk-toggleable__content {\n",
              "  /* Expand drop-down */\n",
              "  max-height: 200px;\n",
              "  max-width: 100%;\n",
              "  overflow: auto;\n",
              "}\n",
              "\n",
              "#sk-container-id-1 input.sk-toggleable__control:checked~label.sk-toggleable__label-arrow:before {\n",
              "  content: \"▾\";\n",
              "}\n",
              "\n",
              "/* Pipeline/ColumnTransformer-specific style */\n",
              "\n",
              "#sk-container-id-1 div.sk-label input.sk-toggleable__control:checked~label.sk-toggleable__label {\n",
              "  color: var(--sklearn-color-text);\n",
              "  background-color: var(--sklearn-color-unfitted-level-2);\n",
              "}\n",
              "\n",
              "#sk-container-id-1 div.sk-label.fitted input.sk-toggleable__control:checked~label.sk-toggleable__label {\n",
              "  background-color: var(--sklearn-color-fitted-level-2);\n",
              "}\n",
              "\n",
              "/* Estimator-specific style */\n",
              "\n",
              "/* Colorize estimator box */\n",
              "#sk-container-id-1 div.sk-estimator input.sk-toggleable__control:checked~label.sk-toggleable__label {\n",
              "  /* unfitted */\n",
              "  background-color: var(--sklearn-color-unfitted-level-2);\n",
              "}\n",
              "\n",
              "#sk-container-id-1 div.sk-estimator.fitted input.sk-toggleable__control:checked~label.sk-toggleable__label {\n",
              "  /* fitted */\n",
              "  background-color: var(--sklearn-color-fitted-level-2);\n",
              "}\n",
              "\n",
              "#sk-container-id-1 div.sk-label label.sk-toggleable__label,\n",
              "#sk-container-id-1 div.sk-label label {\n",
              "  /* The background is the default theme color */\n",
              "  color: var(--sklearn-color-text-on-default-background);\n",
              "}\n",
              "\n",
              "/* On hover, darken the color of the background */\n",
              "#sk-container-id-1 div.sk-label:hover label.sk-toggleable__label {\n",
              "  color: var(--sklearn-color-text);\n",
              "  background-color: var(--sklearn-color-unfitted-level-2);\n",
              "}\n",
              "\n",
              "/* Label box, darken color on hover, fitted */\n",
              "#sk-container-id-1 div.sk-label.fitted:hover label.sk-toggleable__label.fitted {\n",
              "  color: var(--sklearn-color-text);\n",
              "  background-color: var(--sklearn-color-fitted-level-2);\n",
              "}\n",
              "\n",
              "/* Estimator label */\n",
              "\n",
              "#sk-container-id-1 div.sk-label label {\n",
              "  font-family: monospace;\n",
              "  font-weight: bold;\n",
              "  display: inline-block;\n",
              "  line-height: 1.2em;\n",
              "}\n",
              "\n",
              "#sk-container-id-1 div.sk-label-container {\n",
              "  text-align: center;\n",
              "}\n",
              "\n",
              "/* Estimator-specific */\n",
              "#sk-container-id-1 div.sk-estimator {\n",
              "  font-family: monospace;\n",
              "  border: 1px dotted var(--sklearn-color-border-box);\n",
              "  border-radius: 0.25em;\n",
              "  box-sizing: border-box;\n",
              "  margin-bottom: 0.5em;\n",
              "  /* unfitted */\n",
              "  background-color: var(--sklearn-color-unfitted-level-0);\n",
              "}\n",
              "\n",
              "#sk-container-id-1 div.sk-estimator.fitted {\n",
              "  /* fitted */\n",
              "  background-color: var(--sklearn-color-fitted-level-0);\n",
              "}\n",
              "\n",
              "/* on hover */\n",
              "#sk-container-id-1 div.sk-estimator:hover {\n",
              "  /* unfitted */\n",
              "  background-color: var(--sklearn-color-unfitted-level-2);\n",
              "}\n",
              "\n",
              "#sk-container-id-1 div.sk-estimator.fitted:hover {\n",
              "  /* fitted */\n",
              "  background-color: var(--sklearn-color-fitted-level-2);\n",
              "}\n",
              "\n",
              "/* Specification for estimator info (e.g. \"i\" and \"?\") */\n",
              "\n",
              "/* Common style for \"i\" and \"?\" */\n",
              "\n",
              ".sk-estimator-doc-link,\n",
              "a:link.sk-estimator-doc-link,\n",
              "a:visited.sk-estimator-doc-link {\n",
              "  float: right;\n",
              "  font-size: smaller;\n",
              "  line-height: 1em;\n",
              "  font-family: monospace;\n",
              "  background-color: var(--sklearn-color-background);\n",
              "  border-radius: 1em;\n",
              "  height: 1em;\n",
              "  width: 1em;\n",
              "  text-decoration: none !important;\n",
              "  margin-left: 0.5em;\n",
              "  text-align: center;\n",
              "  /* unfitted */\n",
              "  border: var(--sklearn-color-unfitted-level-1) 1pt solid;\n",
              "  color: var(--sklearn-color-unfitted-level-1);\n",
              "}\n",
              "\n",
              ".sk-estimator-doc-link.fitted,\n",
              "a:link.sk-estimator-doc-link.fitted,\n",
              "a:visited.sk-estimator-doc-link.fitted {\n",
              "  /* fitted */\n",
              "  border: var(--sklearn-color-fitted-level-1) 1pt solid;\n",
              "  color: var(--sklearn-color-fitted-level-1);\n",
              "}\n",
              "\n",
              "/* On hover */\n",
              "div.sk-estimator:hover .sk-estimator-doc-link:hover,\n",
              ".sk-estimator-doc-link:hover,\n",
              "div.sk-label-container:hover .sk-estimator-doc-link:hover,\n",
              ".sk-estimator-doc-link:hover {\n",
              "  /* unfitted */\n",
              "  background-color: var(--sklearn-color-unfitted-level-3);\n",
              "  color: var(--sklearn-color-background);\n",
              "  text-decoration: none;\n",
              "}\n",
              "\n",
              "div.sk-estimator.fitted:hover .sk-estimator-doc-link.fitted:hover,\n",
              ".sk-estimator-doc-link.fitted:hover,\n",
              "div.sk-label-container:hover .sk-estimator-doc-link.fitted:hover,\n",
              ".sk-estimator-doc-link.fitted:hover {\n",
              "  /* fitted */\n",
              "  background-color: var(--sklearn-color-fitted-level-3);\n",
              "  color: var(--sklearn-color-background);\n",
              "  text-decoration: none;\n",
              "}\n",
              "\n",
              "/* Span, style for the box shown on hovering the info icon */\n",
              ".sk-estimator-doc-link span {\n",
              "  display: none;\n",
              "  z-index: 9999;\n",
              "  position: relative;\n",
              "  font-weight: normal;\n",
              "  right: .2ex;\n",
              "  padding: .5ex;\n",
              "  margin: .5ex;\n",
              "  width: min-content;\n",
              "  min-width: 20ex;\n",
              "  max-width: 50ex;\n",
              "  color: var(--sklearn-color-text);\n",
              "  box-shadow: 2pt 2pt 4pt #999;\n",
              "  /* unfitted */\n",
              "  background: var(--sklearn-color-unfitted-level-0);\n",
              "  border: .5pt solid var(--sklearn-color-unfitted-level-3);\n",
              "}\n",
              "\n",
              ".sk-estimator-doc-link.fitted span {\n",
              "  /* fitted */\n",
              "  background: var(--sklearn-color-fitted-level-0);\n",
              "  border: var(--sklearn-color-fitted-level-3);\n",
              "}\n",
              "\n",
              ".sk-estimator-doc-link:hover span {\n",
              "  display: block;\n",
              "}\n",
              "\n",
              "/* \"?\"-specific style due to the `<a>` HTML tag */\n",
              "\n",
              "#sk-container-id-1 a.estimator_doc_link {\n",
              "  float: right;\n",
              "  font-size: 1rem;\n",
              "  line-height: 1em;\n",
              "  font-family: monospace;\n",
              "  background-color: var(--sklearn-color-background);\n",
              "  border-radius: 1rem;\n",
              "  height: 1rem;\n",
              "  width: 1rem;\n",
              "  text-decoration: none;\n",
              "  /* unfitted */\n",
              "  color: var(--sklearn-color-unfitted-level-1);\n",
              "  border: var(--sklearn-color-unfitted-level-1) 1pt solid;\n",
              "}\n",
              "\n",
              "#sk-container-id-1 a.estimator_doc_link.fitted {\n",
              "  /* fitted */\n",
              "  border: var(--sklearn-color-fitted-level-1) 1pt solid;\n",
              "  color: var(--sklearn-color-fitted-level-1);\n",
              "}\n",
              "\n",
              "/* On hover */\n",
              "#sk-container-id-1 a.estimator_doc_link:hover {\n",
              "  /* unfitted */\n",
              "  background-color: var(--sklearn-color-unfitted-level-3);\n",
              "  color: var(--sklearn-color-background);\n",
              "  text-decoration: none;\n",
              "}\n",
              "\n",
              "#sk-container-id-1 a.estimator_doc_link.fitted:hover {\n",
              "  /* fitted */\n",
              "  background-color: var(--sklearn-color-fitted-level-3);\n",
              "}\n",
              "</style><div id=\"sk-container-id-1\" class=\"sk-top-container\"><div class=\"sk-text-repr-fallback\"><pre>LGBMClassifier(n_estimators=6)</pre><b>In a Jupyter environment, please rerun this cell to show the HTML representation or trust the notebook. <br />On GitHub, the HTML representation is unable to render, please try loading this page with nbviewer.org.</b></div><div class=\"sk-container\" hidden><div class=\"sk-item\"><div class=\"sk-estimator fitted sk-toggleable\"><input class=\"sk-toggleable__control sk-hidden--visually\" id=\"sk-estimator-id-1\" type=\"checkbox\" checked><label for=\"sk-estimator-id-1\" class=\"sk-toggleable__label fitted sk-toggleable__label-arrow\"><div><div>LGBMClassifier</div></div><div><span class=\"sk-estimator-doc-link fitted\">i<span>Fitted</span></span></div></label><div class=\"sk-toggleable__content fitted\"><pre>LGBMClassifier(n_estimators=6)</pre></div> </div></div></div></div>"
            ]
          },
          "metadata": {},
          "execution_count": 23
        }
      ]
    },
    {
      "cell_type": "markdown",
      "source": [
        "#12.위 모델들의 성능을 평가하려고 합니다.\n",
        "##아래 가이드에 따라 예측 결과의 정확도(accuracy)를 평가하세요.  \n",
        "- 성능 평가는 검증 데이터셋을 활용하세요.\n",
        "- 11번 문제에서 만든 결정 트리(DecisionTree)모델로 y값을 예측(predict)하여 y_pred_dt에 저장하세요.\n",
        "-- 검증 정답(y_valid)과 예측값(y_pred_dt)의 정확도(accuracy_score)를 구하고 dt_acc 변수에 저장하세요.\n",
        "\n",
        "- 11번 문제에서 만든 랜덤포레스트(RandomForest) 모델로 y값을 예측(predict)하여 y_pred_rf에 저장하세요.\n",
        "-- 검증 정답(y_valid)과 예측값(y_pred_rf)의 정확도(accuracy_score)를 구하고 rf_acc 변수에 저장하세요.\n",
        "\n",
        "- 11번 문제에서 만든 XGBoost 모델로 y값을 예측(predict)하여 y_pred_xgb에 저장하세요.\n",
        "-- 검증 정답(y_valid)과 예측값(y_pred_xgb)의 정확도(accuracy_score)를 구하고 xgb_acc 변수에 저장하세요.\n",
        "\n",
        "- 11번 문제에서 만든 Light GBM 모델로 y값을 예측(predict)하여 y_pred_lgbm에 저장하세요.\n",
        "-- 검증 정답(y_valid)과 예측값(y_pred_lgbm)의 정확도(accuracy_score)를 구하고 lgbm_acc 변수에 저장하세요.\n",
        "\n",
        "- 4개의 모델에 대한 accuracy 성능평가 결과를 확인하여 가장 성능이 좋은 모델 이름을 '답안12' 변수에 저장하세요.\n",
        "-- 예) 답안12 = 'LogisticRegression' 혹은 답안 12 = 'RandomForest' 혹은 답안 12 = 'XGBoost' 혹은 답안 12 = 'LightGBM'\n",
        "-- 또한 가장 성능이 좋은 모델의 경우 recall_score, precision_score, f1_score도 개별적으로 출력해주세요. (average는 'weighted' 설정)"
      ],
      "metadata": {
        "id": "6U76kvh5GW6B"
      }
    },
    {
      "cell_type": "code",
      "source": [
        "# 여기에 답안코드를 작성하세요.\n",
        "from sklearn.metrics import accuracy_score, recall_score, precision_score, f1_score\n",
        "\n",
        "y_pred_dt = dt.predict(x_valid)\n",
        "dt_acc = accuracy_score(y_valid, y_pred_dt)\n",
        "print(f'DecisionTreeClassifier accuracy : {dt_acc:.4f}')\n",
        "\n",
        "y_pred_rf = rf.predict(x_valid)\n",
        "rf_acc = accuracy_score(y_valid, y_pred_rf)\n",
        "print(f'RandomForestClassifier accuracy : {rf_acc:.4f}')\n",
        "\n",
        "y_pred_xgb = xgb.predict(x_valid)\n",
        "xgb_acc = accuracy_score(y_valid, y_pred_xgb)\n",
        "print(f'XGBoost Classifier accuracy : {xgb_acc:.4f}')\n",
        "\n",
        "y_pred_lgbm = lgbm.predict(x_valid)\n",
        "lgbm_acc = accuracy_score(y_valid, y_pred_lgbm)\n",
        "print(f'LightGBM Classifier accuracy : {lgbm_acc:.4f}')\n",
        "\n",
        "# 전체적으로 모델 성능이 낮지만, 그중에서는 XGBoost가 가장 좋아보입니다.\n",
        "답안12 = 'XGBoost'\n",
        "\n",
        "print('')\n",
        "print(f\"XGBoost Classifier recall : {recall_score(y_valid, y_pred_xgb, average='weighted')}\")\n",
        "print(f\"XGBoost Classifier precision : {precision_score(y_valid, y_pred_xgb, average='weighted')}\")\n",
        "print(f\"XGBoost Classifier f1_score : {f1_score(y_valid, y_pred_xgb, average='weighted')}\")"
      ],
      "metadata": {
        "id": "4ZUkUqZXHJYb",
        "colab": {
          "base_uri": "https://localhost:8080/"
        },
        "outputId": "f3d3dd78-f651-4022-9e32-7438a539581b"
      },
      "execution_count": 24,
      "outputs": [
        {
          "output_type": "stream",
          "name": "stdout",
          "text": [
            "DecisionTreeClassifier accuracy : 0.3537\n",
            "RandomForestClassifier accuracy : 0.3587\n",
            "XGBoost Classifier accuracy : 0.3611\n",
            "LightGBM Classifier accuracy : 0.3499\n",
            "\n",
            "XGBoost Classifier recall : 0.36114570361145704\n",
            "XGBoost Classifier precision : 0.33879519641556277\n",
            "XGBoost Classifier f1_score : 0.3424983463844243\n"
          ]
        },
        {
          "output_type": "stream",
          "name": "stderr",
          "text": [
            "/usr/local/lib/python3.11/dist-packages/sklearn/utils/deprecation.py:151: FutureWarning: 'force_all_finite' was renamed to 'ensure_all_finite' in 1.6 and will be removed in 1.8.\n",
            "  warnings.warn(\n"
          ]
        }
      ]
    },
    {
      "cell_type": "markdown",
      "source": [
        "## 다음 문항을 풀기 전에 아래 코드를 실행하세요\n",
        "\n",
        "\n"
      ],
      "metadata": {
        "id": "VCog4yJcHKSd"
      }
    },
    {
      "cell_type": "code",
      "source": [
        "import tensorflow as tf\n",
        "from tensorflow.keras.models import Sequential, load_model\n",
        "from tensorflow.keras.layers import Dense, Activation, Dropout, BatchNormalization\n",
        "from tensorflow.keras.callbacks import EarlyStopping, ModelCheckpoint\n",
        "from tensorflow.keras.utils import to_categorical\n",
        "\n",
        "tf.random.set_seed(1)"
      ],
      "metadata": {
        "id": "IMxYuq8ZHOr-"
      },
      "execution_count": 25,
      "outputs": []
    },
    {
      "cell_type": "markdown",
      "source": [
        "#13.Grade(학습 등급)를 예측하는 딥러닝 모델을 만들려고 합니다.\n",
        "##아래 가이드에 따라 모델링하고 학습을 진행하세요.\n",
        "\n",
        "- Tensorflow framework를 사용하여 딥러닝 모델을 만드세요.\n",
        "- Dense 층으로 구성된 히든레이어(hidden layer)를 3개 이상으로 모델을 구성하세요.\n",
        "- dropout 비율 0.3으로 Dropout 히든 레이어 사이마다 추가해 주세요.\n",
        "- 손실함수는 SparseCategoricalCrossentropy를 사용하세요.\n",
        "- 하이퍼파라미터 epochs : 50, batch_size : 32로 설정해 주세요.\n",
        "- 각 에포크마다 loss와 metrics 를 평가하기 위한 데이터로 x_valid, y_valid를 사용하세요.\n",
        "- 학습정보는 history 변수에 저장해 주세요.\n",
        "- EarlyStopping 콜백을 적용하고 patience = 8, ModelCheckpoint 콜백으로 가장 좋은 성능의 모델을 best_model.h5 모델로 저장하세요."
      ],
      "metadata": {
        "id": "TFHz41eEkL1k"
      }
    },
    {
      "cell_type": "code",
      "source": [
        "# Target 변수 갯수 확인 (5)\n",
        "print(np.unique(y_train))\n",
        "df_preset['Grade'].value_counts()\n"
      ],
      "metadata": {
        "colab": {
          "base_uri": "https://localhost:8080/",
          "height": 291
        },
        "id": "6IWsKYgSCtBZ",
        "outputId": "7f400f8d-959a-498d-92a4-b5c11d16489b"
      },
      "execution_count": 26,
      "outputs": [
        {
          "output_type": "stream",
          "name": "stdout",
          "text": [
            "[0 1 2 3 4]\n"
          ]
        },
        {
          "output_type": "execute_result",
          "data": {
            "text/plain": [
              "Grade\n",
              "A    1248\n",
              "B     781\n",
              "D     707\n",
              "F     642\n",
              "C     633\n",
              "Name: count, dtype: int64"
            ],
            "text/html": [
              "<div>\n",
              "<style scoped>\n",
              "    .dataframe tbody tr th:only-of-type {\n",
              "        vertical-align: middle;\n",
              "    }\n",
              "\n",
              "    .dataframe tbody tr th {\n",
              "        vertical-align: top;\n",
              "    }\n",
              "\n",
              "    .dataframe thead th {\n",
              "        text-align: right;\n",
              "    }\n",
              "</style>\n",
              "<table border=\"1\" class=\"dataframe\">\n",
              "  <thead>\n",
              "    <tr style=\"text-align: right;\">\n",
              "      <th></th>\n",
              "      <th>count</th>\n",
              "    </tr>\n",
              "    <tr>\n",
              "      <th>Grade</th>\n",
              "      <th></th>\n",
              "    </tr>\n",
              "  </thead>\n",
              "  <tbody>\n",
              "    <tr>\n",
              "      <th>A</th>\n",
              "      <td>1248</td>\n",
              "    </tr>\n",
              "    <tr>\n",
              "      <th>B</th>\n",
              "      <td>781</td>\n",
              "    </tr>\n",
              "    <tr>\n",
              "      <th>D</th>\n",
              "      <td>707</td>\n",
              "    </tr>\n",
              "    <tr>\n",
              "      <th>F</th>\n",
              "      <td>642</td>\n",
              "    </tr>\n",
              "    <tr>\n",
              "      <th>C</th>\n",
              "      <td>633</td>\n",
              "    </tr>\n",
              "  </tbody>\n",
              "</table>\n",
              "</div><br><label><b>dtype:</b> int64</label>"
            ]
          },
          "metadata": {},
          "execution_count": 26
        }
      ]
    },
    {
      "cell_type": "code",
      "source": [
        "# 여기에 답안코드를 작성하세요.\n",
        "model = Sequential()\n",
        "model.add(Dense(64, activation='relu', input_shape=(x_train.shape[-1], )))\n",
        "model.add(Dropout(0.3))\n",
        "model.add(Dense(32, activation='relu'))\n",
        "model.add(Dropout(0.3))\n",
        "model.add(Dense(16, activation='relu'))\n",
        "model.add(Dropout(0.3))\n",
        "model.add(Dense(5, activation='softmax'))\n",
        "\n",
        "model.compile(\n",
        "    optimizer = tf.keras.optimizers.Adam(learning_rate=0.001),\n",
        "    loss = 'sparse_categorical_crossentropy',\n",
        "    metrics = ['accuracy']\n",
        ")\n",
        "\n",
        "es = EarlyStopping(monitor='val_loss', patience=8, restore_best_weights=True, verbose=1)\n",
        "mc = ModelCheckpoint('best_model.h5', monitor='val_loss', save_best_only=True, verbose=1)\n",
        "\n",
        "history = model.fit(\n",
        "    x_train, y_train,\n",
        "    epochs=50,\n",
        "    batch_size=32,\n",
        "    validation_data=(x_valid, y_valid),\n",
        "    callbacks=[es, mc],\n",
        "    verbose=1\n",
        ")"
      ],
      "metadata": {
        "id": "WgFtSmvvm7ls",
        "colab": {
          "base_uri": "https://localhost:8080/"
        },
        "outputId": "84ac271d-c196-4236-9f3f-d5cb50687ebb"
      },
      "execution_count": 27,
      "outputs": [
        {
          "output_type": "stream",
          "name": "stderr",
          "text": [
            "/usr/local/lib/python3.11/dist-packages/keras/src/layers/core/dense.py:87: UserWarning: Do not pass an `input_shape`/`input_dim` argument to a layer. When using Sequential models, prefer using an `Input(shape)` object as the first layer in the model instead.\n",
            "  super().__init__(activity_regularizer=activity_regularizer, **kwargs)\n"
          ]
        },
        {
          "output_type": "stream",
          "name": "stdout",
          "text": [
            "Epoch 1/50\n",
            "\u001b[1m 90/101\u001b[0m \u001b[32m━━━━━━━━━━━━━━━━━\u001b[0m\u001b[37m━━━\u001b[0m \u001b[1m0s\u001b[0m 10ms/step - accuracy: 0.2110 - loss: 1.7563\n",
            "Epoch 1: val_loss improved from inf to 1.53556, saving model to best_model.h5\n"
          ]
        },
        {
          "output_type": "stream",
          "name": "stderr",
          "text": [
            "WARNING:absl:You are saving your model as an HDF5 file via `model.save()` or `keras.saving.save_model(model)`. This file format is considered legacy. We recommend using instead the native Keras format, e.g. `model.save('my_model.keras')` or `keras.saving.save_model(model, 'my_model.keras')`. \n"
          ]
        },
        {
          "output_type": "stream",
          "name": "stdout",
          "text": [
            "\b\b\b\b\b\b\b\b\b\b\b\b\b\b\b\b\b\b\b\b\b\b\b\b\b\b\b\b\b\b\b\b\b\b\b\b\b\b\b\b\b\b\b\b\b\b\b\b\b\b\b\b\b\b\b\b\b\b\b\b\b\b\b\b\b\b\b\b\b\b\b\b\b\b\b\r\u001b[1m101/101\u001b[0m \u001b[32m━━━━━━━━━━━━━━━━━━━━\u001b[0m\u001b[37m\u001b[0m \u001b[1m12s\u001b[0m 25ms/step - accuracy: 0.2136 - loss: 1.7461 - val_accuracy: 0.3163 - val_loss: 1.5356\n",
            "Epoch 2/50\n",
            "\u001b[1m101/101\u001b[0m \u001b[32m━━━━━━━━━━━━━━━━━━━━\u001b[0m\u001b[37m\u001b[0m \u001b[1m0s\u001b[0m 10ms/step - accuracy: 0.2797 - loss: 1.5595\n",
            "Epoch 2: val_loss improved from 1.53556 to 1.48294, saving model to best_model.h5\n"
          ]
        },
        {
          "output_type": "stream",
          "name": "stderr",
          "text": [
            "WARNING:absl:You are saving your model as an HDF5 file via `model.save()` or `keras.saving.save_model(model)`. This file format is considered legacy. We recommend using instead the native Keras format, e.g. `model.save('my_model.keras')` or `keras.saving.save_model(model, 'my_model.keras')`. \n"
          ]
        },
        {
          "output_type": "stream",
          "name": "stdout",
          "text": [
            "\b\b\b\b\b\b\b\b\b\b\b\b\b\b\b\b\b\b\b\b\b\b\b\b\b\b\b\b\b\b\b\b\b\b\b\b\b\b\b\b\b\b\b\b\b\b\b\b\b\b\b\b\b\b\b\b\b\b\b\b\b\b\b\b\b\b\b\b\b\b\b\b\b\b\b\r\u001b[1m101/101\u001b[0m \u001b[32m━━━━━━━━━━━━━━━━━━━━\u001b[0m\u001b[37m\u001b[0m \u001b[1m2s\u001b[0m 16ms/step - accuracy: 0.2797 - loss: 1.5594 - val_accuracy: 0.3450 - val_loss: 1.4829\n",
            "Epoch 3/50\n",
            "\u001b[1m 98/101\u001b[0m \u001b[32m━━━━━━━━━━━━━━━━━━━\u001b[0m\u001b[37m━\u001b[0m \u001b[1m0s\u001b[0m 9ms/step - accuracy: 0.3132 - loss: 1.5107\n",
            "Epoch 3: val_loss improved from 1.48294 to 1.43660, saving model to best_model.h5\n"
          ]
        },
        {
          "output_type": "stream",
          "name": "stderr",
          "text": [
            "WARNING:absl:You are saving your model as an HDF5 file via `model.save()` or `keras.saving.save_model(model)`. This file format is considered legacy. We recommend using instead the native Keras format, e.g. `model.save('my_model.keras')` or `keras.saving.save_model(model, 'my_model.keras')`. \n"
          ]
        },
        {
          "output_type": "stream",
          "name": "stdout",
          "text": [
            "\b\b\b\b\b\b\b\b\b\b\b\b\b\b\b\b\b\b\b\b\b\b\b\b\b\b\b\b\b\b\b\b\b\b\b\b\b\b\b\b\b\b\b\b\b\b\b\b\b\b\b\b\b\b\b\b\b\b\b\b\b\b\b\b\b\b\b\b\b\b\b\b\b\b\r\u001b[1m101/101\u001b[0m \u001b[32m━━━━━━━━━━━━━━━━━━━━\u001b[0m\u001b[37m\u001b[0m \u001b[1m1s\u001b[0m 13ms/step - accuracy: 0.3133 - loss: 1.5103 - val_accuracy: 0.3636 - val_loss: 1.4366\n",
            "Epoch 4/50\n",
            "\u001b[1m 99/101\u001b[0m \u001b[32m━━━━━━━━━━━━━━━━━━━\u001b[0m\u001b[37m━\u001b[0m \u001b[1m0s\u001b[0m 9ms/step - accuracy: 0.3658 - loss: 1.4526\n",
            "Epoch 4: val_loss improved from 1.43660 to 1.39440, saving model to best_model.h5\n"
          ]
        },
        {
          "output_type": "stream",
          "name": "stderr",
          "text": [
            "WARNING:absl:You are saving your model as an HDF5 file via `model.save()` or `keras.saving.save_model(model)`. This file format is considered legacy. We recommend using instead the native Keras format, e.g. `model.save('my_model.keras')` or `keras.saving.save_model(model, 'my_model.keras')`. \n"
          ]
        },
        {
          "output_type": "stream",
          "name": "stdout",
          "text": [
            "\b\b\b\b\b\b\b\b\b\b\b\b\b\b\b\b\b\b\b\b\b\b\b\b\b\b\b\b\b\b\b\b\b\b\b\b\b\b\b\b\b\b\b\b\b\b\b\b\b\b\b\b\b\b\b\b\b\b\b\b\b\b\b\b\b\b\b\b\b\b\b\b\b\b\r\u001b[1m101/101\u001b[0m \u001b[32m━━━━━━━━━━━━━━━━━━━━\u001b[0m\u001b[37m\u001b[0m \u001b[1m3s\u001b[0m 22ms/step - accuracy: 0.3654 - loss: 1.4525 - val_accuracy: 0.3823 - val_loss: 1.3944\n",
            "Epoch 5/50\n",
            "\u001b[1m100/101\u001b[0m \u001b[32m━━━━━━━━━━━━━━━━━━━\u001b[0m\u001b[37m━\u001b[0m \u001b[1m0s\u001b[0m 12ms/step - accuracy: 0.3834 - loss: 1.4069\n",
            "Epoch 5: val_loss improved from 1.39440 to 1.37170, saving model to best_model.h5\n"
          ]
        },
        {
          "output_type": "stream",
          "name": "stderr",
          "text": [
            "WARNING:absl:You are saving your model as an HDF5 file via `model.save()` or `keras.saving.save_model(model)`. This file format is considered legacy. We recommend using instead the native Keras format, e.g. `model.save('my_model.keras')` or `keras.saving.save_model(model, 'my_model.keras')`. \n"
          ]
        },
        {
          "output_type": "stream",
          "name": "stdout",
          "text": [
            "\b\b\b\b\b\b\b\b\b\b\b\b\b\b\b\b\b\b\b\b\b\b\b\b\b\b\b\b\b\b\b\b\b\b\b\b\b\b\b\b\b\b\b\b\b\b\b\b\b\b\b\b\b\b\b\b\b\b\b\b\b\b\b\b\b\b\b\b\b\b\b\b\b\b\b\r\u001b[1m101/101\u001b[0m \u001b[32m━━━━━━━━━━━━━━━━━━━━\u001b[0m\u001b[37m\u001b[0m \u001b[1m2s\u001b[0m 18ms/step - accuracy: 0.3830 - loss: 1.4069 - val_accuracy: 0.3798 - val_loss: 1.3717\n",
            "Epoch 6/50\n",
            "\u001b[1m 98/101\u001b[0m \u001b[32m━━━━━━━━━━━━━━━━━━━\u001b[0m\u001b[37m━\u001b[0m \u001b[1m0s\u001b[0m 8ms/step - accuracy: 0.3929 - loss: 1.3739\n",
            "Epoch 6: val_loss improved from 1.37170 to 1.35874, saving model to best_model.h5\n"
          ]
        },
        {
          "output_type": "stream",
          "name": "stderr",
          "text": [
            "WARNING:absl:You are saving your model as an HDF5 file via `model.save()` or `keras.saving.save_model(model)`. This file format is considered legacy. We recommend using instead the native Keras format, e.g. `model.save('my_model.keras')` or `keras.saving.save_model(model, 'my_model.keras')`. \n"
          ]
        },
        {
          "output_type": "stream",
          "name": "stdout",
          "text": [
            "\b\b\b\b\b\b\b\b\b\b\b\b\b\b\b\b\b\b\b\b\b\b\b\b\b\b\b\b\b\b\b\b\b\b\b\b\b\b\b\b\b\b\b\b\b\b\b\b\b\b\b\b\b\b\b\b\b\b\b\b\b\b\b\b\b\b\b\b\b\b\b\b\b\b\r\u001b[1m101/101\u001b[0m \u001b[32m━━━━━━━━━━━━━━━━━━━━\u001b[0m\u001b[37m\u001b[0m \u001b[1m1s\u001b[0m 13ms/step - accuracy: 0.3924 - loss: 1.3743 - val_accuracy: 0.3736 - val_loss: 1.3587\n",
            "Epoch 7/50\n",
            "\u001b[1m 91/101\u001b[0m \u001b[32m━━━━━━━━━━━━━━━━━━\u001b[0m\u001b[37m━━\u001b[0m \u001b[1m0s\u001b[0m 5ms/step - accuracy: 0.3955 - loss: 1.3703\n",
            "Epoch 7: val_loss improved from 1.35874 to 1.35088, saving model to best_model.h5\n"
          ]
        },
        {
          "output_type": "stream",
          "name": "stderr",
          "text": [
            "WARNING:absl:You are saving your model as an HDF5 file via `model.save()` or `keras.saving.save_model(model)`. This file format is considered legacy. We recommend using instead the native Keras format, e.g. `model.save('my_model.keras')` or `keras.saving.save_model(model, 'my_model.keras')`. \n"
          ]
        },
        {
          "output_type": "stream",
          "name": "stdout",
          "text": [
            "\b\b\b\b\b\b\b\b\b\b\b\b\b\b\b\b\b\b\b\b\b\b\b\b\b\b\b\b\b\b\b\b\b\b\b\b\b\b\b\b\b\b\b\b\b\b\b\b\b\b\b\b\b\b\b\b\b\b\b\b\b\b\b\b\b\b\b\b\b\b\b\b\b\b\r\u001b[1m101/101\u001b[0m \u001b[32m━━━━━━━━━━━━━━━━━━━━\u001b[0m\u001b[37m\u001b[0m \u001b[1m1s\u001b[0m 8ms/step - accuracy: 0.3943 - loss: 1.3696 - val_accuracy: 0.3736 - val_loss: 1.3509\n",
            "Epoch 8/50\n",
            "\u001b[1m 97/101\u001b[0m \u001b[32m━━━━━━━━━━━━━━━━━━━\u001b[0m\u001b[37m━\u001b[0m \u001b[1m0s\u001b[0m 4ms/step - accuracy: 0.4021 - loss: 1.3399\n",
            "Epoch 8: val_loss improved from 1.35088 to 1.34438, saving model to best_model.h5\n"
          ]
        },
        {
          "output_type": "stream",
          "name": "stderr",
          "text": [
            "WARNING:absl:You are saving your model as an HDF5 file via `model.save()` or `keras.saving.save_model(model)`. This file format is considered legacy. We recommend using instead the native Keras format, e.g. `model.save('my_model.keras')` or `keras.saving.save_model(model, 'my_model.keras')`. \n"
          ]
        },
        {
          "output_type": "stream",
          "name": "stdout",
          "text": [
            "\b\b\b\b\b\b\b\b\b\b\b\b\b\b\b\b\b\b\b\b\b\b\b\b\b\b\b\b\b\b\b\b\b\b\b\b\b\b\b\b\b\b\b\b\b\b\b\b\b\b\b\b\b\b\b\b\b\b\b\b\b\b\b\b\b\b\b\b\b\b\b\b\b\b\r\u001b[1m101/101\u001b[0m \u001b[32m━━━━━━━━━━━━━━━━━━━━\u001b[0m\u001b[37m\u001b[0m \u001b[1m1s\u001b[0m 9ms/step - accuracy: 0.4014 - loss: 1.3401 - val_accuracy: 0.3736 - val_loss: 1.3444\n",
            "Epoch 9/50\n",
            "\u001b[1m 90/101\u001b[0m \u001b[32m━━━━━━━━━━━━━━━━━\u001b[0m\u001b[37m━━━\u001b[0m \u001b[1m0s\u001b[0m 5ms/step - accuracy: 0.4047 - loss: 1.3355\n",
            "Epoch 9: val_loss improved from 1.34438 to 1.33593, saving model to best_model.h5\n"
          ]
        },
        {
          "output_type": "stream",
          "name": "stderr",
          "text": [
            "WARNING:absl:You are saving your model as an HDF5 file via `model.save()` or `keras.saving.save_model(model)`. This file format is considered legacy. We recommend using instead the native Keras format, e.g. `model.save('my_model.keras')` or `keras.saving.save_model(model, 'my_model.keras')`. \n"
          ]
        },
        {
          "output_type": "stream",
          "name": "stdout",
          "text": [
            "\b\b\b\b\b\b\b\b\b\b\b\b\b\b\b\b\b\b\b\b\b\b\b\b\b\b\b\b\b\b\b\b\b\b\b\b\b\b\b\b\b\b\b\b\b\b\b\b\b\b\b\b\b\b\b\b\b\b\b\b\b\b\b\b\b\b\b\b\b\b\b\b\b\b\r\u001b[1m101/101\u001b[0m \u001b[32m━━━━━━━━━━━━━━━━━━━━\u001b[0m\u001b[37m\u001b[0m \u001b[1m1s\u001b[0m 10ms/step - accuracy: 0.4040 - loss: 1.3364 - val_accuracy: 0.3686 - val_loss: 1.3359\n",
            "Epoch 10/50\n",
            "\u001b[1m 98/101\u001b[0m \u001b[32m━━━━━━━━━━━━━━━━━━━\u001b[0m\u001b[37m━\u001b[0m \u001b[1m0s\u001b[0m 4ms/step - accuracy: 0.4069 - loss: 1.3281\n",
            "Epoch 10: val_loss improved from 1.33593 to 1.33121, saving model to best_model.h5\n"
          ]
        },
        {
          "output_type": "stream",
          "name": "stderr",
          "text": [
            "WARNING:absl:You are saving your model as an HDF5 file via `model.save()` or `keras.saving.save_model(model)`. This file format is considered legacy. We recommend using instead the native Keras format, e.g. `model.save('my_model.keras')` or `keras.saving.save_model(model, 'my_model.keras')`. \n"
          ]
        },
        {
          "output_type": "stream",
          "name": "stdout",
          "text": [
            "\b\b\b\b\b\b\b\b\b\b\b\b\b\b\b\b\b\b\b\b\b\b\b\b\b\b\b\b\b\b\b\b\b\b\b\b\b\b\b\b\b\b\b\b\b\b\b\b\b\b\b\b\b\b\b\b\b\b\b\b\b\b\b\b\b\b\b\b\b\b\b\b\b\b\r\u001b[1m101/101\u001b[0m \u001b[32m━━━━━━━━━━━━━━━━━━━━\u001b[0m\u001b[37m\u001b[0m \u001b[1m1s\u001b[0m 5ms/step - accuracy: 0.4064 - loss: 1.3282 - val_accuracy: 0.3724 - val_loss: 1.3312\n",
            "Epoch 11/50\n",
            "\u001b[1m 84/101\u001b[0m \u001b[32m━━━━━━━━━━━━━━━━\u001b[0m\u001b[37m━━━━\u001b[0m \u001b[1m0s\u001b[0m 2ms/step - accuracy: 0.4051 - loss: 1.3219\n",
            "Epoch 11: val_loss improved from 1.33121 to 1.32966, saving model to best_model.h5\n"
          ]
        },
        {
          "output_type": "stream",
          "name": "stderr",
          "text": [
            "WARNING:absl:You are saving your model as an HDF5 file via `model.save()` or `keras.saving.save_model(model)`. This file format is considered legacy. We recommend using instead the native Keras format, e.g. `model.save('my_model.keras')` or `keras.saving.save_model(model, 'my_model.keras')`. \n"
          ]
        },
        {
          "output_type": "stream",
          "name": "stdout",
          "text": [
            "\b\b\b\b\b\b\b\b\b\b\b\b\b\b\b\b\b\b\b\b\b\b\b\b\b\b\b\b\b\b\b\b\b\b\b\b\b\b\b\b\b\b\b\b\b\b\b\b\b\b\b\b\b\b\b\b\b\b\b\b\b\b\b\b\b\b\b\b\b\b\b\b\b\b\r\u001b[1m101/101\u001b[0m \u001b[32m━━━━━━━━━━━━━━━━━━━━\u001b[0m\u001b[37m\u001b[0m \u001b[1m0s\u001b[0m 4ms/step - accuracy: 0.4037 - loss: 1.3243 - val_accuracy: 0.3761 - val_loss: 1.3297\n",
            "Epoch 12/50\n",
            "\u001b[1m 91/101\u001b[0m \u001b[32m━━━━━━━━━━━━━━━━━━\u001b[0m\u001b[37m━━\u001b[0m \u001b[1m0s\u001b[0m 2ms/step - accuracy: 0.4040 - loss: 1.3054\n",
            "Epoch 12: val_loss improved from 1.32966 to 1.32800, saving model to best_model.h5\n"
          ]
        },
        {
          "output_type": "stream",
          "name": "stderr",
          "text": [
            "WARNING:absl:You are saving your model as an HDF5 file via `model.save()` or `keras.saving.save_model(model)`. This file format is considered legacy. We recommend using instead the native Keras format, e.g. `model.save('my_model.keras')` or `keras.saving.save_model(model, 'my_model.keras')`. \n"
          ]
        },
        {
          "output_type": "stream",
          "name": "stdout",
          "text": [
            "\b\b\b\b\b\b\b\b\b\b\b\b\b\b\b\b\b\b\b\b\b\b\b\b\b\b\b\b\b\b\b\b\b\b\b\b\b\b\b\b\b\b\b\b\b\b\b\b\b\b\b\b\b\b\b\b\b\b\b\b\b\b\b\b\b\b\b\b\b\b\b\b\b\b\r\u001b[1m101/101\u001b[0m \u001b[32m━━━━━━━━━━━━━━━━━━━━\u001b[0m\u001b[37m\u001b[0m \u001b[1m1s\u001b[0m 4ms/step - accuracy: 0.4030 - loss: 1.3067 - val_accuracy: 0.3711 - val_loss: 1.3280\n",
            "Epoch 13/50\n",
            "\u001b[1m 94/101\u001b[0m \u001b[32m━━━━━━━━━━━━━━━━━━\u001b[0m\u001b[37m━━\u001b[0m \u001b[1m0s\u001b[0m 2ms/step - accuracy: 0.3978 - loss: 1.3143\n",
            "Epoch 13: val_loss improved from 1.32800 to 1.32564, saving model to best_model.h5\n"
          ]
        },
        {
          "output_type": "stream",
          "name": "stderr",
          "text": [
            "WARNING:absl:You are saving your model as an HDF5 file via `model.save()` or `keras.saving.save_model(model)`. This file format is considered legacy. We recommend using instead the native Keras format, e.g. `model.save('my_model.keras')` or `keras.saving.save_model(model, 'my_model.keras')`. \n"
          ]
        },
        {
          "output_type": "stream",
          "name": "stdout",
          "text": [
            "\b\b\b\b\b\b\b\b\b\b\b\b\b\b\b\b\b\b\b\b\b\b\b\b\b\b\b\b\b\b\b\b\b\b\b\b\b\b\b\b\b\b\b\b\b\b\b\b\b\b\b\b\b\b\b\b\b\b\b\b\b\b\b\b\b\b\b\b\b\b\b\b\b\b\r\u001b[1m101/101\u001b[0m \u001b[32m━━━━━━━━━━━━━━━━━━━━\u001b[0m\u001b[37m\u001b[0m \u001b[1m1s\u001b[0m 4ms/step - accuracy: 0.3974 - loss: 1.3144 - val_accuracy: 0.3711 - val_loss: 1.3256\n",
            "Epoch 14/50\n",
            "\u001b[1m 89/101\u001b[0m \u001b[32m━━━━━━━━━━━━━━━━━\u001b[0m\u001b[37m━━━\u001b[0m \u001b[1m0s\u001b[0m 2ms/step - accuracy: 0.4078 - loss: 1.3026\n",
            "Epoch 14: val_loss improved from 1.32564 to 1.32238, saving model to best_model.h5\n"
          ]
        },
        {
          "output_type": "stream",
          "name": "stderr",
          "text": [
            "WARNING:absl:You are saving your model as an HDF5 file via `model.save()` or `keras.saving.save_model(model)`. This file format is considered legacy. We recommend using instead the native Keras format, e.g. `model.save('my_model.keras')` or `keras.saving.save_model(model, 'my_model.keras')`. \n"
          ]
        },
        {
          "output_type": "stream",
          "name": "stdout",
          "text": [
            "\b\b\b\b\b\b\b\b\b\b\b\b\b\b\b\b\b\b\b\b\b\b\b\b\b\b\b\b\b\b\b\b\b\b\b\b\b\b\b\b\b\b\b\b\b\b\b\b\b\b\b\b\b\b\b\b\b\b\b\b\b\b\b\b\b\b\b\b\b\b\b\b\b\b\r\u001b[1m101/101\u001b[0m \u001b[32m━━━━━━━━━━━━━━━━━━━━\u001b[0m\u001b[37m\u001b[0m \u001b[1m0s\u001b[0m 4ms/step - accuracy: 0.4064 - loss: 1.3028 - val_accuracy: 0.3686 - val_loss: 1.3224\n",
            "Epoch 15/50\n",
            "\u001b[1m 81/101\u001b[0m \u001b[32m━━━━━━━━━━━━━━━━\u001b[0m\u001b[37m━━━━\u001b[0m \u001b[1m0s\u001b[0m 3ms/step - accuracy: 0.4152 - loss: 1.2998\n",
            "Epoch 15: val_loss improved from 1.32238 to 1.32087, saving model to best_model.h5\n"
          ]
        },
        {
          "output_type": "stream",
          "name": "stderr",
          "text": [
            "WARNING:absl:You are saving your model as an HDF5 file via `model.save()` or `keras.saving.save_model(model)`. This file format is considered legacy. We recommend using instead the native Keras format, e.g. `model.save('my_model.keras')` or `keras.saving.save_model(model, 'my_model.keras')`. \n"
          ]
        },
        {
          "output_type": "stream",
          "name": "stdout",
          "text": [
            "\b\b\b\b\b\b\b\b\b\b\b\b\b\b\b\b\b\b\b\b\b\b\b\b\b\b\b\b\b\b\b\b\b\b\b\b\b\b\b\b\b\b\b\b\b\b\b\b\b\b\b\b\b\b\b\b\b\b\b\b\b\b\b\b\b\b\b\b\b\b\b\b\b\b\r\u001b[1m101/101\u001b[0m \u001b[32m━━━━━━━━━━━━━━━━━━━━\u001b[0m\u001b[37m\u001b[0m \u001b[1m0s\u001b[0m 5ms/step - accuracy: 0.4124 - loss: 1.3003 - val_accuracy: 0.3724 - val_loss: 1.3209\n",
            "Epoch 16/50\n",
            "\u001b[1m 87/101\u001b[0m \u001b[32m━━━━━━━━━━━━━━━━━\u001b[0m\u001b[37m━━━\u001b[0m \u001b[1m0s\u001b[0m 2ms/step - accuracy: 0.4047 - loss: 1.2942\n",
            "Epoch 16: val_loss improved from 1.32087 to 1.31456, saving model to best_model.h5\n"
          ]
        },
        {
          "output_type": "stream",
          "name": "stderr",
          "text": [
            "WARNING:absl:You are saving your model as an HDF5 file via `model.save()` or `keras.saving.save_model(model)`. This file format is considered legacy. We recommend using instead the native Keras format, e.g. `model.save('my_model.keras')` or `keras.saving.save_model(model, 'my_model.keras')`. \n"
          ]
        },
        {
          "output_type": "stream",
          "name": "stdout",
          "text": [
            "\b\b\b\b\b\b\b\b\b\b\b\b\b\b\b\b\b\b\b\b\b\b\b\b\b\b\b\b\b\b\b\b\b\b\b\b\b\b\b\b\b\b\b\b\b\b\b\b\b\b\b\b\b\b\b\b\b\b\b\b\b\b\b\b\b\b\b\b\b\b\b\b\b\b\r\u001b[1m101/101\u001b[0m \u001b[32m━━━━━━━━━━━━━━━━━━━━\u001b[0m\u001b[37m\u001b[0m \u001b[1m0s\u001b[0m 4ms/step - accuracy: 0.4028 - loss: 1.2953 - val_accuracy: 0.3686 - val_loss: 1.3146\n",
            "Epoch 17/50\n",
            "\u001b[1m101/101\u001b[0m \u001b[32m━━━━━━━━━━━━━━━━━━━━\u001b[0m\u001b[37m\u001b[0m \u001b[1m0s\u001b[0m 3ms/step - accuracy: 0.4187 - loss: 1.2987\n",
            "Epoch 17: val_loss did not improve from 1.31456\n",
            "\u001b[1m101/101\u001b[0m \u001b[32m━━━━━━━━━━━━━━━━━━━━\u001b[0m\u001b[37m\u001b[0m \u001b[1m1s\u001b[0m 4ms/step - accuracy: 0.4186 - loss: 1.2987 - val_accuracy: 0.3699 - val_loss: 1.3152\n",
            "Epoch 18/50\n",
            "\u001b[1m 92/101\u001b[0m \u001b[32m━━━━━━━━━━━━━━━━━━\u001b[0m\u001b[37m━━\u001b[0m \u001b[1m0s\u001b[0m 3ms/step - accuracy: 0.4235 - loss: 1.2846\n",
            "Epoch 18: val_loss improved from 1.31456 to 1.31104, saving model to best_model.h5\n"
          ]
        },
        {
          "output_type": "stream",
          "name": "stderr",
          "text": [
            "WARNING:absl:You are saving your model as an HDF5 file via `model.save()` or `keras.saving.save_model(model)`. This file format is considered legacy. We recommend using instead the native Keras format, e.g. `model.save('my_model.keras')` or `keras.saving.save_model(model, 'my_model.keras')`. \n"
          ]
        },
        {
          "output_type": "stream",
          "name": "stdout",
          "text": [
            "\b\b\b\b\b\b\b\b\b\b\b\b\b\b\b\b\b\b\b\b\b\b\b\b\b\b\b\b\b\b\b\b\b\b\b\b\b\b\b\b\b\b\b\b\b\b\b\b\b\b\b\b\b\b\b\b\b\b\b\b\b\b\b\b\b\b\b\b\b\b\b\b\b\b\r\u001b[1m101/101\u001b[0m \u001b[32m━━━━━━━━━━━━━━━━━━━━\u001b[0m\u001b[37m\u001b[0m \u001b[1m1s\u001b[0m 6ms/step - accuracy: 0.4220 - loss: 1.2854 - val_accuracy: 0.3711 - val_loss: 1.3110\n",
            "Epoch 19/50\n",
            "\u001b[1m 96/101\u001b[0m \u001b[32m━━━━━━━━━━━━━━━━━━━\u001b[0m\u001b[37m━\u001b[0m \u001b[1m0s\u001b[0m 4ms/step - accuracy: 0.4218 - loss: 1.2749\n",
            "Epoch 19: val_loss did not improve from 1.31104\n",
            "\u001b[1m101/101\u001b[0m \u001b[32m━━━━━━━━━━━━━━━━━━━━\u001b[0m\u001b[37m\u001b[0m \u001b[1m1s\u001b[0m 7ms/step - accuracy: 0.4208 - loss: 1.2756 - val_accuracy: 0.3661 - val_loss: 1.3120\n",
            "Epoch 20/50\n",
            "\u001b[1m 83/101\u001b[0m \u001b[32m━━━━━━━━━━━━━━━━\u001b[0m\u001b[37m━━━━\u001b[0m \u001b[1m0s\u001b[0m 2ms/step - accuracy: 0.4172 - loss: 1.2766\n",
            "Epoch 20: val_loss improved from 1.31104 to 1.30577, saving model to best_model.h5\n"
          ]
        },
        {
          "output_type": "stream",
          "name": "stderr",
          "text": [
            "WARNING:absl:You are saving your model as an HDF5 file via `model.save()` or `keras.saving.save_model(model)`. This file format is considered legacy. We recommend using instead the native Keras format, e.g. `model.save('my_model.keras')` or `keras.saving.save_model(model, 'my_model.keras')`. \n"
          ]
        },
        {
          "output_type": "stream",
          "name": "stdout",
          "text": [
            "\b\b\b\b\b\b\b\b\b\b\b\b\b\b\b\b\b\b\b\b\b\b\b\b\b\b\b\b\b\b\b\b\b\b\b\b\b\b\b\b\b\b\b\b\b\b\b\b\b\b\b\b\b\b\b\b\b\b\b\b\b\b\b\b\b\b\b\b\b\b\b\b\b\b\r\u001b[1m101/101\u001b[0m \u001b[32m━━━━━━━━━━━━━━━━━━━━\u001b[0m\u001b[37m\u001b[0m \u001b[1m1s\u001b[0m 4ms/step - accuracy: 0.4145 - loss: 1.2792 - val_accuracy: 0.3686 - val_loss: 1.3058\n",
            "Epoch 21/50\n",
            "\u001b[1m 90/101\u001b[0m \u001b[32m━━━━━━━━━━━━━━━━━\u001b[0m\u001b[37m━━━\u001b[0m \u001b[1m0s\u001b[0m 2ms/step - accuracy: 0.4155 - loss: 1.2865\n",
            "Epoch 21: val_loss improved from 1.30577 to 1.30550, saving model to best_model.h5\n"
          ]
        },
        {
          "output_type": "stream",
          "name": "stderr",
          "text": [
            "WARNING:absl:You are saving your model as an HDF5 file via `model.save()` or `keras.saving.save_model(model)`. This file format is considered legacy. We recommend using instead the native Keras format, e.g. `model.save('my_model.keras')` or `keras.saving.save_model(model, 'my_model.keras')`. \n"
          ]
        },
        {
          "output_type": "stream",
          "name": "stdout",
          "text": [
            "\b\b\b\b\b\b\b\b\b\b\b\b\b\b\b\b\b\b\b\b\b\b\b\b\b\b\b\b\b\b\b\b\b\b\b\b\b\b\b\b\b\b\b\b\b\b\b\b\b\b\b\b\b\b\b\b\b\b\b\b\b\b\b\b\b\b\b\b\b\b\b\b\b\b\r\u001b[1m101/101\u001b[0m \u001b[32m━━━━━━━━━━━━━━━━━━━━\u001b[0m\u001b[37m\u001b[0m \u001b[1m0s\u001b[0m 4ms/step - accuracy: 0.4142 - loss: 1.2866 - val_accuracy: 0.3686 - val_loss: 1.3055\n",
            "Epoch 22/50\n",
            "\u001b[1m 81/101\u001b[0m \u001b[32m━━━━━━━━━━━━━━━━\u001b[0m\u001b[37m━━━━\u001b[0m \u001b[1m0s\u001b[0m 3ms/step - accuracy: 0.4236 - loss: 1.2591\n",
            "Epoch 22: val_loss did not improve from 1.30550\n",
            "\u001b[1m101/101\u001b[0m \u001b[32m━━━━━━━━━━━━━━━━━━━━\u001b[0m\u001b[37m\u001b[0m \u001b[1m1s\u001b[0m 4ms/step - accuracy: 0.4216 - loss: 1.2612 - val_accuracy: 0.3711 - val_loss: 1.3078\n",
            "Epoch 23/50\n",
            "\u001b[1m 84/101\u001b[0m \u001b[32m━━━━━━━━━━━━━━━━\u001b[0m\u001b[37m━━━━\u001b[0m \u001b[1m0s\u001b[0m 2ms/step - accuracy: 0.4109 - loss: 1.2605\n",
            "Epoch 23: val_loss improved from 1.30550 to 1.30494, saving model to best_model.h5\n"
          ]
        },
        {
          "output_type": "stream",
          "name": "stderr",
          "text": [
            "WARNING:absl:You are saving your model as an HDF5 file via `model.save()` or `keras.saving.save_model(model)`. This file format is considered legacy. We recommend using instead the native Keras format, e.g. `model.save('my_model.keras')` or `keras.saving.save_model(model, 'my_model.keras')`. \n"
          ]
        },
        {
          "output_type": "stream",
          "name": "stdout",
          "text": [
            "\b\b\b\b\b\b\b\b\b\b\b\b\b\b\b\b\b\b\b\b\b\b\b\b\b\b\b\b\b\b\b\b\b\b\b\b\b\b\b\b\b\b\b\b\b\b\b\b\b\b\b\b\b\b\b\b\b\b\b\b\b\b\b\b\b\b\b\b\b\b\b\b\b\b\r\u001b[1m101/101\u001b[0m \u001b[32m━━━━━━━━━━━━━━━━━━━━\u001b[0m\u001b[37m\u001b[0m \u001b[1m0s\u001b[0m 4ms/step - accuracy: 0.4093 - loss: 1.2628 - val_accuracy: 0.3661 - val_loss: 1.3049\n",
            "Epoch 24/50\n",
            "\u001b[1m100/101\u001b[0m \u001b[32m━━━━━━━━━━━━━━━━━━━\u001b[0m\u001b[37m━\u001b[0m \u001b[1m0s\u001b[0m 3ms/step - accuracy: 0.4111 - loss: 1.2580\n",
            "Epoch 24: val_loss improved from 1.30494 to 1.30314, saving model to best_model.h5\n"
          ]
        },
        {
          "output_type": "stream",
          "name": "stderr",
          "text": [
            "WARNING:absl:You are saving your model as an HDF5 file via `model.save()` or `keras.saving.save_model(model)`. This file format is considered legacy. We recommend using instead the native Keras format, e.g. `model.save('my_model.keras')` or `keras.saving.save_model(model, 'my_model.keras')`. \n"
          ]
        },
        {
          "output_type": "stream",
          "name": "stdout",
          "text": [
            "\b\b\b\b\b\b\b\b\b\b\b\b\b\b\b\b\b\b\b\b\b\b\b\b\b\b\b\b\b\b\b\b\b\b\b\b\b\b\b\b\b\b\b\b\b\b\b\b\b\b\b\b\b\b\b\b\b\b\b\b\b\b\b\b\b\b\b\b\b\b\b\b\b\b\r\u001b[1m101/101\u001b[0m \u001b[32m━━━━━━━━━━━━━━━━━━━━\u001b[0m\u001b[37m\u001b[0m \u001b[1m0s\u001b[0m 4ms/step - accuracy: 0.4109 - loss: 1.2582 - val_accuracy: 0.3699 - val_loss: 1.3031\n",
            "Epoch 25/50\n",
            "\u001b[1m 86/101\u001b[0m \u001b[32m━━━━━━━━━━━━━━━━━\u001b[0m\u001b[37m━━━\u001b[0m \u001b[1m0s\u001b[0m 2ms/step - accuracy: 0.4073 - loss: 1.2648\n",
            "Epoch 25: val_loss improved from 1.30314 to 1.30299, saving model to best_model.h5\n"
          ]
        },
        {
          "output_type": "stream",
          "name": "stderr",
          "text": [
            "WARNING:absl:You are saving your model as an HDF5 file via `model.save()` or `keras.saving.save_model(model)`. This file format is considered legacy. We recommend using instead the native Keras format, e.g. `model.save('my_model.keras')` or `keras.saving.save_model(model, 'my_model.keras')`. \n"
          ]
        },
        {
          "output_type": "stream",
          "name": "stdout",
          "text": [
            "\b\b\b\b\b\b\b\b\b\b\b\b\b\b\b\b\b\b\b\b\b\b\b\b\b\b\b\b\b\b\b\b\b\b\b\b\b\b\b\b\b\b\b\b\b\b\b\b\b\b\b\b\b\b\b\b\b\b\b\b\b\b\b\b\b\b\b\b\b\b\b\b\b\b\r\u001b[1m101/101\u001b[0m \u001b[32m━━━━━━━━━━━━━━━━━━━━\u001b[0m\u001b[37m\u001b[0m \u001b[1m0s\u001b[0m 4ms/step - accuracy: 0.4061 - loss: 1.2665 - val_accuracy: 0.3686 - val_loss: 1.3030\n",
            "Epoch 26/50\n",
            "\u001b[1m 83/101\u001b[0m \u001b[32m━━━━━━━━━━━━━━━━\u001b[0m\u001b[37m━━━━\u001b[0m \u001b[1m0s\u001b[0m 2ms/step - accuracy: 0.4210 - loss: 1.2554\n",
            "Epoch 26: val_loss improved from 1.30299 to 1.29981, saving model to best_model.h5\n"
          ]
        },
        {
          "output_type": "stream",
          "name": "stderr",
          "text": [
            "WARNING:absl:You are saving your model as an HDF5 file via `model.save()` or `keras.saving.save_model(model)`. This file format is considered legacy. We recommend using instead the native Keras format, e.g. `model.save('my_model.keras')` or `keras.saving.save_model(model, 'my_model.keras')`. \n"
          ]
        },
        {
          "output_type": "stream",
          "name": "stdout",
          "text": [
            "\b\b\b\b\b\b\b\b\b\b\b\b\b\b\b\b\b\b\b\b\b\b\b\b\b\b\b\b\b\b\b\b\b\b\b\b\b\b\b\b\b\b\b\b\b\b\b\b\b\b\b\b\b\b\b\b\b\b\b\b\b\b\b\b\b\b\b\b\b\b\b\b\b\b\r\u001b[1m101/101\u001b[0m \u001b[32m━━━━━━━━━━━━━━━━━━━━\u001b[0m\u001b[37m\u001b[0m \u001b[1m0s\u001b[0m 4ms/step - accuracy: 0.4191 - loss: 1.2567 - val_accuracy: 0.3711 - val_loss: 1.2998\n",
            "Epoch 27/50\n",
            "\u001b[1m 99/101\u001b[0m \u001b[32m━━━━━━━━━━━━━━━━━━━\u001b[0m\u001b[37m━\u001b[0m \u001b[1m0s\u001b[0m 3ms/step - accuracy: 0.4291 - loss: 1.2556\n",
            "Epoch 27: val_loss did not improve from 1.29981\n",
            "\u001b[1m101/101\u001b[0m \u001b[32m━━━━━━━━━━━━━━━━━━━━\u001b[0m\u001b[37m\u001b[0m \u001b[1m0s\u001b[0m 4ms/step - accuracy: 0.4287 - loss: 1.2557 - val_accuracy: 0.3724 - val_loss: 1.3007\n",
            "Epoch 28/50\n",
            "\u001b[1m 83/101\u001b[0m \u001b[32m━━━━━━━━━━━━━━━━\u001b[0m\u001b[37m━━━━\u001b[0m \u001b[1m0s\u001b[0m 3ms/step - accuracy: 0.4258 - loss: 1.2502\n",
            "Epoch 28: val_loss improved from 1.29981 to 1.29447, saving model to best_model.h5\n"
          ]
        },
        {
          "output_type": "stream",
          "name": "stderr",
          "text": [
            "WARNING:absl:You are saving your model as an HDF5 file via `model.save()` or `keras.saving.save_model(model)`. This file format is considered legacy. We recommend using instead the native Keras format, e.g. `model.save('my_model.keras')` or `keras.saving.save_model(model, 'my_model.keras')`. \n"
          ]
        },
        {
          "output_type": "stream",
          "name": "stdout",
          "text": [
            "\b\b\b\b\b\b\b\b\b\b\b\b\b\b\b\b\b\b\b\b\b\b\b\b\b\b\b\b\b\b\b\b\b\b\b\b\b\b\b\b\b\b\b\b\b\b\b\b\b\b\b\b\b\b\b\b\b\b\b\b\b\b\b\b\b\b\b\b\b\b\b\b\b\b\r\u001b[1m101/101\u001b[0m \u001b[32m━━━━━━━━━━━━━━━━━━━━\u001b[0m\u001b[37m\u001b[0m \u001b[1m1s\u001b[0m 4ms/step - accuracy: 0.4230 - loss: 1.2513 - val_accuracy: 0.3748 - val_loss: 1.2945\n",
            "Epoch 29/50\n",
            "\u001b[1m 85/101\u001b[0m \u001b[32m━━━━━━━━━━━━━━━━\u001b[0m\u001b[37m━━━━\u001b[0m \u001b[1m0s\u001b[0m 2ms/step - accuracy: 0.4281 - loss: 1.2378\n",
            "Epoch 29: val_loss did not improve from 1.29447\n",
            "\u001b[1m101/101\u001b[0m \u001b[32m━━━━━━━━━━━━━━━━━━━━\u001b[0m\u001b[37m\u001b[0m \u001b[1m1s\u001b[0m 4ms/step - accuracy: 0.4240 - loss: 1.2408 - val_accuracy: 0.3773 - val_loss: 1.2958\n",
            "Epoch 30/50\n",
            "\u001b[1m 93/101\u001b[0m \u001b[32m━━━━━━━━━━━━━━━━━━\u001b[0m\u001b[37m━━\u001b[0m \u001b[1m0s\u001b[0m 2ms/step - accuracy: 0.4309 - loss: 1.2502\n",
            "Epoch 30: val_loss improved from 1.29447 to 1.29389, saving model to best_model.h5\n"
          ]
        },
        {
          "output_type": "stream",
          "name": "stderr",
          "text": [
            "WARNING:absl:You are saving your model as an HDF5 file via `model.save()` or `keras.saving.save_model(model)`. This file format is considered legacy. We recommend using instead the native Keras format, e.g. `model.save('my_model.keras')` or `keras.saving.save_model(model, 'my_model.keras')`. \n"
          ]
        },
        {
          "output_type": "stream",
          "name": "stdout",
          "text": [
            "\b\b\b\b\b\b\b\b\b\b\b\b\b\b\b\b\b\b\b\b\b\b\b\b\b\b\b\b\b\b\b\b\b\b\b\b\b\b\b\b\b\b\b\b\b\b\b\b\b\b\b\b\b\b\b\b\b\b\b\b\b\b\b\b\b\b\b\b\b\b\b\b\b\b\r\u001b[1m101/101\u001b[0m \u001b[32m━━━━━━━━━━━━━━━━━━━━\u001b[0m\u001b[37m\u001b[0m \u001b[1m1s\u001b[0m 4ms/step - accuracy: 0.4294 - loss: 1.2512 - val_accuracy: 0.3724 - val_loss: 1.2939\n",
            "Epoch 31/50\n",
            "\u001b[1m 87/101\u001b[0m \u001b[32m━━━━━━━━━━━━━━━━━\u001b[0m\u001b[37m━━━\u001b[0m \u001b[1m0s\u001b[0m 2ms/step - accuracy: 0.4229 - loss: 1.2421\n",
            "Epoch 31: val_loss improved from 1.29389 to 1.29196, saving model to best_model.h5\n"
          ]
        },
        {
          "output_type": "stream",
          "name": "stderr",
          "text": [
            "WARNING:absl:You are saving your model as an HDF5 file via `model.save()` or `keras.saving.save_model(model)`. This file format is considered legacy. We recommend using instead the native Keras format, e.g. `model.save('my_model.keras')` or `keras.saving.save_model(model, 'my_model.keras')`. \n"
          ]
        },
        {
          "output_type": "stream",
          "name": "stdout",
          "text": [
            "\b\b\b\b\b\b\b\b\b\b\b\b\b\b\b\b\b\b\b\b\b\b\b\b\b\b\b\b\b\b\b\b\b\b\b\b\b\b\b\b\b\b\b\b\b\b\b\b\b\b\b\b\b\b\b\b\b\b\b\b\b\b\b\b\b\b\b\b\b\b\b\b\b\b\r\u001b[1m101/101\u001b[0m \u001b[32m━━━━━━━━━━━━━━━━━━━━\u001b[0m\u001b[37m\u001b[0m \u001b[1m1s\u001b[0m 4ms/step - accuracy: 0.4208 - loss: 1.2440 - val_accuracy: 0.3773 - val_loss: 1.2920\n",
            "Epoch 32/50\n",
            "\u001b[1m 83/101\u001b[0m \u001b[32m━━━━━━━━━━━━━━━━\u001b[0m\u001b[37m━━━━\u001b[0m \u001b[1m0s\u001b[0m 3ms/step - accuracy: 0.4170 - loss: 1.2426\n",
            "Epoch 32: val_loss did not improve from 1.29196\n",
            "\u001b[1m101/101\u001b[0m \u001b[32m━━━━━━━━━━━━━━━━━━━━\u001b[0m\u001b[37m\u001b[0m \u001b[1m1s\u001b[0m 4ms/step - accuracy: 0.4142 - loss: 1.2446 - val_accuracy: 0.3748 - val_loss: 1.2946\n",
            "Epoch 33/50\n",
            "\u001b[1m 91/101\u001b[0m \u001b[32m━━━━━━━━━━━━━━━━━━\u001b[0m\u001b[37m━━\u001b[0m \u001b[1m0s\u001b[0m 2ms/step - accuracy: 0.4299 - loss: 1.2396\n",
            "Epoch 33: val_loss improved from 1.29196 to 1.29147, saving model to best_model.h5\n"
          ]
        },
        {
          "output_type": "stream",
          "name": "stderr",
          "text": [
            "WARNING:absl:You are saving your model as an HDF5 file via `model.save()` or `keras.saving.save_model(model)`. This file format is considered legacy. We recommend using instead the native Keras format, e.g. `model.save('my_model.keras')` or `keras.saving.save_model(model, 'my_model.keras')`. \n"
          ]
        },
        {
          "output_type": "stream",
          "name": "stdout",
          "text": [
            "\b\b\b\b\b\b\b\b\b\b\b\b\b\b\b\b\b\b\b\b\b\b\b\b\b\b\b\b\b\b\b\b\b\b\b\b\b\b\b\b\b\b\b\b\b\b\b\b\b\b\b\b\b\b\b\b\b\b\b\b\b\b\b\b\b\b\b\b\b\b\b\b\b\b\r\u001b[1m101/101\u001b[0m \u001b[32m━━━━━━━━━━━━━━━━━━━━\u001b[0m\u001b[37m\u001b[0m \u001b[1m1s\u001b[0m 4ms/step - accuracy: 0.4275 - loss: 1.2414 - val_accuracy: 0.3773 - val_loss: 1.2915\n",
            "Epoch 34/50\n",
            "\u001b[1m 84/101\u001b[0m \u001b[32m━━━━━━━━━━━━━━━━\u001b[0m\u001b[37m━━━━\u001b[0m \u001b[1m0s\u001b[0m 2ms/step - accuracy: 0.4110 - loss: 1.2300\n",
            "Epoch 34: val_loss did not improve from 1.29147\n",
            "\u001b[1m101/101\u001b[0m \u001b[32m━━━━━━━━━━━━━━━━━━━━\u001b[0m\u001b[37m\u001b[0m \u001b[1m0s\u001b[0m 3ms/step - accuracy: 0.4096 - loss: 1.2318 - val_accuracy: 0.3761 - val_loss: 1.2935\n",
            "Epoch 35/50\n",
            "\u001b[1m 91/101\u001b[0m \u001b[32m━━━━━━━━━━━━━━━━━━\u001b[0m\u001b[37m━━\u001b[0m \u001b[1m0s\u001b[0m 2ms/step - accuracy: 0.4159 - loss: 1.2400\n",
            "Epoch 35: val_loss did not improve from 1.29147\n",
            "\u001b[1m101/101\u001b[0m \u001b[32m━━━━━━━━━━━━━━━━━━━━\u001b[0m\u001b[37m\u001b[0m \u001b[1m1s\u001b[0m 3ms/step - accuracy: 0.4142 - loss: 1.2410 - val_accuracy: 0.3674 - val_loss: 1.2946\n",
            "Epoch 36/50\n",
            "\u001b[1m 82/101\u001b[0m \u001b[32m━━━━━━━━━━━━━━━━\u001b[0m\u001b[37m━━━━\u001b[0m \u001b[1m0s\u001b[0m 3ms/step - accuracy: 0.4321 - loss: 1.2367\n",
            "Epoch 36: val_loss improved from 1.29147 to 1.28890, saving model to best_model.h5\n"
          ]
        },
        {
          "output_type": "stream",
          "name": "stderr",
          "text": [
            "WARNING:absl:You are saving your model as an HDF5 file via `model.save()` or `keras.saving.save_model(model)`. This file format is considered legacy. We recommend using instead the native Keras format, e.g. `model.save('my_model.keras')` or `keras.saving.save_model(model, 'my_model.keras')`. \n"
          ]
        },
        {
          "output_type": "stream",
          "name": "stdout",
          "text": [
            "\b\b\b\b\b\b\b\b\b\b\b\b\b\b\b\b\b\b\b\b\b\b\b\b\b\b\b\b\b\b\b\b\b\b\b\b\b\b\b\b\b\b\b\b\b\b\b\b\b\b\b\b\b\b\b\b\b\b\b\b\b\b\b\b\b\b\b\b\b\b\b\b\b\b\r\u001b[1m101/101\u001b[0m \u001b[32m━━━━━━━━━━━━━━━━━━━━\u001b[0m\u001b[37m\u001b[0m \u001b[1m1s\u001b[0m 4ms/step - accuracy: 0.4285 - loss: 1.2383 - val_accuracy: 0.3674 - val_loss: 1.2889\n",
            "Epoch 37/50\n",
            "\u001b[1m 98/101\u001b[0m \u001b[32m━━━━━━━━━━━━━━━━━━━\u001b[0m\u001b[37m━\u001b[0m \u001b[1m0s\u001b[0m 3ms/step - accuracy: 0.4210 - loss: 1.2347\n",
            "Epoch 37: val_loss did not improve from 1.28890\n",
            "\u001b[1m101/101\u001b[0m \u001b[32m━━━━━━━━━━━━━━━━━━━━\u001b[0m\u001b[37m\u001b[0m \u001b[1m1s\u001b[0m 4ms/step - accuracy: 0.4207 - loss: 1.2350 - val_accuracy: 0.3649 - val_loss: 1.2911\n",
            "Epoch 38/50\n",
            "\u001b[1m 98/101\u001b[0m \u001b[32m━━━━━━━━━━━━━━━━━━━\u001b[0m\u001b[37m━\u001b[0m \u001b[1m0s\u001b[0m 3ms/step - accuracy: 0.4153 - loss: 1.2393\n",
            "Epoch 38: val_loss improved from 1.28890 to 1.28757, saving model to best_model.h5\n"
          ]
        },
        {
          "output_type": "stream",
          "name": "stderr",
          "text": [
            "WARNING:absl:You are saving your model as an HDF5 file via `model.save()` or `keras.saving.save_model(model)`. This file format is considered legacy. We recommend using instead the native Keras format, e.g. `model.save('my_model.keras')` or `keras.saving.save_model(model, 'my_model.keras')`. \n"
          ]
        },
        {
          "output_type": "stream",
          "name": "stdout",
          "text": [
            "\b\b\b\b\b\b\b\b\b\b\b\b\b\b\b\b\b\b\b\b\b\b\b\b\b\b\b\b\b\b\b\b\b\b\b\b\b\b\b\b\b\b\b\b\b\b\b\b\b\b\b\b\b\b\b\b\b\b\b\b\b\b\b\b\b\b\b\b\b\b\b\b\b\b\r\u001b[1m101/101\u001b[0m \u001b[32m━━━━━━━━━━━━━━━━━━━━\u001b[0m\u001b[37m\u001b[0m \u001b[1m1s\u001b[0m 6ms/step - accuracy: 0.4148 - loss: 1.2396 - val_accuracy: 0.3748 - val_loss: 1.2876\n",
            "Epoch 39/50\n",
            "\u001b[1m100/101\u001b[0m \u001b[32m━━━━━━━━━━━━━━━━━━━\u001b[0m\u001b[37m━\u001b[0m \u001b[1m0s\u001b[0m 4ms/step - accuracy: 0.4236 - loss: 1.2275\n",
            "Epoch 39: val_loss did not improve from 1.28757\n",
            "\u001b[1m101/101\u001b[0m \u001b[32m━━━━━━━━━━━━━━━━━━━━\u001b[0m\u001b[37m\u001b[0m \u001b[1m1s\u001b[0m 6ms/step - accuracy: 0.4233 - loss: 1.2276 - val_accuracy: 0.3599 - val_loss: 1.2941\n",
            "Epoch 40/50\n",
            "\u001b[1m 99/101\u001b[0m \u001b[32m━━━━━━━━━━━━━━━━━━━\u001b[0m\u001b[37m━\u001b[0m \u001b[1m0s\u001b[0m 4ms/step - accuracy: 0.4279 - loss: 1.2285\n",
            "Epoch 40: val_loss did not improve from 1.28757\n",
            "\u001b[1m101/101\u001b[0m \u001b[32m━━━━━━━━━━━━━━━━━━━━\u001b[0m\u001b[37m\u001b[0m \u001b[1m1s\u001b[0m 5ms/step - accuracy: 0.4272 - loss: 1.2288 - val_accuracy: 0.3611 - val_loss: 1.2900\n",
            "Epoch 41/50\n",
            "\u001b[1m 88/101\u001b[0m \u001b[32m━━━━━━━━━━━━━━━━━\u001b[0m\u001b[37m━━━\u001b[0m \u001b[1m0s\u001b[0m 2ms/step - accuracy: 0.4221 - loss: 1.2247\n",
            "Epoch 41: val_loss did not improve from 1.28757\n",
            "\u001b[1m101/101\u001b[0m \u001b[32m━━━━━━━━━━━━━━━━━━━━\u001b[0m\u001b[37m\u001b[0m \u001b[1m0s\u001b[0m 3ms/step - accuracy: 0.4210 - loss: 1.2261 - val_accuracy: 0.3587 - val_loss: 1.2902\n",
            "Epoch 42/50\n",
            "\u001b[1m 80/101\u001b[0m \u001b[32m━━━━━━━━━━━━━━━\u001b[0m\u001b[37m━━━━━\u001b[0m \u001b[1m0s\u001b[0m 3ms/step - accuracy: 0.4276 - loss: 1.2269\n",
            "Epoch 42: val_loss did not improve from 1.28757\n",
            "\u001b[1m101/101\u001b[0m \u001b[32m━━━━━━━━━━━━━━━━━━━━\u001b[0m\u001b[37m\u001b[0m \u001b[1m1s\u001b[0m 4ms/step - accuracy: 0.4242 - loss: 1.2285 - val_accuracy: 0.3649 - val_loss: 1.2947\n",
            "Epoch 43/50\n",
            "\u001b[1m 89/101\u001b[0m \u001b[32m━━━━━━━━━━━━━━━━━\u001b[0m\u001b[37m━━━\u001b[0m \u001b[1m0s\u001b[0m 2ms/step - accuracy: 0.4311 - loss: 1.2283\n",
            "Epoch 43: val_loss improved from 1.28757 to 1.28561, saving model to best_model.h5\n"
          ]
        },
        {
          "output_type": "stream",
          "name": "stderr",
          "text": [
            "WARNING:absl:You are saving your model as an HDF5 file via `model.save()` or `keras.saving.save_model(model)`. This file format is considered legacy. We recommend using instead the native Keras format, e.g. `model.save('my_model.keras')` or `keras.saving.save_model(model, 'my_model.keras')`. \n"
          ]
        },
        {
          "output_type": "stream",
          "name": "stdout",
          "text": [
            "\b\b\b\b\b\b\b\b\b\b\b\b\b\b\b\b\b\b\b\b\b\b\b\b\b\b\b\b\b\b\b\b\b\b\b\b\b\b\b\b\b\b\b\b\b\b\b\b\b\b\b\b\b\b\b\b\b\b\b\b\b\b\b\b\b\b\b\b\b\b\b\b\b\b\r\u001b[1m101/101\u001b[0m \u001b[32m━━━━━━━━━━━━━━━━━━━━\u001b[0m\u001b[37m\u001b[0m \u001b[1m1s\u001b[0m 4ms/step - accuracy: 0.4282 - loss: 1.2293 - val_accuracy: 0.3736 - val_loss: 1.2856\n",
            "Epoch 44/50\n",
            "\u001b[1m 90/101\u001b[0m \u001b[32m━━━━━━━━━━━━━━━━━\u001b[0m\u001b[37m━━━\u001b[0m \u001b[1m0s\u001b[0m 2ms/step - accuracy: 0.4336 - loss: 1.2187\n",
            "Epoch 44: val_loss did not improve from 1.28561\n",
            "\u001b[1m101/101\u001b[0m \u001b[32m━━━━━━━━━━━━━━━━━━━━\u001b[0m\u001b[37m\u001b[0m \u001b[1m1s\u001b[0m 3ms/step - accuracy: 0.4316 - loss: 1.2198 - val_accuracy: 0.3724 - val_loss: 1.2892\n",
            "Epoch 45/50\n",
            "\u001b[1m 97/101\u001b[0m \u001b[32m━━━━━━━━━━━━━━━━━━━\u001b[0m\u001b[37m━\u001b[0m \u001b[1m0s\u001b[0m 3ms/step - accuracy: 0.4332 - loss: 1.2175\n",
            "Epoch 45: val_loss did not improve from 1.28561\n",
            "\u001b[1m101/101\u001b[0m \u001b[32m━━━━━━━━━━━━━━━━━━━━\u001b[0m\u001b[37m\u001b[0m \u001b[1m1s\u001b[0m 4ms/step - accuracy: 0.4325 - loss: 1.2179 - val_accuracy: 0.3649 - val_loss: 1.2874\n",
            "Epoch 46/50\n",
            "\u001b[1m 82/101\u001b[0m \u001b[32m━━━━━━━━━━━━━━━━\u001b[0m\u001b[37m━━━━\u001b[0m \u001b[1m0s\u001b[0m 3ms/step - accuracy: 0.4188 - loss: 1.2246\n",
            "Epoch 46: val_loss did not improve from 1.28561\n",
            "\u001b[1m101/101\u001b[0m \u001b[32m━━━━━━━━━━━━━━━━━━━━\u001b[0m\u001b[37m\u001b[0m \u001b[1m1s\u001b[0m 4ms/step - accuracy: 0.4164 - loss: 1.2257 - val_accuracy: 0.3649 - val_loss: 1.2928\n",
            "Epoch 47/50\n",
            "\u001b[1m 99/101\u001b[0m \u001b[32m━━━━━━━━━━━━━━━━━━━\u001b[0m\u001b[37m━\u001b[0m \u001b[1m0s\u001b[0m 3ms/step - accuracy: 0.4272 - loss: 1.2157\n",
            "Epoch 47: val_loss did not improve from 1.28561\n",
            "\u001b[1m101/101\u001b[0m \u001b[32m━━━━━━━━━━━━━━━━━━━━\u001b[0m\u001b[37m\u001b[0m \u001b[1m1s\u001b[0m 4ms/step - accuracy: 0.4269 - loss: 1.2160 - val_accuracy: 0.3661 - val_loss: 1.2884\n",
            "Epoch 48/50\n",
            "\u001b[1m 83/101\u001b[0m \u001b[32m━━━━━━━━━━━━━━━━\u001b[0m\u001b[37m━━━━\u001b[0m \u001b[1m0s\u001b[0m 2ms/step - accuracy: 0.4286 - loss: 1.2121\n",
            "Epoch 48: val_loss did not improve from 1.28561\n",
            "\u001b[1m101/101\u001b[0m \u001b[32m━━━━━━━━━━━━━━━━━━━━\u001b[0m\u001b[37m\u001b[0m \u001b[1m1s\u001b[0m 4ms/step - accuracy: 0.4270 - loss: 1.2136 - val_accuracy: 0.3661 - val_loss: 1.2987\n",
            "Epoch 49/50\n",
            "\u001b[1m 88/101\u001b[0m \u001b[32m━━━━━━━━━━━━━━━━━\u001b[0m\u001b[37m━━━\u001b[0m \u001b[1m0s\u001b[0m 2ms/step - accuracy: 0.4342 - loss: 1.2151\n",
            "Epoch 49: val_loss did not improve from 1.28561\n",
            "\u001b[1m101/101\u001b[0m \u001b[32m━━━━━━━━━━━━━━━━━━━━\u001b[0m\u001b[37m\u001b[0m \u001b[1m1s\u001b[0m 3ms/step - accuracy: 0.4321 - loss: 1.2168 - val_accuracy: 0.3761 - val_loss: 1.2916\n",
            "Epoch 50/50\n",
            "\u001b[1m 93/101\u001b[0m \u001b[32m━━━━━━━━━━━━━━━━━━\u001b[0m\u001b[37m━━\u001b[0m \u001b[1m0s\u001b[0m 3ms/step - accuracy: 0.4311 - loss: 1.2158\n",
            "Epoch 50: val_loss did not improve from 1.28561\n",
            "\u001b[1m101/101\u001b[0m \u001b[32m━━━━━━━━━━━━━━━━━━━━\u001b[0m\u001b[37m\u001b[0m \u001b[1m1s\u001b[0m 4ms/step - accuracy: 0.4301 - loss: 1.2163 - val_accuracy: 0.3724 - val_loss: 1.2951\n",
            "Restoring model weights from the end of the best epoch: 43.\n"
          ]
        }
      ]
    },
    {
      "cell_type": "markdown",
      "source": [
        "#14.위 딥러닝 모델의 성능을 평가하려고 합니다.\n",
        "## Matplotlib 라이브러리 활용해서 학습 Accuracy 검증 Accuracy를 그래프로 표시하세요.\n",
        "- 위의 history_le 데이터를 이용하여 그래프를 하나만 그립니다.\n",
        "- 1개의 그래프에 학습Accuracy와 검증Accuracy 2가지를 모두 표시하세요.\n",
        "- 위 2가지 각각의 범례를 'Accuracy', 'Val_Accuracy'로 표시하세요.\n",
        "- 그래프의 타이틀은 'Model Accuracy'로 표시하세요.\n",
        "- X축에는 'Epochs'라고 표시하고 Y축에는 'Accuracy'라고 표시하세요."
      ],
      "metadata": {
        "id": "0zctwbnkIFl4"
      }
    },
    {
      "cell_type": "code",
      "source": [
        "# 여기에 답안코드를 작성하세요.\n",
        "plt.plot(history.history['accuracy'], label='Accuracy')\n",
        "plt.plot(history.history['val_accuracy'], label='Val_Accuracy')\n",
        "\n",
        "plt.title('Model Accuracy')\n",
        "plt.xlabel('Epochs')\n",
        "plt.ylabel('Accuracy')\n",
        "\n",
        "plt.legend()\n",
        "plt.show()"
      ],
      "metadata": {
        "id": "CUPbGtrXIGO1",
        "colab": {
          "base_uri": "https://localhost:8080/",
          "height": 469
        },
        "outputId": "ab1fecec-21e6-4def-e638-fc90e8e92150"
      },
      "execution_count": 28,
      "outputs": [
        {
          "output_type": "display_data",
          "data": {
            "text/plain": [
              "<Figure size 640x480 with 1 Axes>"
            ],
            "image/png": "[encoded data removed]"
          },
          "metadata": {}
        }
      ]
    },
    {
      "cell_type": "markdown",
      "source": [
        "#15.다중 분류 모델 예측 결과를 확인하고 성능을 평가하려고 합니다.\n",
        "- 딥러닝 모델명 : model\n",
        "- 테스트 데이터셋 : x_valid, y_valid\n",
        "- 모델로 예측한 결과를 model_pred 변수에 저장하세요.\n",
        "- np.argmax를 사용하여 각 샘플별 예측 클래스 인덱스를 model_y_pred 변수에 저장하세요.\n",
        "- evaluate 메서드를 사용하여 손실값과 정확도를 각각 model_loss, model_acc 변수에 저장하세요.\n",
        "- confusion_matrix()를 사용하여 y_valid와 예측한 model_y_pred를 비교\n",
        "-- seaborn의 heatmap()을 사용하여 시각화 annot=True, fmt='d', cmap='Blues' 옵션 사용\n",
        "- classification_report()를 사용하여 정밀도, 재현율, f1-score 등 포함된 성능 리포트 출력 (* print 내에 같이 사용하여 출력)"
      ],
      "metadata": {
        "id": "auXZejRGn_YO"
      }
    },
    {
      "cell_type": "code",
      "source": [
        "# 여기에 답안코드를 작성하세요.\n",
        "model_pred = model.predict(x_valid)\n",
        "model_y_pred = np.argmax(model_pred, axis=1)\n",
        "\n",
        "model_loss, model_acc = model.evaluate(x_valid, y_valid)\n",
        "\n",
        "from sklearn.metrics import confusion_matrix, classification_report\n",
        "cm = confusion_matrix(y_valid, model_y_pred)\n",
        "sns.heatmap(data=cm, annot=True, fmt='d', cmap='Blues')\n",
        "plt.show()\n",
        "\n",
        "print(classification_report(y_valid, model_y_pred))\n"
      ],
      "metadata": {
        "id": "b1IAaHIunIXe",
        "colab": {
          "base_uri": "https://localhost:8080/",
          "height": 686
        },
        "outputId": "c9ced56c-726c-47c4-e08b-2d7ad75de261"
      },
      "execution_count": 29,
      "outputs": [
        {
          "output_type": "stream",
          "name": "stdout",
          "text": [
            "\u001b[1m26/26\u001b[0m \u001b[32m━━━━━━━━━━━━━━━━━━━━\u001b[0m\u001b[37m\u001b[0m \u001b[1m0s\u001b[0m 4ms/step\n",
            "\u001b[1m26/26\u001b[0m \u001b[32m━━━━━━━━━━━━━━━━━━━━\u001b[0m\u001b[37m\u001b[0m \u001b[1m0s\u001b[0m 3ms/step - accuracy: 0.3963 - loss: 1.2893 \n"
          ]
        },
        {
          "output_type": "display_data",
          "data": {
            "text/plain": [
              "<Figure size 640x480 with 2 Axes>"
            ],
            "image/png": "[encoded data removed]"
          },
          "metadata": {}
        },
        {
          "output_type": "stream",
          "name": "stdout",
          "text": [
            "              precision    recall  f1-score   support\n",
            "\n",
            "           0       0.53      0.76      0.62       250\n",
            "           1       0.29      0.03      0.05       156\n",
            "           2       0.19      0.34      0.24       127\n",
            "           3       0.33      0.42      0.37       142\n",
            "           4       0.19      0.03      0.05       128\n",
            "\n",
            "    accuracy                           0.37       803\n",
            "   macro avg       0.30      0.31      0.27       803\n",
            "weighted avg       0.34      0.37      0.31       803\n",
            "\n"
          ]
        }
      ]
    },
    {
      "cell_type": "markdown",
      "source": [
        "#16. 학습이 완료된 딥러닝 회귀 모델 model과 랜덤 포레스트 모델 rf를 저장하려고 합니다.\n",
        "- 딥러닝 모델 객체명 : model\n",
        "- 모델을 저장할 파일명 : \"deep_model.h5\"\n",
        "- 모델 저장은 Keras의 save 메서드를 사용하세요.\n",
        "\n",
        "- 랜덤 포레스트 모델 객체명 : rf\n",
        "- 저장할 파일명 : \"rf_model.pkl\"\n",
        "- 모델 저장은 joblib 라이브러리를 사용하세요."
      ],
      "metadata": {
        "id": "lkCV3TIHvdqA"
      }
    },
    {
      "cell_type": "code",
      "source": [
        "# 여기에 답안코드를 작성하세요.\n",
        "model.save(\"deep_model.h5\")\n",
        "\n",
        "import joblib\n",
        "joblib.dump(rf, \"rf_model.pkl\")"
      ],
      "metadata": {
        "colab": {
          "base_uri": "https://localhost:8080/"
        },
        "id": "kGJ92UP_oLnj",
        "outputId": "0203c506-1fe3-46dc-8250-ec7c55e975ee"
      },
      "execution_count": 30,
      "outputs": [
        {
          "output_type": "stream",
          "name": "stderr",
          "text": [
            "WARNING:absl:You are saving your model as an HDF5 file via `model.save()` or `keras.saving.save_model(model)`. This file format is considered legacy. We recommend using instead the native Keras format, e.g. `model.save('my_model.keras')` or `keras.saving.save_model(model, 'my_model.keras')`. \n"
          ]
        },
        {
          "output_type": "execute_result",
          "data": {
            "text/plain": [
              "['rf_model.pkl']"
            ]
          },
          "metadata": {},
          "execution_count": 30
        }
      ]
    },
    {
      "cell_type": "markdown",
      "source": [
        "##1번부터 16번까지 모든 문제를 풀었습니다. 수고하셨습니다.\n",
        "'최종제출 및 종료를' 클릭하셔서 답안을 제출해 주시기 바랍니다."
      ],
      "metadata": {
        "id": "Ck2igOySIGvG"
      }
    }
  ]
}